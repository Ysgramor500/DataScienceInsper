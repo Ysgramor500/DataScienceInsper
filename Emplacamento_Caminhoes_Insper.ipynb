{
 "cells": [
  {
   "cell_type": "code",
   "execution_count": 1,
   "id": "90a871ec",
   "metadata": {},
   "outputs": [],
   "source": [
    "import pandas as pd\n",
    "import numpy as np\n",
    "import pandas_profiling as ProfileReport\n",
    "from sklearn.model_selection import train_test_split\n",
    "import matplotlib.pyplot as plt\n",
    "from statsmodels.graphics.tsaplots import plot_acf, plot_pacf\n",
    "from statsmodels.tsa.statespace.varmax import VARMAX\n",
    "from statsmodels.regression.linear_model import OLS \n",
    "from statsmodels.tsa.api import VAR\n",
    "from statsmodels.tsa.stattools import grangercausalitytests, adfuller\n",
    "from tqdm import tqdm_notebook\n",
    "from itertools import product\n",
    "from sklearn.metrics import mean_squared_error, mean_absolute_percentage_error, mean_absolute_error, r2_score"
   ]
  },
  {
   "cell_type": "code",
   "execution_count": 33,
   "id": "9f784eff",
   "metadata": {},
   "outputs": [],
   "source": [
    "%matplotlib inline"
   ]
  },
  {
   "cell_type": "code",
   "execution_count": 29,
   "id": "2cc8b31e",
   "metadata": {},
   "outputs": [],
   "source": [
    "df_caminhoes = pd.read_excel('D:/MyGitHubProjects/Ciência_de_Dados_e_Inteligência_Artificial_Aplicada/BD_Caminhoes.xlsx')"
   ]
  },
  {
   "cell_type": "code",
   "execution_count": 30,
   "id": "eb92e3ce",
   "metadata": {},
   "outputs": [],
   "source": [
    "df_caminhoes = df_caminhoes.iloc[:,:5].dropna()"
   ]
  },
  {
   "cell_type": "code",
   "execution_count": 31,
   "id": "aba093bd",
   "metadata": {
    "scrolled": false
   },
   "outputs": [
    {
     "data": {
      "text/html": [
       "<div>\n",
       "<style scoped>\n",
       "    .dataframe tbody tr th:only-of-type {\n",
       "        vertical-align: middle;\n",
       "    }\n",
       "\n",
       "    .dataframe tbody tr th {\n",
       "        vertical-align: top;\n",
       "    }\n",
       "\n",
       "    .dataframe thead th {\n",
       "        text-align: right;\n",
       "    }\n",
       "</style>\n",
       "<table border=\"1\" class=\"dataframe\">\n",
       "  <thead>\n",
       "    <tr style=\"text-align: right;\">\n",
       "      <th></th>\n",
       "      <th>Data</th>\n",
       "      <th>Caminhões_Emplac</th>\n",
       "      <th>Automóveis_Com_Emplac</th>\n",
       "      <th>Câmbio</th>\n",
       "      <th>Óleo Diesel - Preço</th>\n",
       "    </tr>\n",
       "  </thead>\n",
       "  <tbody>\n",
       "    <tr>\n",
       "      <th>0</th>\n",
       "      <td>2002-01-01</td>\n",
       "      <td>5328.0</td>\n",
       "      <td>108254.0</td>\n",
       "      <td>2.377100</td>\n",
       "      <td>0.8835</td>\n",
       "    </tr>\n",
       "    <tr>\n",
       "      <th>1</th>\n",
       "      <td>2002-02-01</td>\n",
       "      <td>4561.0</td>\n",
       "      <td>91737.0</td>\n",
       "      <td>2.418800</td>\n",
       "      <td>0.8784</td>\n",
       "    </tr>\n",
       "    <tr>\n",
       "      <th>2</th>\n",
       "      <td>2002-03-01</td>\n",
       "      <td>5310.0</td>\n",
       "      <td>116635.0</td>\n",
       "      <td>2.345800</td>\n",
       "      <td>0.8894</td>\n",
       "    </tr>\n",
       "    <tr>\n",
       "      <th>3</th>\n",
       "      <td>2002-04-01</td>\n",
       "      <td>5346.0</td>\n",
       "      <td>131601.0</td>\n",
       "      <td>2.319600</td>\n",
       "      <td>0.9583</td>\n",
       "    </tr>\n",
       "    <tr>\n",
       "      <th>4</th>\n",
       "      <td>2002-05-01</td>\n",
       "      <td>6255.0</td>\n",
       "      <td>115136.0</td>\n",
       "      <td>2.479600</td>\n",
       "      <td>0.9762</td>\n",
       "    </tr>\n",
       "    <tr>\n",
       "      <th>...</th>\n",
       "      <td>...</td>\n",
       "      <td>...</td>\n",
       "      <td>...</td>\n",
       "      <td>...</td>\n",
       "      <td>...</td>\n",
       "    </tr>\n",
       "    <tr>\n",
       "      <th>236</th>\n",
       "      <td>2021-09-01</td>\n",
       "      <td>11565.0</td>\n",
       "      <td>142339.0</td>\n",
       "      <td>5.279090</td>\n",
       "      <td>4.7280</td>\n",
       "    </tr>\n",
       "    <tr>\n",
       "      <th>237</th>\n",
       "      <td>2021-10-01</td>\n",
       "      <td>11086.0</td>\n",
       "      <td>150068.0</td>\n",
       "      <td>5.539375</td>\n",
       "      <td>5.0330</td>\n",
       "    </tr>\n",
       "    <tr>\n",
       "      <th>238</th>\n",
       "      <td>2021-11-01</td>\n",
       "      <td>10559.0</td>\n",
       "      <td>161016.0</td>\n",
       "      <td>5.556260</td>\n",
       "      <td>5.3590</td>\n",
       "    </tr>\n",
       "    <tr>\n",
       "      <th>239</th>\n",
       "      <td>2021-12-01</td>\n",
       "      <td>11985.0</td>\n",
       "      <td>193529.0</td>\n",
       "      <td>5.650604</td>\n",
       "      <td>5.3470</td>\n",
       "    </tr>\n",
       "    <tr>\n",
       "      <th>240</th>\n",
       "      <td>2022-01-01</td>\n",
       "      <td>8516.0</td>\n",
       "      <td>116599.0</td>\n",
       "      <td>5.533505</td>\n",
       "      <td>5.4970</td>\n",
       "    </tr>\n",
       "  </tbody>\n",
       "</table>\n",
       "<p>241 rows × 5 columns</p>\n",
       "</div>"
      ],
      "text/plain": [
       "          Data  Caminhões_Emplac  Automóveis_Com_Emplac    Câmbio  \\\n",
       "0   2002-01-01            5328.0               108254.0  2.377100   \n",
       "1   2002-02-01            4561.0                91737.0  2.418800   \n",
       "2   2002-03-01            5310.0               116635.0  2.345800   \n",
       "3   2002-04-01            5346.0               131601.0  2.319600   \n",
       "4   2002-05-01            6255.0               115136.0  2.479600   \n",
       "..         ...               ...                    ...       ...   \n",
       "236 2021-09-01           11565.0               142339.0  5.279090   \n",
       "237 2021-10-01           11086.0               150068.0  5.539375   \n",
       "238 2021-11-01           10559.0               161016.0  5.556260   \n",
       "239 2021-12-01           11985.0               193529.0  5.650604   \n",
       "240 2022-01-01            8516.0               116599.0  5.533505   \n",
       "\n",
       "     Óleo Diesel - Preço  \n",
       "0                 0.8835  \n",
       "1                 0.8784  \n",
       "2                 0.8894  \n",
       "3                 0.9583  \n",
       "4                 0.9762  \n",
       "..                   ...  \n",
       "236               4.7280  \n",
       "237               5.0330  \n",
       "238               5.3590  \n",
       "239               5.3470  \n",
       "240               5.4970  \n",
       "\n",
       "[241 rows x 5 columns]"
      ]
     },
     "execution_count": 31,
     "metadata": {},
     "output_type": "execute_result"
    }
   ],
   "source": [
    "df_caminhoes"
   ]
  },
  {
   "cell_type": "code",
   "execution_count": 38,
   "id": "330280e8",
   "metadata": {},
   "outputs": [
    {
     "data": {
      "text/plain": [
       "[<matplotlib.lines.Line2D at 0x1b352dc7fd0>]"
      ]
     },
     "execution_count": 38,
     "metadata": {},
     "output_type": "execute_result"
    },
    {
     "data": {
      "image/png": "[encoded data removed]",
      "text/plain": [
       "<Figure size 432x720 with 4 Axes>"
      ]
     },
     "metadata": {
      "needs_background": "light"
     },
     "output_type": "display_data"
    }
   ],
   "source": [
    "fig, axs = plt.subplots(4,figsize=(6,10))\n",
    "fig.suptitle('Comparação das Séries')\n",
    "fig.tight_layout(pad=3.0)\n",
    "axs[0].title.set_text('Emplacamento de Caminhões')\n",
    "axs[1].title.set_text('Automóveis_Com_Emplac')\n",
    "axs[2].title.set_text('Câmbio')\n",
    "axs[3].title.set_text('Óleo Diesel - Preço')\n",
    "axs[0].plot(df_caminhoes['Data'], df_caminhoes['Caminhões_Emplac'])\n",
    "axs[1].plot(df_caminhoes['Data'],df_caminhoes['Automóveis_Com_Emplac'])\n",
    "axs[2].plot(df_caminhoes['Data'],df_caminhoes['Câmbio'])\n",
    "axs[3].plot(df_caminhoes['Data'],df_caminhoes['Óleo Diesel - Preço'])"
   ]
  },
  {
   "cell_type": "code",
   "execution_count": 39,
   "id": "184f8d4b",
   "metadata": {},
   "outputs": [
    {
     "data": {
      "text/plain": [
       "[<matplotlib.lines.Line2D at 0x1b353191340>]"
      ]
     },
     "execution_count": 39,
     "metadata": {},
     "output_type": "execute_result"
    },
    {
     "data": {
      "image/png": "[encoded data removed]",
      "text/plain": [
       "<Figure size 432x720 with 4 Axes>"
      ]
     },
     "metadata": {
      "needs_background": "light"
     },
     "output_type": "display_data"
    }
   ],
   "source": [
    "fig, axs = plt.subplots(4,figsize=(6,10))\n",
    "fig.suptitle('Comparação das Séries Estacionárias')\n",
    "fig.tight_layout(pad=3.0)\n",
    "axs[0].title.set_text('Emplacamento de Caminhões')\n",
    "axs[1].title.set_text('Automóveis_Com_Emplac')\n",
    "axs[2].title.set_text('Câmbio')\n",
    "axs[3].title.set_text('Óleo Diesel - Preço')\n",
    "axs[0].plot(df_caminhoes['Data'], df_caminhoes['Caminhões_Emplac'].diff())\n",
    "axs[1].plot(df_caminhoes['Data'],df_caminhoes['Automóveis_Com_Emplac'].diff())\n",
    "axs[2].plot(df_caminhoes['Data'],df_caminhoes['Câmbio'].diff())\n",
    "axs[3].plot(df_caminhoes['Data'],df_caminhoes['Óleo Diesel - Preço'].diff())"
   ]
  },
  {
   "cell_type": "code",
   "execution_count": 40,
   "id": "bbcf3d51",
   "metadata": {},
   "outputs": [
    {
     "data": {
      "text/html": [
       "<div>\n",
       "<style scoped>\n",
       "    .dataframe tbody tr th:only-of-type {\n",
       "        vertical-align: middle;\n",
       "    }\n",
       "\n",
       "    .dataframe tbody tr th {\n",
       "        vertical-align: top;\n",
       "    }\n",
       "\n",
       "    .dataframe thead th {\n",
       "        text-align: right;\n",
       "    }\n",
       "</style>\n",
       "<table border=\"1\" class=\"dataframe\">\n",
       "  <thead>\n",
       "    <tr style=\"text-align: right;\">\n",
       "      <th></th>\n",
       "      <th>Caminhões_Emplac</th>\n",
       "      <th>Automóveis_Com_Emplac</th>\n",
       "      <th>Câmbio</th>\n",
       "      <th>Óleo Diesel - Preço</th>\n",
       "    </tr>\n",
       "  </thead>\n",
       "  <tbody>\n",
       "    <tr>\n",
       "      <th>Caminhões_Emplac</th>\n",
       "      <td>1.000000</td>\n",
       "      <td>0.783903</td>\n",
       "      <td>-0.344036</td>\n",
       "      <td>0.011663</td>\n",
       "    </tr>\n",
       "    <tr>\n",
       "      <th>Automóveis_Com_Emplac</th>\n",
       "      <td>0.783903</td>\n",
       "      <td>1.000000</td>\n",
       "      <td>-0.423845</td>\n",
       "      <td>0.071396</td>\n",
       "    </tr>\n",
       "    <tr>\n",
       "      <th>Câmbio</th>\n",
       "      <td>-0.344036</td>\n",
       "      <td>-0.423845</td>\n",
       "      <td>1.000000</td>\n",
       "      <td>0.740158</td>\n",
       "    </tr>\n",
       "    <tr>\n",
       "      <th>Óleo Diesel - Preço</th>\n",
       "      <td>0.011663</td>\n",
       "      <td>0.071396</td>\n",
       "      <td>0.740158</td>\n",
       "      <td>1.000000</td>\n",
       "    </tr>\n",
       "  </tbody>\n",
       "</table>\n",
       "</div>"
      ],
      "text/plain": [
       "                       Caminhões_Emplac  Automóveis_Com_Emplac    Câmbio  \\\n",
       "Caminhões_Emplac               1.000000               0.783903 -0.344036   \n",
       "Automóveis_Com_Emplac          0.783903               1.000000 -0.423845   \n",
       "Câmbio                        -0.344036              -0.423845  1.000000   \n",
       "Óleo Diesel - Preço            0.011663               0.071396  0.740158   \n",
       "\n",
       "                       Óleo Diesel - Preço  \n",
       "Caminhões_Emplac                  0.011663  \n",
       "Automóveis_Com_Emplac             0.071396  \n",
       "Câmbio                            0.740158  \n",
       "Óleo Diesel - Preço               1.000000  "
      ]
     },
     "execution_count": 40,
     "metadata": {},
     "output_type": "execute_result"
    }
   ],
   "source": [
    "df_caminhoes[['Caminhões_Emplac','Automóveis_Com_Emplac','Câmbio','Óleo Diesel - Preço']].corr()"
   ]
  },
  {
   "cell_type": "code",
   "execution_count": 42,
   "id": "d807abdd",
   "metadata": {},
   "outputs": [
    {
     "data": {
      "text/html": [
       "<div>\n",
       "<style scoped>\n",
       "    .dataframe tbody tr th:only-of-type {\n",
       "        vertical-align: middle;\n",
       "    }\n",
       "\n",
       "    .dataframe tbody tr th {\n",
       "        vertical-align: top;\n",
       "    }\n",
       "\n",
       "    .dataframe thead th {\n",
       "        text-align: right;\n",
       "    }\n",
       "</style>\n",
       "<table border=\"1\" class=\"dataframe\">\n",
       "  <thead>\n",
       "    <tr style=\"text-align: right;\">\n",
       "      <th></th>\n",
       "      <th>Caminhões Emplacamento</th>\n",
       "      <th>Automóveis Emplacamento</th>\n",
       "      <th>Câmbio</th>\n",
       "      <th>Óleo Diesel</th>\n",
       "    </tr>\n",
       "  </thead>\n",
       "  <tbody>\n",
       "    <tr>\n",
       "      <th>ADF Statistic</th>\n",
       "      <td>-2.088053</td>\n",
       "      <td>-1.452867</td>\n",
       "      <td>0.141701</td>\n",
       "      <td>1.761759</td>\n",
       "    </tr>\n",
       "    <tr>\n",
       "      <th>p-value</th>\n",
       "      <td>0.249346</td>\n",
       "      <td>0.556685</td>\n",
       "      <td>0.968796</td>\n",
       "      <td>0.998270</td>\n",
       "    </tr>\n",
       "  </tbody>\n",
       "</table>\n",
       "</div>"
      ],
      "text/plain": [
       "               Caminhões Emplacamento  Automóveis Emplacamento    Câmbio  \\\n",
       "ADF Statistic               -2.088053                -1.452867  0.141701   \n",
       "p-value                      0.249346                 0.556685  0.968796   \n",
       "\n",
       "               Óleo Diesel  \n",
       "ADF Statistic     1.761759  \n",
       "p-value           0.998270  "
      ]
     },
     "execution_count": 42,
     "metadata": {},
     "output_type": "execute_result"
    }
   ],
   "source": [
    "ad_fuller_result_1 = adfuller(df_caminhoes['Caminhões_Emplac'])\n",
    "ad_fuller_result_2 = adfuller(df_caminhoes['Automóveis_Com_Emplac'])\n",
    "ad_fuller_result_3 = adfuller(df_caminhoes['Câmbio'])\n",
    "ad_fuller_result_4 = adfuller(df_caminhoes['Óleo Diesel - Preço'])\n",
    "\n",
    "Ad_fuller = pd.DataFrame({'Caminhões Emplacamento':[ad_fuller_result_1[0],ad_fuller_result_1[1]],'Automóveis Emplacamento':[ad_fuller_result_2[0],ad_fuller_result_2[1]], 'Câmbio':[ad_fuller_result_3[0],ad_fuller_result_3[1]], 'Óleo Diesel':[ad_fuller_result_4[0],ad_fuller_result_4[1]]})\n",
    "Ad_fuller.rename(index={0:'ADF Statistic',1:'p-value'},inplace=True)\n",
    "\n",
    "Ad_fuller"
   ]
  },
  {
   "cell_type": "code",
   "execution_count": 44,
   "id": "09158065",
   "metadata": {},
   "outputs": [
    {
     "data": {
      "text/html": [
       "<div>\n",
       "<style scoped>\n",
       "    .dataframe tbody tr th:only-of-type {\n",
       "        vertical-align: middle;\n",
       "    }\n",
       "\n",
       "    .dataframe tbody tr th {\n",
       "        vertical-align: top;\n",
       "    }\n",
       "\n",
       "    .dataframe thead th {\n",
       "        text-align: right;\n",
       "    }\n",
       "</style>\n",
       "<table border=\"1\" class=\"dataframe\">\n",
       "  <thead>\n",
       "    <tr style=\"text-align: right;\">\n",
       "      <th></th>\n",
       "      <th>Caminhões Emplacamento</th>\n",
       "      <th>Automóveis Emplacamento</th>\n",
       "      <th>Câmbio</th>\n",
       "      <th>Óleo Diesel</th>\n",
       "    </tr>\n",
       "  </thead>\n",
       "  <tbody>\n",
       "    <tr>\n",
       "      <th>ADF Statistic</th>\n",
       "      <td>-4.497</td>\n",
       "      <td>-5.591</td>\n",
       "      <td>-5.729</td>\n",
       "      <td>-10.093</td>\n",
       "    </tr>\n",
       "    <tr>\n",
       "      <th>p-value</th>\n",
       "      <td>0.000</td>\n",
       "      <td>0.000</td>\n",
       "      <td>0.000</td>\n",
       "      <td>0.000</td>\n",
       "    </tr>\n",
       "  </tbody>\n",
       "</table>\n",
       "</div>"
      ],
      "text/plain": [
       "               Caminhões Emplacamento  Automóveis Emplacamento  Câmbio  \\\n",
       "ADF Statistic                  -4.497                   -5.591  -5.729   \n",
       "p-value                         0.000                    0.000   0.000   \n",
       "\n",
       "               Óleo Diesel  \n",
       "ADF Statistic      -10.093  \n",
       "p-value              0.000  "
      ]
     },
     "execution_count": 44,
     "metadata": {},
     "output_type": "execute_result"
    }
   ],
   "source": [
    "ad_fuller_result_1 = adfuller(df_caminhoes['Caminhões_Emplac'].diff()[1:])\n",
    "ad_fuller_result_2 = adfuller(df_caminhoes['Automóveis_Com_Emplac'].diff()[1:])\n",
    "ad_fuller_result_3 = adfuller(df_caminhoes['Câmbio'].diff()[1:])\n",
    "ad_fuller_result_4 = adfuller(df_caminhoes['Óleo Diesel - Preço'].diff()[1:])\n",
    "\n",
    "Ad_fuller = pd.DataFrame({'Caminhões Emplacamento':[ad_fuller_result_1[0],ad_fuller_result_1[1]],'Automóveis Emplacamento':[ad_fuller_result_2[0],ad_fuller_result_2[1]], 'Câmbio':[ad_fuller_result_3[0],ad_fuller_result_3[1]], 'Óleo Diesel':[ad_fuller_result_4[0],ad_fuller_result_4[1]]})\n",
    "Ad_fuller.rename(index={0:'ADF Statistic',1:'p-value'},inplace=True)\n",
    "\n",
    "Ad_fuller.round(3)"
   ]
  },
  {
   "cell_type": "code",
   "execution_count": 49,
   "id": "dd927ded",
   "metadata": {},
   "outputs": [
    {
     "name": "stdout",
     "output_type": "stream",
     "text": [
      "O Emplacamento de caminhões impacta o Câmbio?\n",
      "\n",
      "-------------------------------\n",
      "\n",
      "Granger Causality\n",
      "number of lags (no zero) 1\n",
      "ssr based F test:         F=1.6169  , p=0.2048  , df_denom=236, df_num=1\n",
      "ssr based chi2 test:   chi2=1.6375  , p=0.2007  , df=1\n",
      "likelihood ratio test: chi2=1.6319  , p=0.2014  , df=1\n",
      "parameter F test:         F=1.6169  , p=0.2048  , df_denom=236, df_num=1\n",
      "\n",
      "Granger Causality\n",
      "number of lags (no zero) 2\n",
      "ssr based F test:         F=1.0756  , p=0.3428  , df_denom=233, df_num=2\n",
      "ssr based chi2 test:   chi2=2.1974  , p=0.3333  , df=2\n",
      "likelihood ratio test: chi2=2.1873  , p=0.3350  , df=2\n",
      "parameter F test:         F=1.0756  , p=0.3428  , df_denom=233, df_num=2\n",
      "\n",
      "-------------------------------\n",
      "\n",
      "O Câmbio Afeta o emplacamento de caminhões?\n",
      "\n",
      "-------------------------------\n",
      "\n",
      "Granger Causality\n",
      "number of lags (no zero) 1\n",
      "ssr based F test:         F=2.6373  , p=0.1057  , df_denom=236, df_num=1\n",
      "ssr based chi2 test:   chi2=2.6708  , p=0.1022  , df=1\n",
      "likelihood ratio test: chi2=2.6560  , p=0.1032  , df=1\n",
      "parameter F test:         F=2.6373  , p=0.1057  , df_denom=236, df_num=1\n",
      "\n",
      "Granger Causality\n",
      "number of lags (no zero) 2\n",
      "ssr based F test:         F=2.3264  , p=0.0999  , df_denom=233, df_num=2\n",
      "ssr based chi2 test:   chi2=4.7526  , p=0.0929  , df=2\n",
      "likelihood ratio test: chi2=4.7058  , p=0.0951  , df=2\n",
      "parameter F test:         F=2.3264  , p=0.0999  , df_denom=233, df_num=2\n",
      "\n",
      "-------------------------------\n",
      "\n",
      "O Óleo diesel afeta o emplacamento de caminhões?\n",
      "\n",
      "-------------------------------\n",
      "\n",
      "Granger Causality\n",
      "number of lags (no zero) 1\n",
      "ssr based F test:         F=1.5741  , p=0.2109  , df_denom=236, df_num=1\n",
      "ssr based chi2 test:   chi2=1.5941  , p=0.2067  , df=1\n",
      "likelihood ratio test: chi2=1.5888  , p=0.2075  , df=1\n",
      "parameter F test:         F=1.5741  , p=0.2109  , df_denom=236, df_num=1\n",
      "\n",
      "Granger Causality\n",
      "number of lags (no zero) 2\n",
      "ssr based F test:         F=1.3679  , p=0.2567  , df_denom=233, df_num=2\n",
      "ssr based chi2 test:   chi2=2.7945  , p=0.2473  , df=2\n",
      "likelihood ratio test: chi2=2.7782  , p=0.2493  , df=2\n",
      "parameter F test:         F=1.3679  , p=0.2567  , df_denom=233, df_num=2\n",
      "\n",
      "-------------------------------\n",
      "\n",
      "O emplacamento de caminhões afeta o óleo diesel?\n",
      "\n",
      "-------------------------------\n",
      "\n",
      "Granger Causality\n",
      "number of lags (no zero) 1\n",
      "ssr based F test:         F=0.0027  , p=0.9582  , df_denom=236, df_num=1\n",
      "ssr based chi2 test:   chi2=0.0028  , p=0.9579  , df=1\n",
      "likelihood ratio test: chi2=0.0028  , p=0.9579  , df=1\n",
      "parameter F test:         F=0.0027  , p=0.9582  , df_denom=236, df_num=1\n",
      "\n",
      "Granger Causality\n",
      "number of lags (no zero) 2\n",
      "ssr based F test:         F=0.9747  , p=0.3788  , df_denom=233, df_num=2\n",
      "ssr based chi2 test:   chi2=1.9912  , p=0.3695  , df=2\n",
      "likelihood ratio test: chi2=1.9830  , p=0.3710  , df=2\n",
      "parameter F test:         F=0.9747  , p=0.3788  , df_denom=233, df_num=2\n"
     ]
    }
   ],
   "source": [
    "print('O Emplacamento de caminhões impacta o Câmbio?\\n')\n",
    "print('-------------------------------')\n",
    "granger_1 = grangercausalitytests(df_caminhoes[['Câmbio','Caminhões_Emplac']].diff()[1:],2)\n",
    "print('\\n-------------------------------\\n')\n",
    "print('O Câmbio Afeta o emplacamento de caminhões?\\n')\n",
    "print('-------------------------------')\n",
    "granger_2 = grangercausalitytests(df_caminhoes[['Caminhões_Emplac','Câmbio']].diff()[1:],2)\n",
    "print('\\n-------------------------------\\n')\n",
    "print('O Óleo diesel afeta o emplacamento de caminhões?\\n')\n",
    "print('-------------------------------')\n",
    "granger_2 = grangercausalitytests(df_caminhoes[['Caminhões_Emplac','Óleo Diesel - Preço']].diff()[1:],2)\n",
    "print('\\n-------------------------------\\n')\n",
    "print('O emplacamento de caminhões afeta o óleo diesel?\\n')\n",
    "print('-------------------------------')\n",
    "granger_2 = grangercausalitytests(df_caminhoes[['Óleo Diesel - Preço','Caminhões_Emplac']].diff()[1:],2)\n"
   ]
  },
  {
   "cell_type": "code",
   "execution_count": 50,
   "id": "51368791",
   "metadata": {
    "scrolled": false
   },
   "outputs": [
    {
     "name": "stdout",
     "output_type": "stream",
     "text": [
      "O Emplacamento de automóveis impacta o Câmbio?\n",
      "\n",
      "-------------------------------\n",
      "\n",
      "Granger Causality\n",
      "number of lags (no zero) 1\n",
      "ssr based F test:         F=0.6345  , p=0.4265  , df_denom=236, df_num=1\n",
      "ssr based chi2 test:   chi2=0.6426  , p=0.4228  , df=1\n",
      "likelihood ratio test: chi2=0.6418  , p=0.4231  , df=1\n",
      "parameter F test:         F=0.6345  , p=0.4265  , df_denom=236, df_num=1\n",
      "\n",
      "Granger Causality\n",
      "number of lags (no zero) 2\n",
      "ssr based F test:         F=0.4657  , p=0.6283  , df_denom=233, df_num=2\n",
      "ssr based chi2 test:   chi2=0.9513  , p=0.6215  , df=2\n",
      "likelihood ratio test: chi2=0.9494  , p=0.6221  , df=2\n",
      "parameter F test:         F=0.4657  , p=0.6283  , df_denom=233, df_num=2\n",
      "\n",
      "Granger Causality\n",
      "number of lags (no zero) 3\n",
      "ssr based F test:         F=0.3334  , p=0.8012  , df_denom=230, df_num=3\n",
      "ssr based chi2 test:   chi2=1.0305  , p=0.7939  , df=3\n",
      "likelihood ratio test: chi2=1.0283  , p=0.7944  , df=3\n",
      "parameter F test:         F=0.3334  , p=0.8012  , df_denom=230, df_num=3\n",
      "\n",
      "Granger Causality\n",
      "number of lags (no zero) 4\n",
      "ssr based F test:         F=0.8140  , p=0.5173  , df_denom=227, df_num=4\n",
      "ssr based chi2 test:   chi2=3.3852  , p=0.4955  , df=4\n",
      "likelihood ratio test: chi2=3.3611  , p=0.4993  , df=4\n",
      "parameter F test:         F=0.8140  , p=0.5173  , df_denom=227, df_num=4\n",
      "\n",
      "-------------------------------\n",
      "\n",
      "O Câmbio Afeta o emplacamento de automóveis?\n",
      "\n",
      "-------------------------------\n",
      "\n",
      "Granger Causality\n",
      "number of lags (no zero) 1\n",
      "ssr based F test:         F=3.3614  , p=0.0680  , df_denom=236, df_num=1\n",
      "ssr based chi2 test:   chi2=3.4041  , p=0.0650  , df=1\n",
      "likelihood ratio test: chi2=3.3801  , p=0.0660  , df=1\n",
      "parameter F test:         F=3.3614  , p=0.0680  , df_denom=236, df_num=1\n",
      "\n",
      "Granger Causality\n",
      "number of lags (no zero) 2\n",
      "ssr based F test:         F=3.1749  , p=0.0436  , df_denom=233, df_num=2\n",
      "ssr based chi2 test:   chi2=6.4860  , p=0.0390  , df=2\n",
      "likelihood ratio test: chi2=6.3992  , p=0.0408  , df=2\n",
      "parameter F test:         F=3.1749  , p=0.0436  , df_denom=233, df_num=2\n",
      "\n",
      "Granger Causality\n",
      "number of lags (no zero) 3\n",
      "ssr based F test:         F=2.1317  , p=0.0970  , df_denom=230, df_num=3\n",
      "ssr based chi2 test:   chi2=6.5896  , p=0.0862  , df=3\n",
      "likelihood ratio test: chi2=6.4997  , p=0.0897  , df=3\n",
      "parameter F test:         F=2.1317  , p=0.0970  , df_denom=230, df_num=3\n",
      "\n",
      "Granger Causality\n",
      "number of lags (no zero) 4\n",
      "ssr based F test:         F=1.6713  , p=0.1575  , df_denom=227, df_num=4\n",
      "ssr based chi2 test:   chi2=6.9504  , p=0.1385  , df=4\n",
      "likelihood ratio test: chi2=6.8500  , p=0.1440  , df=4\n",
      "parameter F test:         F=1.6713  , p=0.1575  , df_denom=227, df_num=4\n",
      "\n",
      "-------------------------------\n",
      "\n",
      "O Óleo diesel afeta o emplacamento de automóveis?\n",
      "\n",
      "-------------------------------\n",
      "\n",
      "Granger Causality\n",
      "number of lags (no zero) 1\n",
      "ssr based F test:         F=0.6226  , p=0.4309  , df_denom=236, df_num=1\n",
      "ssr based chi2 test:   chi2=0.6306  , p=0.4272  , df=1\n",
      "likelihood ratio test: chi2=0.6297  , p=0.4275  , df=1\n",
      "parameter F test:         F=0.6226  , p=0.4309  , df_denom=236, df_num=1\n",
      "\n",
      "Granger Causality\n",
      "number of lags (no zero) 2\n",
      "ssr based F test:         F=1.7829  , p=0.1704  , df_denom=233, df_num=2\n",
      "ssr based chi2 test:   chi2=3.6422  , p=0.1618  , df=2\n",
      "likelihood ratio test: chi2=3.6146  , p=0.1641  , df=2\n",
      "parameter F test:         F=1.7829  , p=0.1704  , df_denom=233, df_num=2\n",
      "\n",
      "Granger Causality\n",
      "number of lags (no zero) 3\n",
      "ssr based F test:         F=3.3255  , p=0.0205  , df_denom=230, df_num=3\n",
      "ssr based chi2 test:   chi2=10.2801 , p=0.0163  , df=3\n",
      "likelihood ratio test: chi2=10.0634 , p=0.0180  , df=3\n",
      "parameter F test:         F=3.3255  , p=0.0205  , df_denom=230, df_num=3\n",
      "\n",
      "Granger Causality\n",
      "number of lags (no zero) 4\n",
      "ssr based F test:         F=2.6813  , p=0.0324  , df_denom=227, df_num=4\n",
      "ssr based chi2 test:   chi2=11.1506 , p=0.0249  , df=4\n",
      "likelihood ratio test: chi2=10.8952 , p=0.0278  , df=4\n",
      "parameter F test:         F=2.6813  , p=0.0324  , df_denom=227, df_num=4\n",
      "\n",
      "-------------------------------\n",
      "\n",
      "O emplacamento de automóveis afeta o óleo diesel?\n",
      "\n",
      "-------------------------------\n",
      "\n",
      "Granger Causality\n",
      "number of lags (no zero) 1\n",
      "ssr based F test:         F=0.0435  , p=0.8350  , df_denom=236, df_num=1\n",
      "ssr based chi2 test:   chi2=0.0440  , p=0.8338  , df=1\n",
      "likelihood ratio test: chi2=0.0440  , p=0.8338  , df=1\n",
      "parameter F test:         F=0.0435  , p=0.8350  , df_denom=236, df_num=1\n",
      "\n",
      "Granger Causality\n",
      "number of lags (no zero) 2\n",
      "ssr based F test:         F=0.5295  , p=0.5896  , df_denom=233, df_num=2\n",
      "ssr based chi2 test:   chi2=1.0817  , p=0.5823  , df=2\n",
      "likelihood ratio test: chi2=1.0792  , p=0.5830  , df=2\n",
      "parameter F test:         F=0.5295  , p=0.5896  , df_denom=233, df_num=2\n",
      "\n",
      "Granger Causality\n",
      "number of lags (no zero) 3\n",
      "ssr based F test:         F=1.5669  , p=0.1982  , df_denom=230, df_num=3\n",
      "ssr based chi2 test:   chi2=4.8436  , p=0.1836  , df=3\n",
      "likelihood ratio test: chi2=4.7948  , p=0.1875  , df=3\n",
      "parameter F test:         F=1.5669  , p=0.1982  , df_denom=230, df_num=3\n",
      "\n",
      "Granger Causality\n",
      "number of lags (no zero) 4\n",
      "ssr based F test:         F=1.7400  , p=0.1421  , df_denom=227, df_num=4\n",
      "ssr based chi2 test:   chi2=7.2357  , p=0.1239  , df=4\n",
      "likelihood ratio test: chi2=7.1270  , p=0.1293  , df=4\n",
      "parameter F test:         F=1.7400  , p=0.1421  , df_denom=227, df_num=4\n"
     ]
    }
   ],
   "source": [
    "print('O Emplacamento de automóveis impacta o Câmbio?\\n')\n",
    "print('-------------------------------')\n",
    "granger_1 = grangercausalitytests(df_caminhoes[['Câmbio','Automóveis_Com_Emplac']].diff()[1:],4)\n",
    "print('\\n-------------------------------\\n')\n",
    "print('O Câmbio Afeta o emplacamento de automóveis?\\n')\n",
    "print('-------------------------------')\n",
    "granger_2 = grangercausalitytests(df_caminhoes[['Automóveis_Com_Emplac','Câmbio']].diff()[1:],4)\n",
    "print('\\n-------------------------------\\n')\n",
    "print('O Óleo diesel afeta o emplacamento de automóveis?\\n')\n",
    "print('-------------------------------')\n",
    "granger_2 = grangercausalitytests(df_caminhoes[['Automóveis_Com_Emplac','Óleo Diesel - Preço']].diff()[1:],4)\n",
    "print('\\n-------------------------------\\n')\n",
    "print('O emplacamento de automóveis afeta o óleo diesel?\\n')\n",
    "print('-------------------------------')\n",
    "granger_2 = grangercausalitytests(df_caminhoes[['Óleo Diesel - Preço','Automóveis_Com_Emplac']].diff()[1:],4)\n"
   ]
  },
  {
   "cell_type": "code",
   "execution_count": 59,
   "id": "84a1c1b8",
   "metadata": {
    "scrolled": true
   },
   "outputs": [
    {
     "name": "stdout",
     "output_type": "stream",
     "text": [
      "(217, 2)\n",
      "(24, 2)\n",
      "\n",
      "----------------------------\n",
      " Cross-Validation número 0\n",
      "----------------------------\n",
      "\n",
      "\n"
     ]
    },
    {
     "name": "stderr",
     "output_type": "stream",
     "text": [
      "d:\\python\\lib\\site-packages\\scipy\\linalg\\_solvers.py:214: LinAlgWarning: Ill-conditioned matrix (rcond=2.97386e-20): result may not be accurate.\n",
      "  x = solve(lhs, q.flatten())\n"
     ]
    },
    {
     "name": "stdout",
     "output_type": "stream",
     "text": [
      "LAG sendo Testado: 1\n",
      "MAE: 45055.24187546349\n",
      "MSE: 2818.588120311259\n",
      "MAPE: 0.36232742671463863\n",
      "AIC: 4798.0416584846225\n",
      "------------------------\n"
     ]
    },
    {
     "name": "stderr",
     "output_type": "stream",
     "text": [
      "d:\\python\\lib\\site-packages\\scipy\\linalg\\_solvers.py:214: LinAlgWarning: Ill-conditioned matrix (rcond=7.37204e-21): result may not be accurate.\n",
      "  x = solve(lhs, q.flatten())\n"
     ]
    },
    {
     "name": "stdout",
     "output_type": "stream",
     "text": [
      "LAG sendo Testado: 2\n",
      "MAE: 39728.89377176847\n",
      "MSE: 2576.0546834467928\n",
      "MAPE: 0.35470468845737596\n",
      "AIC: 4769.466378063929\n",
      "------------------------\n"
     ]
    },
    {
     "name": "stderr",
     "output_type": "stream",
     "text": [
      "d:\\python\\lib\\site-packages\\scipy\\linalg\\_solvers.py:214: LinAlgWarning: Ill-conditioned matrix (rcond=1.44843e-21): result may not be accurate.\n",
      "  x = solve(lhs, q.flatten())\n",
      "d:\\python\\lib\\site-packages\\statsmodels\\base\\model.py:604: ConvergenceWarning: Maximum Likelihood optimization failed to converge. Check mle_retvals\n",
      "  warnings.warn(\"Maximum Likelihood optimization failed to \"\n",
      "d:\\python\\lib\\site-packages\\scipy\\linalg\\_solvers.py:214: LinAlgWarning: Ill-conditioned matrix (rcond=8.4298e-22): result may not be accurate.\n",
      "  x = solve(lhs, q.flatten())\n"
     ]
    },
    {
     "name": "stdout",
     "output_type": "stream",
     "text": [
      "LAG sendo Testado: 3\n",
      "MAE: 35972.16183252504\n",
      "MSE: 2512.484430900346\n",
      "MAPE: 0.34941261098273774\n",
      "AIC: 4748.512744287689\n",
      "------------------------\n"
     ]
    },
    {
     "name": "stderr",
     "output_type": "stream",
     "text": [
      "d:\\python\\lib\\site-packages\\statsmodels\\base\\model.py:604: ConvergenceWarning: Maximum Likelihood optimization failed to converge. Check mle_retvals\n",
      "  warnings.warn(\"Maximum Likelihood optimization failed to \"\n"
     ]
    },
    {
     "name": "stdout",
     "output_type": "stream",
     "text": [
      "LAG sendo Testado: 4\n",
      "MAE: 33689.131094630546\n",
      "MSE: 2442.000428568101\n",
      "MAPE: 0.34018740142614795\n",
      "AIC: 4752.87601561298\n",
      "------------------------\n",
      "LAG sendo Testado: 5\n",
      "MAE: 32076.761971978616\n",
      "MSE: 2462.2546065633665\n",
      "MAPE: 0.33993967962724536\n",
      "AIC: 4752.297827042673\n",
      "------------------------\n",
      "LAG sendo Testado: 6\n",
      "MAE: 31382.702385747212\n",
      "MSE: 2427.786714567946\n",
      "MAPE: 0.33627629803470255\n",
      "AIC: 4758.245977844084\n",
      "------------------------\n"
     ]
    },
    {
     "name": "stderr",
     "output_type": "stream",
     "text": [
      "d:\\python\\lib\\site-packages\\statsmodels\\base\\model.py:604: ConvergenceWarning: Maximum Likelihood optimization failed to converge. Check mle_retvals\n",
      "  warnings.warn(\"Maximum Likelihood optimization failed to \"\n"
     ]
    },
    {
     "name": "stdout",
     "output_type": "stream",
     "text": [
      "LAG sendo Testado: 8\n",
      "MAE: 31335.970008961944\n",
      "MSE: 2437.6022626294407\n",
      "MAPE: 0.33791424646408696\n",
      "AIC: 4759.194854135561\n",
      "------------------------\n"
     ]
    },
    {
     "name": "stderr",
     "output_type": "stream",
     "text": [
      "d:\\python\\lib\\site-packages\\statsmodels\\base\\model.py:604: ConvergenceWarning: Maximum Likelihood optimization failed to converge. Check mle_retvals\n",
      "  warnings.warn(\"Maximum Likelihood optimization failed to \"\n"
     ]
    },
    {
     "name": "stdout",
     "output_type": "stream",
     "text": [
      "LAG sendo Testado: 9\n",
      "MAE: 31043.71396134529\n",
      "MSE: 2420.258200808643\n",
      "MAPE: 0.33908557174665704\n",
      "AIC: 4755.478950338596\n",
      "------------------------\n"
     ]
    },
    {
     "name": "stderr",
     "output_type": "stream",
     "text": [
      "d:\\python\\lib\\site-packages\\statsmodels\\base\\model.py:604: ConvergenceWarning: Maximum Likelihood optimization failed to converge. Check mle_retvals\n",
      "  warnings.warn(\"Maximum Likelihood optimization failed to \"\n"
     ]
    },
    {
     "name": "stdout",
     "output_type": "stream",
     "text": [
      "LAG sendo Testado: 10\n",
      "MAE: 31174.309660278846\n",
      "MSE: 2435.0265945306583\n",
      "MAPE: 0.3371169666026815\n",
      "AIC: 4762.126796612114\n",
      "------------------------\n"
     ]
    },
    {
     "name": "stderr",
     "output_type": "stream",
     "text": [
      "d:\\python\\lib\\site-packages\\statsmodels\\base\\model.py:604: ConvergenceWarning: Maximum Likelihood optimization failed to converge. Check mle_retvals\n",
      "  warnings.warn(\"Maximum Likelihood optimization failed to \"\n"
     ]
    },
    {
     "name": "stdout",
     "output_type": "stream",
     "text": [
      "LAG sendo Testado: 11\n",
      "MAE: 30052.149696882876\n",
      "MSE: 2322.1579063953263\n",
      "MAPE: 0.33378860490459866\n",
      "AIC: 4751.424943285734\n",
      "------------------------\n"
     ]
    },
    {
     "name": "stderr",
     "output_type": "stream",
     "text": [
      "d:\\python\\lib\\site-packages\\statsmodels\\base\\model.py:604: ConvergenceWarning: Maximum Likelihood optimization failed to converge. Check mle_retvals\n",
      "  warnings.warn(\"Maximum Likelihood optimization failed to \"\n"
     ]
    },
    {
     "name": "stdout",
     "output_type": "stream",
     "text": [
      "LAG sendo Testado: 12\n",
      "MAE: 27219.946590404983\n",
      "MSE: 2061.300274221949\n",
      "MAPE: 0.31339489424828443\n",
      "AIC: 4730.909991197791\n",
      "------------------------\n"
     ]
    },
    {
     "name": "stderr",
     "output_type": "stream",
     "text": [
      "d:\\python\\lib\\site-packages\\statsmodels\\base\\model.py:604: ConvergenceWarning: Maximum Likelihood optimization failed to converge. Check mle_retvals\n",
      "  warnings.warn(\"Maximum Likelihood optimization failed to \"\n"
     ]
    },
    {
     "name": "stdout",
     "output_type": "stream",
     "text": [
      "LAG sendo Testado: 13\n",
      "MAE: 27388.420813635963\n",
      "MSE: 2207.6312146878668\n",
      "MAPE: 0.3185155393213613\n",
      "AIC: 4726.091436272383\n",
      "------------------------\n",
      "LAG sendo Testado: 14\n",
      "MAE: 116388.44904334472\n",
      "MSE: 15254.337068880182\n",
      "MAPE: 0.6865884182659423\n",
      "AIC: 6459.989292936814\n",
      "------------------------\n",
      "(212, 2)\n",
      "(24, 2)\n",
      "\n",
      "----------------------------\n",
      " Cross-Validation número 1\n",
      "----------------------------\n",
      "\n",
      "\n"
     ]
    },
    {
     "name": "stderr",
     "output_type": "stream",
     "text": [
      "d:\\python\\lib\\site-packages\\scipy\\linalg\\_solvers.py:214: LinAlgWarning: Ill-conditioned matrix (rcond=2.98262e-20): result may not be accurate.\n",
      "  x = solve(lhs, q.flatten())\n"
     ]
    },
    {
     "name": "stdout",
     "output_type": "stream",
     "text": [
      "LAG sendo Testado: 1\n",
      "MAE: 47105.31842803309\n",
      "MSE: 2937.1635434443438\n",
      "MAPE: 0.3461950334949118\n",
      "AIC: 4690.397595820487\n",
      "------------------------\n"
     ]
    },
    {
     "name": "stderr",
     "output_type": "stream",
     "text": [
      "d:\\python\\lib\\site-packages\\scipy\\linalg\\_solvers.py:214: LinAlgWarning: Ill-conditioned matrix (rcond=4.43172e-21): result may not be accurate.\n",
      "  x = solve(lhs, q.flatten())\n"
     ]
    },
    {
     "name": "stdout",
     "output_type": "stream",
     "text": [
      "LAG sendo Testado: 2\n",
      "MAE: 41627.17806761604\n",
      "MSE: 2575.854075666407\n",
      "MAPE: 0.3394206309795853\n",
      "AIC: 4664.109285598957\n",
      "------------------------\n"
     ]
    },
    {
     "name": "stderr",
     "output_type": "stream",
     "text": [
      "d:\\python\\lib\\site-packages\\scipy\\linalg\\_solvers.py:214: LinAlgWarning: Ill-conditioned matrix (rcond=8.80573e-22): result may not be accurate.\n",
      "  x = solve(lhs, q.flatten())\n"
     ]
    },
    {
     "name": "stdout",
     "output_type": "stream",
     "text": [
      "LAG sendo Testado: 3\n",
      "MAE: 37091.87322812978\n",
      "MSE: 2388.828126481503\n",
      "MAPE: 0.33362370256488355\n",
      "AIC: 4642.814222977197\n",
      "------------------------\n"
     ]
    },
    {
     "name": "stderr",
     "output_type": "stream",
     "text": [
      "d:\\python\\lib\\site-packages\\scipy\\linalg\\_solvers.py:214: LinAlgWarning: Ill-conditioned matrix (rcond=5.17034e-22): result may not be accurate.\n",
      "  x = solve(lhs, q.flatten())\n"
     ]
    },
    {
     "name": "stdout",
     "output_type": "stream",
     "text": [
      "LAG sendo Testado: 4\n",
      "MAE: 36319.21054141704\n",
      "MSE: 2344.730370074408\n",
      "MAPE: 0.32915424761107803\n",
      "AIC: 4647.34974213406\n",
      "------------------------\n",
      "LAG sendo Testado: 5\n",
      "MAE: 33990.26952043056\n",
      "MSE: 2301.4937631188027\n",
      "MAPE: 0.323683343888663\n",
      "AIC: 4646.588827968175\n",
      "------------------------\n"
     ]
    },
    {
     "name": "stderr",
     "output_type": "stream",
     "text": [
      "d:\\python\\lib\\site-packages\\statsmodels\\base\\model.py:604: ConvergenceWarning: Maximum Likelihood optimization failed to converge. Check mle_retvals\n",
      "  warnings.warn(\"Maximum Likelihood optimization failed to \"\n"
     ]
    },
    {
     "name": "stdout",
     "output_type": "stream",
     "text": [
      "LAG sendo Testado: 6\n",
      "MAE: 33564.03661050106\n",
      "MSE: 2271.439539932243\n",
      "MAPE: 0.3210932849395713\n",
      "AIC: 4652.985286356572\n",
      "------------------------\n"
     ]
    },
    {
     "name": "stderr",
     "output_type": "stream",
     "text": [
      "d:\\python\\lib\\site-packages\\statsmodels\\base\\model.py:604: ConvergenceWarning: Maximum Likelihood optimization failed to converge. Check mle_retvals\n",
      "  warnings.warn(\"Maximum Likelihood optimization failed to \"\n"
     ]
    },
    {
     "name": "stdout",
     "output_type": "stream",
     "text": [
      "LAG sendo Testado: 8\n",
      "MAE: 34196.134551395204\n",
      "MSE: 2361.5387999200843\n",
      "MAPE: 0.32729118819792835\n",
      "AIC: 4654.42030264488\n",
      "------------------------\n"
     ]
    },
    {
     "name": "stderr",
     "output_type": "stream",
     "text": [
      "d:\\python\\lib\\site-packages\\statsmodels\\base\\model.py:604: ConvergenceWarning: Maximum Likelihood optimization failed to converge. Check mle_retvals\n",
      "  warnings.warn(\"Maximum Likelihood optimization failed to \"\n"
     ]
    },
    {
     "name": "stdout",
     "output_type": "stream",
     "text": [
      "LAG sendo Testado: 9\n",
      "MAE: 32588.43981202597\n",
      "MSE: 2375.9269126146246\n",
      "MAPE: 0.3241569197598398\n",
      "AIC: 4649.143949711024\n",
      "------------------------\n",
      "LAG sendo Testado: 11\n",
      "MAE: 33237.120126268856\n",
      "MSE: 2264.266432327322\n",
      "MAPE: 0.3201034511608286\n",
      "AIC: 4648.537386993017\n",
      "------------------------\n",
      "LAG sendo Testado: 13\n",
      "MAE: 33657.45811516794\n",
      "MSE: 2302.1569656794272\n",
      "MAPE: 0.32671876968475005\n",
      "AIC: 4622.414012627072\n",
      "------------------------\n",
      "LAG sendo Testado: 14\n",
      "MAE: 127056.65548072178\n",
      "MSE: 18478.474873320087\n",
      "MAPE: 0.676725806687931\n",
      "AIC: 6285.294942146773\n",
      "------------------------\n",
      "(207, 2)\n",
      "(24, 2)\n",
      "\n",
      "----------------------------\n",
      " Cross-Validation número 2\n",
      "----------------------------\n",
      "\n",
      "\n"
     ]
    },
    {
     "name": "stderr",
     "output_type": "stream",
     "text": [
      "d:\\python\\lib\\site-packages\\scipy\\linalg\\_solvers.py:214: LinAlgWarning: Ill-conditioned matrix (rcond=2.53377e-20): result may not be accurate.\n",
      "  x = solve(lhs, q.flatten())\n"
     ]
    },
    {
     "name": "stdout",
     "output_type": "stream",
     "text": [
      "LAG sendo Testado: 1\n",
      "MAE: 63528.04413841665\n",
      "MSE: 4763.1983163696905\n",
      "MAPE: 0.3887560697696164\n",
      "AIC: 4579.814840886551\n",
      "------------------------\n"
     ]
    },
    {
     "name": "stderr",
     "output_type": "stream",
     "text": [
      "d:\\python\\lib\\site-packages\\scipy\\linalg\\_solvers.py:214: LinAlgWarning: Ill-conditioned matrix (rcond=4.16535e-21): result may not be accurate.\n",
      "  x = solve(lhs, q.flatten())\n"
     ]
    },
    {
     "name": "stdout",
     "output_type": "stream",
     "text": [
      "LAG sendo Testado: 2\n",
      "MAE: 58931.75915927469\n",
      "MSE: 4139.563084433516\n",
      "MAPE: 0.37472546282298497\n",
      "AIC: 4551.460793402859\n",
      "------------------------\n"
     ]
    },
    {
     "name": "stderr",
     "output_type": "stream",
     "text": [
      "d:\\python\\lib\\site-packages\\scipy\\linalg\\_solvers.py:214: LinAlgWarning: Ill-conditioned matrix (rcond=7.59078e-22): result may not be accurate.\n",
      "  x = solve(lhs, q.flatten())\n",
      "d:\\python\\lib\\site-packages\\statsmodels\\base\\model.py:604: ConvergenceWarning: Maximum Likelihood optimization failed to converge. Check mle_retvals\n",
      "  warnings.warn(\"Maximum Likelihood optimization failed to \"\n",
      "d:\\python\\lib\\site-packages\\scipy\\linalg\\_solvers.py:214: LinAlgWarning: Ill-conditioned matrix (rcond=4.1888e-22): result may not be accurate.\n",
      "  x = solve(lhs, q.flatten())\n"
     ]
    },
    {
     "name": "stdout",
     "output_type": "stream",
     "text": [
      "LAG sendo Testado: 3\n",
      "MAE: 57447.068420239164\n",
      "MSE: 3950.089362202296\n",
      "MAPE: 0.3740077116059796\n",
      "AIC: 4530.256330795131\n",
      "------------------------\n"
     ]
    },
    {
     "name": "stderr",
     "output_type": "stream",
     "text": [
      "d:\\python\\lib\\site-packages\\statsmodels\\base\\model.py:604: ConvergenceWarning: Maximum Likelihood optimization failed to converge. Check mle_retvals\n",
      "  warnings.warn(\"Maximum Likelihood optimization failed to \"\n"
     ]
    },
    {
     "name": "stdout",
     "output_type": "stream",
     "text": [
      "LAG sendo Testado: 4\n",
      "MAE: 56473.71069419489\n",
      "MSE: 3842.646197541527\n",
      "MAPE: 0.3702565490475221\n",
      "AIC: 4534.384689106006\n",
      "------------------------\n",
      "LAG sendo Testado: 5\n",
      "MAE: 53784.318501244124\n",
      "MSE: 3562.89110289078\n",
      "MAPE: 0.36234962305978646\n",
      "AIC: 4533.906852279876\n",
      "------------------------\n"
     ]
    },
    {
     "name": "stderr",
     "output_type": "stream",
     "text": [
      "d:\\python\\lib\\site-packages\\statsmodels\\base\\model.py:604: ConvergenceWarning: Maximum Likelihood optimization failed to converge. Check mle_retvals\n",
      "  warnings.warn(\"Maximum Likelihood optimization failed to \"\n"
     ]
    },
    {
     "name": "stdout",
     "output_type": "stream",
     "text": [
      "LAG sendo Testado: 6\n",
      "MAE: 52650.530635568255\n",
      "MSE: 3459.302557282209\n",
      "MAPE: 0.3584053704397432\n",
      "AIC: 4540.80511700324\n",
      "------------------------\n",
      "LAG sendo Testado: 8\n",
      "MAE: 56110.68038378498\n",
      "MSE: 3823.066567430924\n",
      "MAPE: 0.37294923753941617\n",
      "AIC: 4544.5160233974475\n",
      "------------------------\n",
      "LAG sendo Testado: 9\n",
      "MAE: 49146.511155115826\n",
      "MSE: 3128.4845648706887\n",
      "MAPE: 0.3518568157051843\n",
      "AIC: 4536.174321567601\n",
      "------------------------\n",
      "LAG sendo Testado: 10\n",
      "MAE: 50162.32671626857\n",
      "MSE: 3237.2308878127265\n",
      "MAPE: 0.35592568695392174\n",
      "AIC: 4542.020148921876\n",
      "------------------------\n",
      "LAG sendo Testado: 11\n",
      "MAE: 51649.88813648\n",
      "MSE: 3316.782680599295\n",
      "MAPE: 0.35644426760542736\n",
      "AIC: 4533.1107174947965\n",
      "------------------------\n"
     ]
    },
    {
     "name": "stderr",
     "output_type": "stream",
     "text": [
      "d:\\python\\lib\\site-packages\\statsmodels\\base\\model.py:604: ConvergenceWarning: Maximum Likelihood optimization failed to converge. Check mle_retvals\n",
      "  warnings.warn(\"Maximum Likelihood optimization failed to \"\n"
     ]
    },
    {
     "name": "stdout",
     "output_type": "stream",
     "text": [
      "LAG sendo Testado: 12\n",
      "MAE: 48947.3155527109\n",
      "MSE: 2956.0957650357163\n",
      "MAPE: 0.3451897251386545\n",
      "AIC: 4509.647992630458\n",
      "------------------------\n"
     ]
    },
    {
     "name": "stderr",
     "output_type": "stream",
     "text": [
      "d:\\python\\lib\\site-packages\\statsmodels\\base\\model.py:604: ConvergenceWarning: Maximum Likelihood optimization failed to converge. Check mle_retvals\n",
      "  warnings.warn(\"Maximum Likelihood optimization failed to \"\n"
     ]
    },
    {
     "name": "stdout",
     "output_type": "stream",
     "text": [
      "LAG sendo Testado: 13\n",
      "MAE: 46457.18192129128\n",
      "MSE: 2754.2444311627173\n",
      "MAPE: 0.33839805159246344\n",
      "AIC: 4507.919238671937\n",
      "------------------------\n",
      "LAG sendo Testado: 14\n",
      "MAE: 132296.3888871478\n",
      "MSE: 20064.88657208084\n",
      "MAPE: 0.6534144864238757\n",
      "AIC: 6105.990144665593\n",
      "------------------------\n",
      "(202, 2)\n",
      "(24, 2)\n",
      "\n",
      "----------------------------\n",
      " Cross-Validation número 3\n",
      "----------------------------\n",
      "\n",
      "\n"
     ]
    },
    {
     "name": "stderr",
     "output_type": "stream",
     "text": [
      "d:\\python\\lib\\site-packages\\scipy\\linalg\\_solvers.py:214: LinAlgWarning: Ill-conditioned matrix (rcond=2.40348e-20): result may not be accurate.\n",
      "  x = solve(lhs, q.flatten())\n"
     ]
    },
    {
     "name": "stdout",
     "output_type": "stream",
     "text": [
      "LAG sendo Testado: 1\n",
      "MAE: 57802.70639515397\n",
      "MSE: 4493.527710766902\n",
      "MAPE: 0.3550372805118022\n",
      "AIC: 4474.767547177422\n",
      "------------------------\n"
     ]
    },
    {
     "name": "stderr",
     "output_type": "stream",
     "text": [
      "d:\\python\\lib\\site-packages\\scipy\\linalg\\_solvers.py:214: LinAlgWarning: Ill-conditioned matrix (rcond=6.34883e-21): result may not be accurate.\n",
      "  x = solve(lhs, q.flatten())\n"
     ]
    },
    {
     "name": "stdout",
     "output_type": "stream",
     "text": [
      "LAG sendo Testado: 2\n",
      "MAE: 42585.02194136696\n",
      "MSE: 2730.7748884994226\n",
      "MAPE: 0.3156055210085269\n",
      "AIC: 4443.90681997303\n",
      "------------------------\n"
     ]
    },
    {
     "name": "stderr",
     "output_type": "stream",
     "text": [
      "d:\\python\\lib\\site-packages\\scipy\\linalg\\_solvers.py:214: LinAlgWarning: Ill-conditioned matrix (rcond=7.04844e-22): result may not be accurate.\n",
      "  x = solve(lhs, q.flatten())\n"
     ]
    },
    {
     "name": "stdout",
     "output_type": "stream",
     "text": [
      "LAG sendo Testado: 3\n",
      "MAE: 36498.418262170126\n",
      "MSE: 2203.497297288629\n",
      "MAPE: 0.30718062649030803\n",
      "AIC: 4422.664749479243\n",
      "------------------------\n"
     ]
    },
    {
     "name": "stderr",
     "output_type": "stream",
     "text": [
      "d:\\python\\lib\\site-packages\\scipy\\linalg\\_solvers.py:214: LinAlgWarning: Ill-conditioned matrix (rcond=4.53309e-22): result may not be accurate.\n",
      "  x = solve(lhs, q.flatten())\n",
      "d:\\python\\lib\\site-packages\\statsmodels\\base\\model.py:604: ConvergenceWarning: Maximum Likelihood optimization failed to converge. Check mle_retvals\n",
      "  warnings.warn(\"Maximum Likelihood optimization failed to \"\n"
     ]
    },
    {
     "name": "stdout",
     "output_type": "stream",
     "text": [
      "LAG sendo Testado: 4\n",
      "MAE: 36694.00456350471\n",
      "MSE: 2227.4484348033448\n",
      "MAPE: 0.30588440471750084\n",
      "AIC: 4428.437462651567\n",
      "------------------------\n"
     ]
    },
    {
     "name": "stderr",
     "output_type": "stream",
     "text": [
      "d:\\python\\lib\\site-packages\\statsmodels\\base\\model.py:604: ConvergenceWarning: Maximum Likelihood optimization failed to converge. Check mle_retvals\n",
      "  warnings.warn(\"Maximum Likelihood optimization failed to \"\n"
     ]
    },
    {
     "name": "stdout",
     "output_type": "stream",
     "text": [
      "LAG sendo Testado: 5\n",
      "MAE: 35099.063988169255\n",
      "MSE: 2205.9979462842925\n",
      "MAPE: 0.3093886391182679\n",
      "AIC: 4425.570288309624\n",
      "------------------------\n",
      "LAG sendo Testado: 6\n",
      "MAE: 34429.43974697445\n",
      "MSE: 2198.7402658281094\n",
      "MAPE: 0.3090306001779532\n",
      "AIC: 4432.277092422354\n",
      "------------------------\n"
     ]
    },
    {
     "name": "stderr",
     "output_type": "stream",
     "text": [
      "d:\\python\\lib\\site-packages\\statsmodels\\base\\model.py:604: ConvergenceWarning: Maximum Likelihood optimization failed to converge. Check mle_retvals\n",
      "  warnings.warn(\"Maximum Likelihood optimization failed to \"\n"
     ]
    },
    {
     "name": "stdout",
     "output_type": "stream",
     "text": [
      "LAG sendo Testado: 8\n",
      "MAE: 34743.22842629657\n",
      "MSE: 2174.0979211047197\n",
      "MAPE: 0.3032660572953309\n",
      "AIC: 4434.798297029094\n",
      "------------------------\n",
      "LAG sendo Testado: 9\n",
      "MAE: 34653.22586798714\n",
      "MSE: 2149.94657950357\n",
      "MAPE: 0.3042239825089906\n",
      "AIC: 4427.3322995324015\n",
      "------------------------\n"
     ]
    },
    {
     "name": "stderr",
     "output_type": "stream",
     "text": [
      "d:\\python\\lib\\site-packages\\statsmodels\\base\\model.py:604: ConvergenceWarning: Maximum Likelihood optimization failed to converge. Check mle_retvals\n",
      "  warnings.warn(\"Maximum Likelihood optimization failed to \"\n"
     ]
    },
    {
     "name": "stdout",
     "output_type": "stream",
     "text": [
      "LAG sendo Testado: 10\n",
      "MAE: 33994.57184089092\n",
      "MSE: 2118.6086579999237\n",
      "MAPE: 0.2999855040109876\n",
      "AIC: 4433.090232929143\n",
      "------------------------\n"
     ]
    },
    {
     "name": "stderr",
     "output_type": "stream",
     "text": [
      "d:\\python\\lib\\site-packages\\statsmodels\\base\\model.py:604: ConvergenceWarning: Maximum Likelihood optimization failed to converge. Check mle_retvals\n",
      "  warnings.warn(\"Maximum Likelihood optimization failed to \"\n"
     ]
    },
    {
     "name": "stdout",
     "output_type": "stream",
     "text": [
      "LAG sendo Testado: 11\n",
      "MAE: 35586.302846321545\n",
      "MSE: 2100.1984942063636\n",
      "MAPE: 0.29802516081309743\n",
      "AIC: 4422.777925877785\n",
      "------------------------\n",
      "LAG sendo Testado: 12\n",
      "MAE: 35396.176976689974\n",
      "MSE: 1919.9036226606247\n",
      "MAPE: 0.28693158932560403\n",
      "AIC: 4398.829685147426\n",
      "------------------------\n"
     ]
    },
    {
     "name": "stderr",
     "output_type": "stream",
     "text": [
      "d:\\python\\lib\\site-packages\\statsmodels\\base\\model.py:604: ConvergenceWarning: Maximum Likelihood optimization failed to converge. Check mle_retvals\n",
      "  warnings.warn(\"Maximum Likelihood optimization failed to \"\n"
     ]
    },
    {
     "name": "stdout",
     "output_type": "stream",
     "text": [
      "LAG sendo Testado: 13\n",
      "MAE: 34309.85833807258\n",
      "MSE: 1986.1861981062125\n",
      "MAPE: 0.2940234373831499\n",
      "AIC: 4399.50440773468\n",
      "------------------------\n"
     ]
    },
    {
     "name": "stderr",
     "output_type": "stream",
     "text": [
      "d:\\python\\lib\\site-packages\\statsmodels\\base\\model.py:604: ConvergenceWarning: Maximum Likelihood optimization failed to converge. Check mle_retvals\n",
      "  warnings.warn(\"Maximum Likelihood optimization failed to \"\n"
     ]
    },
    {
     "name": "stdout",
     "output_type": "stream",
     "text": [
      "LAG sendo Testado: 14\n",
      "MAE: 132249.14908215308\n",
      "MSE: 19783.68328978674\n",
      "MAPE: 0.6469545361102519\n",
      "AIC: 5938.247083623188\n",
      "------------------------\n",
      "(197, 2)\n",
      "(24, 2)\n",
      "\n",
      "----------------------------\n",
      " Cross-Validation número 4\n",
      "----------------------------\n",
      "\n",
      "\n"
     ]
    },
    {
     "name": "stderr",
     "output_type": "stream",
     "text": [
      "d:\\python\\lib\\site-packages\\scipy\\linalg\\_solvers.py:214: LinAlgWarning: Ill-conditioned matrix (rcond=1.23613e-20): result may not be accurate.\n",
      "  x = solve(lhs, q.flatten())\n",
      "d:\\python\\lib\\site-packages\\statsmodels\\base\\model.py:604: ConvergenceWarning: Maximum Likelihood optimization failed to converge. Check mle_retvals\n",
      "  warnings.warn(\"Maximum Likelihood optimization failed to \"\n",
      "d:\\python\\lib\\site-packages\\scipy\\linalg\\_solvers.py:214: LinAlgWarning: Ill-conditioned matrix (rcond=1.71357e-21): result may not be accurate.\n",
      "  x = solve(lhs, q.flatten())\n"
     ]
    },
    {
     "name": "stdout",
     "output_type": "stream",
     "text": [
      "LAG sendo Testado: 1\n",
      "MAE: 82492.47727942564\n",
      "MSE: 7615.986768675864\n",
      "MAPE: 0.4566279043754527\n",
      "AIC: 4350.4435260300725\n",
      "------------------------\n",
      "LAG sendo Testado: 2\n",
      "MAE: 77510.50093133912\n",
      "MSE: 6843.627524179225\n",
      "MAPE: 0.43365172950159464\n",
      "AIC: 4318.218762826034\n",
      "------------------------\n"
     ]
    },
    {
     "name": "stderr",
     "output_type": "stream",
     "text": [
      "d:\\python\\lib\\site-packages\\scipy\\linalg\\_solvers.py:214: LinAlgWarning: Ill-conditioned matrix (rcond=2.77397e-22): result may not be accurate.\n",
      "  x = solve(lhs, q.flatten())\n"
     ]
    },
    {
     "name": "stdout",
     "output_type": "stream",
     "text": [
      "LAG sendo Testado: 3\n",
      "MAE: 69707.25942912263\n",
      "MSE: 5646.499878962998\n",
      "MAPE: 0.3962402991097998\n",
      "AIC: 4296.5916398170375\n",
      "------------------------\n"
     ]
    },
    {
     "name": "stderr",
     "output_type": "stream",
     "text": [
      "d:\\python\\lib\\site-packages\\scipy\\linalg\\_solvers.py:214: LinAlgWarning: Ill-conditioned matrix (rcond=1.45795e-22): result may not be accurate.\n",
      "  x = solve(lhs, q.flatten())\n",
      "d:\\python\\lib\\site-packages\\statsmodels\\base\\model.py:604: ConvergenceWarning: Maximum Likelihood optimization failed to converge. Check mle_retvals\n",
      "  warnings.warn(\"Maximum Likelihood optimization failed to \"\n"
     ]
    },
    {
     "name": "stdout",
     "output_type": "stream",
     "text": [
      "LAG sendo Testado: 4\n",
      "MAE: 70000.94834726151\n",
      "MSE: 5680.725456817216\n",
      "MAPE: 0.3968630696110676\n",
      "AIC: 4302.605171899393\n",
      "------------------------\n"
     ]
    },
    {
     "name": "stderr",
     "output_type": "stream",
     "text": [
      "d:\\python\\lib\\site-packages\\statsmodels\\base\\model.py:604: ConvergenceWarning: Maximum Likelihood optimization failed to converge. Check mle_retvals\n",
      "  warnings.warn(\"Maximum Likelihood optimization failed to \"\n"
     ]
    },
    {
     "name": "stdout",
     "output_type": "stream",
     "text": [
      "LAG sendo Testado: 5\n",
      "MAE: 70587.15744680843\n",
      "MSE: 5720.418413264287\n",
      "MAPE: 0.4005190070316788\n",
      "AIC: 4298.496282187181\n",
      "------------------------\n"
     ]
    },
    {
     "name": "stderr",
     "output_type": "stream",
     "text": [
      "d:\\python\\lib\\site-packages\\statsmodels\\base\\model.py:604: ConvergenceWarning: Maximum Likelihood optimization failed to converge. Check mle_retvals\n",
      "  warnings.warn(\"Maximum Likelihood optimization failed to \"\n"
     ]
    },
    {
     "name": "stdout",
     "output_type": "stream",
     "text": [
      "LAG sendo Testado: 6\n",
      "MAE: 70116.11011315753\n",
      "MSE: 5657.254962182999\n",
      "MAPE: 0.4011105323155542\n",
      "AIC: 4305.417830374831\n",
      "------------------------\n",
      "LAG sendo Testado: 8\n",
      "MAE: 69339.26010309863\n",
      "MSE: 5571.087104445951\n",
      "MAPE: 0.39092601779158914\n",
      "AIC: 4306.788628929287\n",
      "------------------------\n",
      "LAG sendo Testado: 10\n",
      "MAE: 64161.47471905816\n",
      "MSE: 4814.499025448043\n",
      "MAPE: 0.37463690666738136\n",
      "AIC: 4306.246511754813\n",
      "------------------------\n"
     ]
    },
    {
     "name": "stderr",
     "output_type": "stream",
     "text": [
      "d:\\python\\lib\\site-packages\\statsmodels\\base\\model.py:604: ConvergenceWarning: Maximum Likelihood optimization failed to converge. Check mle_retvals\n",
      "  warnings.warn(\"Maximum Likelihood optimization failed to \"\n"
     ]
    },
    {
     "name": "stdout",
     "output_type": "stream",
     "text": [
      "LAG sendo Testado: 11\n",
      "MAE: 69163.90666553409\n",
      "MSE: 5405.102879342967\n",
      "MAPE: 0.39311062236489974\n",
      "AIC: 4293.030422399617\n",
      "------------------------\n",
      "LAG sendo Testado: 12\n",
      "MAE: 71249.13216215772\n",
      "MSE: 5603.280667741741\n",
      "MAPE: 0.4102952993371609\n",
      "AIC: 4263.336125738758\n",
      "------------------------\n"
     ]
    },
    {
     "name": "stderr",
     "output_type": "stream",
     "text": [
      "d:\\python\\lib\\site-packages\\statsmodels\\base\\model.py:604: ConvergenceWarning: Maximum Likelihood optimization failed to converge. Check mle_retvals\n",
      "  warnings.warn(\"Maximum Likelihood optimization failed to \"\n"
     ]
    },
    {
     "name": "stdout",
     "output_type": "stream",
     "text": [
      "LAG sendo Testado: 13\n",
      "MAE: 71873.34541064956\n",
      "MSE: 5741.22349850407\n",
      "MAPE: 0.407767314535363\n",
      "AIC: 4268.444751728006\n",
      "------------------------\n"
     ]
    },
    {
     "name": "stderr",
     "output_type": "stream",
     "text": [
      "d:\\python\\lib\\site-packages\\statsmodels\\base\\model.py:604: ConvergenceWarning: Maximum Likelihood optimization failed to converge. Check mle_retvals\n",
      "  warnings.warn(\"Maximum Likelihood optimization failed to \"\n"
     ]
    },
    {
     "name": "stdout",
     "output_type": "stream",
     "text": [
      "LAG sendo Testado: 14\n",
      "MAE: 127859.84253006491\n",
      "MSE: 17831.190018332665\n",
      "MAPE: 0.618114770616018\n",
      "AIC: 5769.273435360363\n",
      "------------------------\n",
      "(192, 2)\n",
      "(24, 2)\n",
      "\n",
      "----------------------------\n",
      " Cross-Validation número 5\n",
      "----------------------------\n",
      "\n",
      "\n"
     ]
    },
    {
     "name": "stderr",
     "output_type": "stream",
     "text": [
      "d:\\python\\lib\\site-packages\\scipy\\linalg\\_solvers.py:214: LinAlgWarning: Ill-conditioned matrix (rcond=1.8136e-20): result may not be accurate.\n",
      "  x = solve(lhs, q.flatten())\n"
     ]
    },
    {
     "name": "stdout",
     "output_type": "stream",
     "text": [
      "LAG sendo Testado: 1\n",
      "MAE: 65425.1400350948\n",
      "MSE: 4928.658099031985\n",
      "MAPE: 0.29743759066506564\n",
      "AIC: 4240.55460983388\n",
      "------------------------\n"
     ]
    },
    {
     "name": "stderr",
     "output_type": "stream",
     "text": [
      "d:\\python\\lib\\site-packages\\scipy\\linalg\\_solvers.py:214: LinAlgWarning: Ill-conditioned matrix (rcond=1.79981e-21): result may not be accurate.\n",
      "  x = solve(lhs, q.flatten())\n"
     ]
    },
    {
     "name": "stdout",
     "output_type": "stream",
     "text": [
      "LAG sendo Testado: 2\n",
      "MAE: 56960.646157452116\n",
      "MSE: 3819.6473479067063\n",
      "MAPE: 0.2587743081372006\n",
      "AIC: 4208.329798606834\n",
      "------------------------\n"
     ]
    },
    {
     "name": "stderr",
     "output_type": "stream",
     "text": [
      "d:\\python\\lib\\site-packages\\scipy\\linalg\\_solvers.py:214: LinAlgWarning: Ill-conditioned matrix (rcond=2.78482e-22): result may not be accurate.\n",
      "  x = solve(lhs, q.flatten())\n",
      "d:\\python\\lib\\site-packages\\statsmodels\\base\\model.py:604: ConvergenceWarning: Maximum Likelihood optimization failed to converge. Check mle_retvals\n",
      "  warnings.warn(\"Maximum Likelihood optimization failed to \"\n",
      "d:\\python\\lib\\site-packages\\scipy\\linalg\\_solvers.py:214: LinAlgWarning: Ill-conditioned matrix (rcond=1.48719e-22): result may not be accurate.\n",
      "  x = solve(lhs, q.flatten())\n"
     ]
    },
    {
     "name": "stdout",
     "output_type": "stream",
     "text": [
      "LAG sendo Testado: 3\n",
      "MAE: 53972.31644224651\n",
      "MSE: 3575.5423408105353\n",
      "MAPE: 0.24431545205957303\n",
      "AIC: 4187.404625534998\n",
      "------------------------\n",
      "LAG sendo Testado: 4\n",
      "MAE: 52469.77625961064\n",
      "MSE: 3379.7812667213193\n",
      "MAPE: 0.23753298821335225\n",
      "AIC: 4193.363006943315\n",
      "------------------------\n"
     ]
    },
    {
     "name": "stderr",
     "output_type": "stream",
     "text": [
      "d:\\python\\lib\\site-packages\\statsmodels\\base\\model.py:604: ConvergenceWarning: Maximum Likelihood optimization failed to converge. Check mle_retvals\n",
      "  warnings.warn(\"Maximum Likelihood optimization failed to \"\n"
     ]
    },
    {
     "name": "stdout",
     "output_type": "stream",
     "text": [
      "LAG sendo Testado: 5\n",
      "MAE: 50690.17290411738\n",
      "MSE: 3166.553083331205\n",
      "MAPE: 0.22942225696135665\n",
      "AIC: 4189.621477424453\n",
      "------------------------\n"
     ]
    },
    {
     "name": "stderr",
     "output_type": "stream",
     "text": [
      "d:\\python\\lib\\site-packages\\statsmodels\\base\\model.py:604: ConvergenceWarning: Maximum Likelihood optimization failed to converge. Check mle_retvals\n",
      "  warnings.warn(\"Maximum Likelihood optimization failed to \"\n"
     ]
    },
    {
     "name": "stdout",
     "output_type": "stream",
     "text": [
      "LAG sendo Testado: 6\n",
      "MAE: 49388.161169558414\n",
      "MSE: 2999.472304238157\n",
      "MAPE: 0.22377650641708358\n",
      "AIC: 4196.130637550484\n",
      "------------------------\n",
      "LAG sendo Testado: 8\n",
      "MAE: 54035.23943914103\n",
      "MSE: 3573.4966620246405\n",
      "MAPE: 0.2443519510619833\n",
      "AIC: 4198.4265221878195\n",
      "------------------------\n",
      "LAG sendo Testado: 9\n",
      "MAE: 53147.58434750765\n",
      "MSE: 3510.1744201942993\n",
      "MAPE: 0.2393012709699237\n",
      "AIC: 4192.457022879187\n",
      "------------------------\n"
     ]
    },
    {
     "name": "stderr",
     "output_type": "stream",
     "text": [
      "d:\\python\\lib\\site-packages\\statsmodels\\base\\model.py:604: ConvergenceWarning: Maximum Likelihood optimization failed to converge. Check mle_retvals\n",
      "  warnings.warn(\"Maximum Likelihood optimization failed to \"\n"
     ]
    },
    {
     "name": "stdout",
     "output_type": "stream",
     "text": [
      "LAG sendo Testado: 10\n",
      "MAE: 50061.97864523889\n",
      "MSE: 3143.2069164518507\n",
      "MAPE: 0.22567893011543394\n",
      "AIC: 4195.763217369188\n",
      "------------------------\n",
      "LAG sendo Testado: 11\n",
      "MAE: 55938.988147061435\n",
      "MSE: 3774.565691703253\n",
      "MAPE: 0.252436550663837\n",
      "AIC: 4184.2875871123015\n",
      "------------------------\n"
     ]
    },
    {
     "name": "stderr",
     "output_type": "stream",
     "text": [
      "d:\\python\\lib\\site-packages\\statsmodels\\base\\model.py:604: ConvergenceWarning: Maximum Likelihood optimization failed to converge. Check mle_retvals\n",
      "  warnings.warn(\"Maximum Likelihood optimization failed to \"\n"
     ]
    },
    {
     "name": "stdout",
     "output_type": "stream",
     "text": [
      "LAG sendo Testado: 12\n",
      "MAE: 61523.11888407624\n",
      "MSE: 4368.653083082746\n",
      "MAPE: 0.2794469097557926\n",
      "AIC: 4148.209997362097\n",
      "------------------------\n"
     ]
    },
    {
     "name": "stderr",
     "output_type": "stream",
     "text": [
      "d:\\python\\lib\\site-packages\\statsmodels\\base\\model.py:604: ConvergenceWarning: Maximum Likelihood optimization failed to converge. Check mle_retvals\n",
      "  warnings.warn(\"Maximum Likelihood optimization failed to \"\n"
     ]
    },
    {
     "name": "stdout",
     "output_type": "stream",
     "text": [
      "LAG sendo Testado: 13\n",
      "MAE: 60714.92103676638\n",
      "MSE: 4294.3763950273005\n",
      "MAPE: 0.27561844110462885\n",
      "AIC: 4154.430148337522\n",
      "------------------------\n"
     ]
    },
    {
     "name": "stderr",
     "output_type": "stream",
     "text": [
      "d:\\python\\lib\\site-packages\\statsmodels\\base\\model.py:604: ConvergenceWarning: Maximum Likelihood optimization failed to converge. Check mle_retvals\n",
      "  warnings.warn(\"Maximum Likelihood optimization failed to \"\n"
     ]
    },
    {
     "name": "stdout",
     "output_type": "stream",
     "text": [
      "LAG sendo Testado: 14\n",
      "MAE: 124951.44294457421\n",
      "MSE: 16159.356429320069\n",
      "MAPE: 0.579123272461931\n",
      "AIC: 5601.775174381354\n",
      "------------------------\n",
      "(187, 2)\n",
      "(24, 2)\n",
      "\n",
      "----------------------------\n",
      " Cross-Validation número 6\n",
      "----------------------------\n",
      "\n",
      "\n"
     ]
    },
    {
     "name": "stderr",
     "output_type": "stream",
     "text": [
      "d:\\python\\lib\\site-packages\\scipy\\linalg\\_solvers.py:214: LinAlgWarning: Ill-conditioned matrix (rcond=1.62433e-20): result may not be accurate.\n",
      "  x = solve(lhs, q.flatten())\n",
      "d:\\python\\lib\\site-packages\\statsmodels\\base\\model.py:604: ConvergenceWarning: Maximum Likelihood optimization failed to converge. Check mle_retvals\n",
      "  warnings.warn(\"Maximum Likelihood optimization failed to \"\n",
      "d:\\python\\lib\\site-packages\\scipy\\linalg\\_solvers.py:214: LinAlgWarning: Ill-conditioned matrix (rcond=1.89544e-21): result may not be accurate.\n",
      "  x = solve(lhs, q.flatten())\n"
     ]
    },
    {
     "name": "stdout",
     "output_type": "stream",
     "text": [
      "LAG sendo Testado: 1\n",
      "MAE: 54219.63096896266\n",
      "MSE: 3424.637259516327\n",
      "MAPE: 0.25465462631259206\n",
      "AIC: 4137.385009223544\n",
      "------------------------\n",
      "LAG sendo Testado: 2\n",
      "MAE: 47030.20400492783\n",
      "MSE: 2637.1881266114683\n",
      "MAPE: 0.22044535303458893\n",
      "AIC: 4106.998366114188\n",
      "------------------------\n"
     ]
    },
    {
     "name": "stderr",
     "output_type": "stream",
     "text": [
      "d:\\python\\lib\\site-packages\\scipy\\linalg\\_solvers.py:214: LinAlgWarning: Ill-conditioned matrix (rcond=2.92375e-22): result may not be accurate.\n",
      "  x = solve(lhs, q.flatten())\n"
     ]
    },
    {
     "name": "stdout",
     "output_type": "stream",
     "text": [
      "LAG sendo Testado: 3\n",
      "MAE: 46369.12544902708\n",
      "MSE: 2644.0066390994502\n",
      "MAPE: 0.21697344620871029\n",
      "AIC: 4086.733295559424\n",
      "------------------------\n"
     ]
    },
    {
     "name": "stderr",
     "output_type": "stream",
     "text": [
      "d:\\python\\lib\\site-packages\\scipy\\linalg\\_solvers.py:214: LinAlgWarning: Ill-conditioned matrix (rcond=1.5428e-22): result may not be accurate.\n",
      "  x = solve(lhs, q.flatten())\n",
      "d:\\python\\lib\\site-packages\\statsmodels\\base\\model.py:604: ConvergenceWarning: Maximum Likelihood optimization failed to converge. Check mle_retvals\n",
      "  warnings.warn(\"Maximum Likelihood optimization failed to \"\n"
     ]
    },
    {
     "name": "stdout",
     "output_type": "stream",
     "text": [
      "LAG sendo Testado: 4\n",
      "MAE: 48256.766959789034\n",
      "MSE: 2847.72177501651\n",
      "MAPE: 0.2258499511923878\n",
      "AIC: 4092.2679233787585\n",
      "------------------------\n"
     ]
    },
    {
     "name": "stderr",
     "output_type": "stream",
     "text": [
      "d:\\python\\lib\\site-packages\\statsmodels\\base\\model.py:604: ConvergenceWarning: Maximum Likelihood optimization failed to converge. Check mle_retvals\n",
      "  warnings.warn(\"Maximum Likelihood optimization failed to \"\n"
     ]
    },
    {
     "name": "stdout",
     "output_type": "stream",
     "text": [
      "LAG sendo Testado: 5\n",
      "MAE: 46126.85293573374\n",
      "MSE: 2578.8306834944547\n",
      "MAPE: 0.21604188301842256\n",
      "AIC: 4088.544129208047\n",
      "------------------------\n"
     ]
    },
    {
     "name": "stderr",
     "output_type": "stream",
     "text": [
      "d:\\python\\lib\\site-packages\\statsmodels\\base\\model.py:604: ConvergenceWarning: Maximum Likelihood optimization failed to converge. Check mle_retvals\n",
      "  warnings.warn(\"Maximum Likelihood optimization failed to \"\n"
     ]
    },
    {
     "name": "stdout",
     "output_type": "stream",
     "text": [
      "LAG sendo Testado: 6\n",
      "MAE: 45409.16822284838\n",
      "MSE: 2494.7116679816686\n",
      "MAPE: 0.21269744041784588\n",
      "AIC: 4095.311265197475\n",
      "------------------------\n"
     ]
    },
    {
     "name": "stderr",
     "output_type": "stream",
     "text": [
      "d:\\python\\lib\\site-packages\\statsmodels\\base\\model.py:604: ConvergenceWarning: Maximum Likelihood optimization failed to converge. Check mle_retvals\n",
      "  warnings.warn(\"Maximum Likelihood optimization failed to \"\n"
     ]
    },
    {
     "name": "stdout",
     "output_type": "stream",
     "text": [
      "LAG sendo Testado: 8\n",
      "MAE: 55535.29774059791\n",
      "MSE: 3650.050802493894\n",
      "MAPE: 0.2606208329177317\n",
      "AIC: 4095.975795538372\n",
      "------------------------\n",
      "LAG sendo Testado: 9\n",
      "MAE: 55064.846845811735\n",
      "MSE: 3661.0892952708095\n",
      "MAPE: 0.2578334023737494\n",
      "AIC: 4089.4501571596784\n",
      "------------------------\n"
     ]
    },
    {
     "name": "stderr",
     "output_type": "stream",
     "text": [
      "d:\\python\\lib\\site-packages\\statsmodels\\base\\model.py:604: ConvergenceWarning: Maximum Likelihood optimization failed to converge. Check mle_retvals\n",
      "  warnings.warn(\"Maximum Likelihood optimization failed to \"\n"
     ]
    },
    {
     "name": "stdout",
     "output_type": "stream",
     "text": [
      "LAG sendo Testado: 10\n",
      "MAE: 55687.917754078146\n",
      "MSE: 3769.4060470622203\n",
      "MAPE: 0.26081102570529574\n",
      "AIC: 4093.6779469433204\n",
      "------------------------\n"
     ]
    },
    {
     "name": "stderr",
     "output_type": "stream",
     "text": [
      "d:\\python\\lib\\site-packages\\statsmodels\\base\\model.py:604: ConvergenceWarning: Maximum Likelihood optimization failed to converge. Check mle_retvals\n",
      "  warnings.warn(\"Maximum Likelihood optimization failed to \"\n"
     ]
    },
    {
     "name": "stdout",
     "output_type": "stream",
     "text": [
      "LAG sendo Testado: 11\n",
      "MAE: 59650.72102003251\n",
      "MSE: 4144.674537046353\n",
      "MAPE: 0.28075072867734024\n",
      "AIC: 4078.8069181526885\n",
      "------------------------\n"
     ]
    },
    {
     "name": "stderr",
     "output_type": "stream",
     "text": [
      "d:\\python\\lib\\site-packages\\statsmodels\\base\\model.py:604: ConvergenceWarning: Maximum Likelihood optimization failed to converge. Check mle_retvals\n",
      "  warnings.warn(\"Maximum Likelihood optimization failed to \"\n"
     ]
    },
    {
     "name": "stdout",
     "output_type": "stream",
     "text": [
      "LAG sendo Testado: 12\n",
      "MAE: 61622.61595937351\n",
      "MSE: 4296.4435562482295\n",
      "MAPE: 0.29215042081156106\n",
      "AIC: 4041.6127820082615\n",
      "------------------------\n",
      "LAG sendo Testado: 13\n",
      "MAE: 63118.408183816995\n",
      "MSE: 4526.080623694435\n",
      "MAPE: 0.2994272713707309\n",
      "AIC: 4048.6653539263734\n",
      "------------------------\n"
     ]
    },
    {
     "name": "stderr",
     "output_type": "stream",
     "text": [
      "d:\\python\\lib\\site-packages\\statsmodels\\base\\model.py:604: ConvergenceWarning: Maximum Likelihood optimization failed to converge. Check mle_retvals\n",
      "  warnings.warn(\"Maximum Likelihood optimization failed to \"\n"
     ]
    },
    {
     "name": "stdout",
     "output_type": "stream",
     "text": [
      "LAG sendo Testado: 14\n",
      "MAE: 98999.10270626766\n",
      "MSE: 10217.463455047175\n",
      "MAPE: 0.47421675830160587\n",
      "AIC: 5419.897394709959\n",
      "------------------------\n",
      "(182, 2)\n",
      "(24, 2)\n",
      "\n",
      "----------------------------\n",
      " Cross-Validation número 7\n",
      "----------------------------\n",
      "\n",
      "\n"
     ]
    },
    {
     "name": "stderr",
     "output_type": "stream",
     "text": [
      "d:\\python\\lib\\site-packages\\scipy\\linalg\\_solvers.py:214: LinAlgWarning: Ill-conditioned matrix (rcond=1.57683e-20): result may not be accurate.\n",
      "  x = solve(lhs, q.flatten())\n"
     ]
    },
    {
     "name": "stdout",
     "output_type": "stream",
     "text": [
      "LAG sendo Testado: 1\n",
      "MAE: 51063.61010650019\n",
      "MSE: 2978.400257782846\n",
      "MAPE: 0.2505895263789714\n",
      "AIC: 4031.4028975467336\n",
      "------------------------\n"
     ]
    },
    {
     "name": "stderr",
     "output_type": "stream",
     "text": [
      "d:\\python\\lib\\site-packages\\scipy\\linalg\\_solvers.py:214: LinAlgWarning: Ill-conditioned matrix (rcond=2.03148e-21): result may not be accurate.\n",
      "  x = solve(lhs, q.flatten())\n"
     ]
    },
    {
     "name": "stdout",
     "output_type": "stream",
     "text": [
      "LAG sendo Testado: 2\n",
      "MAE: 47761.862786129095\n",
      "MSE: 2628.3123239002953\n",
      "MAPE: 0.23442574990759513\n",
      "AIC: 4001.6632419015145\n",
      "------------------------\n"
     ]
    },
    {
     "name": "stderr",
     "output_type": "stream",
     "text": [
      "d:\\python\\lib\\site-packages\\scipy\\linalg\\_solvers.py:214: LinAlgWarning: Ill-conditioned matrix (rcond=2.63219e-22): result may not be accurate.\n",
      "  x = solve(lhs, q.flatten())\n"
     ]
    },
    {
     "name": "stdout",
     "output_type": "stream",
     "text": [
      "LAG sendo Testado: 3\n",
      "MAE: 50301.93510281735\n",
      "MSE: 2992.0631703319423\n",
      "MAPE: 0.2451953910894069\n",
      "AIC: 3981.977534631507\n",
      "------------------------\n"
     ]
    },
    {
     "name": "stderr",
     "output_type": "stream",
     "text": [
      "d:\\python\\lib\\site-packages\\scipy\\linalg\\_solvers.py:214: LinAlgWarning: Ill-conditioned matrix (rcond=1.38505e-22): result may not be accurate.\n",
      "  x = solve(lhs, q.flatten())\n",
      "d:\\python\\lib\\site-packages\\statsmodels\\base\\model.py:604: ConvergenceWarning: Maximum Likelihood optimization failed to converge. Check mle_retvals\n",
      "  warnings.warn(\"Maximum Likelihood optimization failed to \"\n"
     ]
    },
    {
     "name": "stdout",
     "output_type": "stream",
     "text": [
      "LAG sendo Testado: 4\n",
      "MAE: 51267.463336698966\n",
      "MSE: 3091.7814989697686\n",
      "MAPE: 0.25012317737250467\n",
      "AIC: 3987.3238082452294\n",
      "------------------------\n"
     ]
    },
    {
     "name": "stderr",
     "output_type": "stream",
     "text": [
      "d:\\python\\lib\\site-packages\\statsmodels\\base\\model.py:604: ConvergenceWarning: Maximum Likelihood optimization failed to converge. Check mle_retvals\n",
      "  warnings.warn(\"Maximum Likelihood optimization failed to \"\n"
     ]
    },
    {
     "name": "stdout",
     "output_type": "stream",
     "text": [
      "LAG sendo Testado: 5\n",
      "MAE: 49167.85967805514\n",
      "MSE: 2870.7425666711897\n",
      "MAPE: 0.23949072186267117\n",
      "AIC: 3984.180242060027\n",
      "------------------------\n",
      "LAG sendo Testado: 6\n",
      "MAE: 46845.8810508057\n",
      "MSE: 2622.89955793223\n",
      "MAPE: 0.22797891816483004\n",
      "AIC: 3991.1420041831293\n",
      "------------------------\n"
     ]
    },
    {
     "name": "stderr",
     "output_type": "stream",
     "text": [
      "d:\\python\\lib\\site-packages\\statsmodels\\base\\model.py:604: ConvergenceWarning: Maximum Likelihood optimization failed to converge. Check mle_retvals\n",
      "  warnings.warn(\"Maximum Likelihood optimization failed to \"\n"
     ]
    },
    {
     "name": "stdout",
     "output_type": "stream",
     "text": [
      "LAG sendo Testado: 7\n",
      "MAE: 46492.02920171836\n",
      "MSE: 2576.5265644125884\n",
      "MAPE: 0.22655243089125773\n",
      "AIC: 3995.9591503694273\n",
      "------------------------\n",
      "LAG sendo Testado: 8\n",
      "MAE: 52130.31330601268\n",
      "MSE: 3248.264635410442\n",
      "MAPE: 0.2538803923952515\n",
      "AIC: 3991.067052358799\n",
      "------------------------\n"
     ]
    },
    {
     "name": "stderr",
     "output_type": "stream",
     "text": [
      "d:\\python\\lib\\site-packages\\statsmodels\\base\\model.py:604: ConvergenceWarning: Maximum Likelihood optimization failed to converge. Check mle_retvals\n",
      "  warnings.warn(\"Maximum Likelihood optimization failed to \"\n"
     ]
    },
    {
     "name": "stdout",
     "output_type": "stream",
     "text": [
      "LAG sendo Testado: 9\n",
      "MAE: 51970.43275407864\n",
      "MSE: 3292.789384066748\n",
      "MAPE: 0.25254248761343717\n",
      "AIC: 3985.277645609368\n",
      "------------------------\n"
     ]
    },
    {
     "name": "stderr",
     "output_type": "stream",
     "text": [
      "d:\\python\\lib\\site-packages\\statsmodels\\base\\model.py:604: ConvergenceWarning: Maximum Likelihood optimization failed to converge. Check mle_retvals\n",
      "  warnings.warn(\"Maximum Likelihood optimization failed to \"\n"
     ]
    },
    {
     "name": "stdout",
     "output_type": "stream",
     "text": [
      "LAG sendo Testado: 10\n",
      "MAE: 56934.27752150502\n",
      "MSE: 3842.223541119566\n",
      "MAPE: 0.278067286097118\n",
      "AIC: 3989.6459932272633\n",
      "------------------------\n"
     ]
    },
    {
     "name": "stderr",
     "output_type": "stream",
     "text": [
      "d:\\python\\lib\\site-packages\\statsmodels\\base\\model.py:604: ConvergenceWarning: Maximum Likelihood optimization failed to converge. Check mle_retvals\n",
      "  warnings.warn(\"Maximum Likelihood optimization failed to \"\n"
     ]
    },
    {
     "name": "stdout",
     "output_type": "stream",
     "text": [
      "LAG sendo Testado: 11\n",
      "MAE: 57008.34798894458\n",
      "MSE: 3803.689424670553\n",
      "MAPE: 0.27888038202396903\n",
      "AIC: 3971.870380528383\n",
      "------------------------\n"
     ]
    },
    {
     "name": "stderr",
     "output_type": "stream",
     "text": [
      "d:\\python\\lib\\site-packages\\statsmodels\\base\\model.py:604: ConvergenceWarning: Maximum Likelihood optimization failed to converge. Check mle_retvals\n",
      "  warnings.warn(\"Maximum Likelihood optimization failed to \"\n"
     ]
    },
    {
     "name": "stdout",
     "output_type": "stream",
     "text": [
      "LAG sendo Testado: 12\n",
      "MAE: 59370.3188152177\n",
      "MSE: 4098.5694228568\n",
      "MAPE: 0.2915347064073787\n",
      "AIC: 3935.3153281573914\n",
      "------------------------\n"
     ]
    },
    {
     "name": "stderr",
     "output_type": "stream",
     "text": [
      "d:\\python\\lib\\site-packages\\statsmodels\\base\\model.py:604: ConvergenceWarning: Maximum Likelihood optimization failed to converge. Check mle_retvals\n",
      "  warnings.warn(\"Maximum Likelihood optimization failed to \"\n"
     ]
    },
    {
     "name": "stdout",
     "output_type": "stream",
     "text": [
      "LAG sendo Testado: 13\n",
      "MAE: 68179.86287220275\n",
      "MSE: 5291.414737869174\n",
      "MAPE: 0.3363106007334402\n",
      "AIC: 3941.5841100935772\n",
      "------------------------\n"
     ]
    },
    {
     "name": "stderr",
     "output_type": "stream",
     "text": [
      "d:\\python\\lib\\site-packages\\statsmodels\\base\\model.py:604: ConvergenceWarning: Maximum Likelihood optimization failed to converge. Check mle_retvals\n",
      "  warnings.warn(\"Maximum Likelihood optimization failed to \"\n"
     ]
    },
    {
     "name": "stdout",
     "output_type": "stream",
     "text": [
      "LAG sendo Testado: 14\n",
      "MAE: 68811.36627863404\n",
      "MSE: 5202.441132069835\n",
      "MAPE: 0.3397733954504492\n",
      "AIC: 5177.032070713945\n",
      "------------------------\n",
      "(177, 2)\n",
      "(24, 2)\n",
      "\n",
      "----------------------------\n",
      " Cross-Validation número 8\n",
      "----------------------------\n",
      "\n",
      "\n"
     ]
    },
    {
     "name": "stderr",
     "output_type": "stream",
     "text": [
      "d:\\python\\lib\\site-packages\\scipy\\linalg\\_solvers.py:214: LinAlgWarning: Ill-conditioned matrix (rcond=1.34867e-20): result may not be accurate.\n",
      "  x = solve(lhs, q.flatten())\n"
     ]
    },
    {
     "name": "stdout",
     "output_type": "stream",
     "text": [
      "LAG sendo Testado: 1\n",
      "MAE: 48947.38070599596\n",
      "MSE: 3004.479747640549\n",
      "MAPE: 0.24847539766784296\n",
      "AIC: 3922.981514463884\n",
      "------------------------\n"
     ]
    },
    {
     "name": "stderr",
     "output_type": "stream",
     "text": [
      "d:\\python\\lib\\site-packages\\scipy\\linalg\\_solvers.py:214: LinAlgWarning: Ill-conditioned matrix (rcond=1.32668e-21): result may not be accurate.\n",
      "  x = solve(lhs, q.flatten())\n"
     ]
    },
    {
     "name": "stdout",
     "output_type": "stream",
     "text": [
      "LAG sendo Testado: 2\n",
      "MAE: 43651.024370372754\n",
      "MSE: 2422.127336428555\n",
      "MAPE: 0.22140232881932817\n",
      "AIC: 3892.16975083483\n",
      "------------------------\n"
     ]
    },
    {
     "name": "stderr",
     "output_type": "stream",
     "text": [
      "d:\\python\\lib\\site-packages\\scipy\\linalg\\_solvers.py:214: LinAlgWarning: Ill-conditioned matrix (rcond=1.41951e-22): result may not be accurate.\n",
      "  x = solve(lhs, q.flatten())\n"
     ]
    },
    {
     "name": "stdout",
     "output_type": "stream",
     "text": [
      "LAG sendo Testado: 3\n",
      "MAE: 47026.08591493984\n",
      "MSE: 2848.487873453606\n",
      "MAPE: 0.23849286314169582\n",
      "AIC: 3872.9368611904656\n",
      "------------------------\n"
     ]
    },
    {
     "name": "stderr",
     "output_type": "stream",
     "text": [
      "d:\\python\\lib\\site-packages\\scipy\\linalg\\_solvers.py:214: LinAlgWarning: Ill-conditioned matrix (rcond=8.91117e-23): result may not be accurate.\n",
      "  x = solve(lhs, q.flatten())\n"
     ]
    },
    {
     "name": "stdout",
     "output_type": "stream",
     "text": [
      "LAG sendo Testado: 4\n",
      "MAE: 46484.24201450497\n",
      "MSE: 2769.7812122729606\n",
      "MAPE: 0.23578676045235558\n",
      "AIC: 3878.4606782681726\n",
      "------------------------\n",
      "LAG sendo Testado: 5\n",
      "MAE: 42161.575681375914\n",
      "MSE: 2263.282566647079\n",
      "MAPE: 0.21420050565880264\n",
      "AIC: 3874.4062875149916\n",
      "------------------------\n",
      "LAG sendo Testado: 6\n",
      "MAE: 40646.54795748988\n",
      "MSE: 2109.3207865205186\n",
      "MAPE: 0.20650645087205236\n",
      "AIC: 3881.468332256969\n",
      "------------------------\n"
     ]
    },
    {
     "name": "stderr",
     "output_type": "stream",
     "text": [
      "d:\\python\\lib\\site-packages\\statsmodels\\base\\model.py:604: ConvergenceWarning: Maximum Likelihood optimization failed to converge. Check mle_retvals\n",
      "  warnings.warn(\"Maximum Likelihood optimization failed to \"\n"
     ]
    },
    {
     "name": "stdout",
     "output_type": "stream",
     "text": [
      "LAG sendo Testado: 7\n",
      "MAE: 35755.42961149776\n",
      "MSE: 1642.4632297592332\n",
      "MAPE: 0.20278876412447833\n",
      "AIC: 3950.4632486236255\n",
      "------------------------\n"
     ]
    },
    {
     "name": "stderr",
     "output_type": "stream",
     "text": [
      "d:\\python\\lib\\site-packages\\statsmodels\\base\\model.py:604: ConvergenceWarning: Maximum Likelihood optimization failed to converge. Check mle_retvals\n",
      "  warnings.warn(\"Maximum Likelihood optimization failed to \"\n"
     ]
    },
    {
     "name": "stdout",
     "output_type": "stream",
     "text": [
      "LAG sendo Testado: 8\n",
      "MAE: 63645.64862408838\n",
      "MSE: 5074.476396386338\n",
      "MAPE: 0.3236615595001995\n",
      "AIC: 3880.3132575932314\n",
      "------------------------\n"
     ]
    },
    {
     "name": "stderr",
     "output_type": "stream",
     "text": [
      "d:\\python\\lib\\site-packages\\statsmodels\\base\\model.py:604: ConvergenceWarning: Maximum Likelihood optimization failed to converge. Check mle_retvals\n",
      "  warnings.warn(\"Maximum Likelihood optimization failed to \"\n"
     ]
    },
    {
     "name": "stdout",
     "output_type": "stream",
     "text": [
      "LAG sendo Testado: 9\n",
      "MAE: 63553.53090981551\n",
      "MSE: 5175.858528080295\n",
      "MAPE: 0.3224359497375078\n",
      "AIC: 3874.7313381686727\n",
      "------------------------\n"
     ]
    },
    {
     "name": "stderr",
     "output_type": "stream",
     "text": [
      "d:\\python\\lib\\site-packages\\statsmodels\\base\\model.py:604: ConvergenceWarning: Maximum Likelihood optimization failed to converge. Check mle_retvals\n",
      "  warnings.warn(\"Maximum Likelihood optimization failed to \"\n"
     ]
    },
    {
     "name": "stdout",
     "output_type": "stream",
     "text": [
      "LAG sendo Testado: 10\n",
      "MAE: 71841.76548344809\n",
      "MSE: 6416.678683108925\n",
      "MAPE: 0.36659153076528966\n",
      "AIC: 3877.5823546158663\n",
      "------------------------\n",
      "LAG sendo Testado: 11\n",
      "MAE: 69370.12327763897\n",
      "MSE: 5871.506807491966\n",
      "MAPE: 0.3563492868005668\n",
      "AIC: 3865.108110316899\n",
      "------------------------\n"
     ]
    },
    {
     "name": "stderr",
     "output_type": "stream",
     "text": [
      "d:\\python\\lib\\site-packages\\statsmodels\\base\\model.py:604: ConvergenceWarning: Maximum Likelihood optimization failed to converge. Check mle_retvals\n",
      "  warnings.warn(\"Maximum Likelihood optimization failed to \"\n"
     ]
    },
    {
     "name": "stdout",
     "output_type": "stream",
     "text": [
      "LAG sendo Testado: 12\n",
      "MAE: 76730.05131050455\n",
      "MSE: 7114.0570214789095\n",
      "MAPE: 0.39643481311717194\n",
      "AIC: 3831.015783257627\n",
      "------------------------\n"
     ]
    },
    {
     "name": "stderr",
     "output_type": "stream",
     "text": [
      "d:\\python\\lib\\site-packages\\statsmodels\\base\\model.py:604: ConvergenceWarning: Maximum Likelihood optimization failed to converge. Check mle_retvals\n",
      "  warnings.warn(\"Maximum Likelihood optimization failed to \"\n"
     ]
    },
    {
     "name": "stdout",
     "output_type": "stream",
     "text": [
      "LAG sendo Testado: 13\n",
      "MAE: 80805.65996890598\n",
      "MSE: 7800.382829407211\n",
      "MAPE: 0.41821315740960463\n",
      "AIC: 3840.5477647783864\n",
      "------------------------\n"
     ]
    },
    {
     "name": "stderr",
     "output_type": "stream",
     "text": [
      "d:\\python\\lib\\site-packages\\statsmodels\\base\\model.py:604: ConvergenceWarning: Maximum Likelihood optimization failed to converge. Check mle_retvals\n",
      "  warnings.warn(\"Maximum Likelihood optimization failed to \"\n"
     ]
    },
    {
     "name": "stdout",
     "output_type": "stream",
     "text": [
      "LAG sendo Testado: 14\n",
      "MAE: 45922.48886577968\n",
      "MSE: 2635.740077559785\n",
      "MAPE: 0.23325590995764686\n",
      "AIC: 5065.054548197391\n",
      "------------------------\n",
      "(172, 2)\n",
      "(24, 2)\n",
      "\n",
      "----------------------------\n",
      " Cross-Validation número 9\n",
      "----------------------------\n",
      "\n",
      "\n"
     ]
    },
    {
     "name": "stderr",
     "output_type": "stream",
     "text": [
      "d:\\python\\lib\\site-packages\\scipy\\linalg\\_solvers.py:214: LinAlgWarning: Ill-conditioned matrix (rcond=6.01279e-21): result may not be accurate.\n",
      "  x = solve(lhs, q.flatten())\n",
      "d:\\python\\lib\\site-packages\\statsmodels\\base\\model.py:604: ConvergenceWarning: Maximum Likelihood optimization failed to converge. Check mle_retvals\n",
      "  warnings.warn(\"Maximum Likelihood optimization failed to \"\n",
      "d:\\python\\lib\\site-packages\\scipy\\linalg\\_solvers.py:214: LinAlgWarning: Ill-conditioned matrix (rcond=1.31286e-21): result may not be accurate.\n",
      "  x = solve(lhs, q.flatten())\n"
     ]
    },
    {
     "name": "stdout",
     "output_type": "stream",
     "text": [
      "LAG sendo Testado: 1\n",
      "MAE: 64993.10561232597\n",
      "MSE: 4890.643812368434\n",
      "MAPE: 0.3537788445551\n",
      "AIC: 3817.9371405365277\n",
      "------------------------\n",
      "LAG sendo Testado: 2\n",
      "MAE: 49221.83630416315\n",
      "MSE: 3025.904863041246\n",
      "MAPE: 0.26408596441404036\n",
      "AIC: 3789.6820895094706\n",
      "------------------------\n"
     ]
    },
    {
     "name": "stderr",
     "output_type": "stream",
     "text": [
      "d:\\python\\lib\\site-packages\\scipy\\linalg\\_solvers.py:214: LinAlgWarning: Ill-conditioned matrix (rcond=1.0539e-22): result may not be accurate.\n",
      "  x = solve(lhs, q.flatten())\n"
     ]
    },
    {
     "name": "stdout",
     "output_type": "stream",
     "text": [
      "LAG sendo Testado: 3\n",
      "MAE: 57098.53496509642\n",
      "MSE: 3950.121093724735\n",
      "MAPE: 0.30788702087007325\n",
      "AIC: 3770.6039784547156\n",
      "------------------------\n"
     ]
    },
    {
     "name": "stderr",
     "output_type": "stream",
     "text": [
      "d:\\python\\lib\\site-packages\\scipy\\linalg\\_solvers.py:214: LinAlgWarning: Ill-conditioned matrix (rcond=7.60134e-23): result may not be accurate.\n",
      "  x = solve(lhs, q.flatten())\n"
     ]
    },
    {
     "name": "stdout",
     "output_type": "stream",
     "text": [
      "LAG sendo Testado: 4\n",
      "MAE: 59480.06712298949\n",
      "MSE: 4154.226330772297\n",
      "MAPE: 0.32224393601571705\n",
      "AIC: 3776.068539069246\n",
      "------------------------\n",
      "LAG sendo Testado: 5\n",
      "MAE: 53797.67268290982\n",
      "MSE: 3472.069904150303\n",
      "MAPE: 0.29036726774813\n",
      "AIC: 3772.9922338211118\n",
      "------------------------\n",
      "LAG sendo Testado: 6\n",
      "MAE: 49621.252953134106\n",
      "MSE: 2954.06604746425\n",
      "MAPE: 0.2676813553982411\n",
      "AIC: 3780.079237198798\n",
      "------------------------\n"
     ]
    },
    {
     "name": "stderr",
     "output_type": "stream",
     "text": [
      "d:\\python\\lib\\site-packages\\statsmodels\\base\\model.py:604: ConvergenceWarning: Maximum Likelihood optimization failed to converge. Check mle_retvals\n",
      "  warnings.warn(\"Maximum Likelihood optimization failed to \"\n"
     ]
    },
    {
     "name": "stdout",
     "output_type": "stream",
     "text": [
      "LAG sendo Testado: 7\n",
      "MAE: 57755.85055456244\n",
      "MSE: 3836.487405730982\n",
      "MAPE: 0.3144839969911225\n",
      "AIC: 3789.619951547095\n",
      "------------------------\n"
     ]
    },
    {
     "name": "stderr",
     "output_type": "stream",
     "text": [
      "d:\\python\\lib\\site-packages\\statsmodels\\base\\model.py:604: ConvergenceWarning: Maximum Likelihood optimization failed to converge. Check mle_retvals\n",
      "  warnings.warn(\"Maximum Likelihood optimization failed to \"\n"
     ]
    },
    {
     "name": "stdout",
     "output_type": "stream",
     "text": [
      "LAG sendo Testado: 8\n",
      "MAE: 74648.79011944904\n",
      "MSE: 6832.726088813728\n",
      "MAPE: 0.40437419506080313\n",
      "AIC: 3779.7921576877948\n",
      "------------------------\n"
     ]
    },
    {
     "name": "stderr",
     "output_type": "stream",
     "text": [
      "d:\\python\\lib\\site-packages\\statsmodels\\base\\model.py:604: ConvergenceWarning: Maximum Likelihood optimization failed to converge. Check mle_retvals\n",
      "  warnings.warn(\"Maximum Likelihood optimization failed to \"\n"
     ]
    },
    {
     "name": "stdout",
     "output_type": "stream",
     "text": [
      "LAG sendo Testado: 9\n",
      "MAE: 70255.440483958\n",
      "MSE: 6386.547088343348\n",
      "MAPE: 0.377994967339111\n",
      "AIC: 3775.3284042144205\n",
      "------------------------\n"
     ]
    },
    {
     "name": "stderr",
     "output_type": "stream",
     "text": [
      "d:\\python\\lib\\site-packages\\statsmodels\\base\\model.py:604: ConvergenceWarning: Maximum Likelihood optimization failed to converge. Check mle_retvals\n",
      "  warnings.warn(\"Maximum Likelihood optimization failed to \"\n"
     ]
    },
    {
     "name": "stdout",
     "output_type": "stream",
     "text": [
      "LAG sendo Testado: 10\n",
      "MAE: 74815.13766585663\n",
      "MSE: 7392.740680832463\n",
      "MAPE: 0.40268164016202546\n",
      "AIC: 3780.385862220317\n",
      "------------------------\n",
      "LAG sendo Testado: 11\n",
      "MAE: 73824.84459023805\n",
      "MSE: 7111.32955276135\n",
      "MAPE: 0.39915151598746873\n",
      "AIC: 3765.9682495211455\n",
      "------------------------\n"
     ]
    },
    {
     "name": "stderr",
     "output_type": "stream",
     "text": [
      "d:\\python\\lib\\site-packages\\statsmodels\\tsa\\statespace\\varmax.py:374: UserWarning: Non-stationary starting autoregressive parameters found. Using zeros as starting parameters.\n",
      "  warn('Non-stationary starting autoregressive parameters'\n",
      "d:\\python\\lib\\site-packages\\statsmodels\\base\\model.py:604: ConvergenceWarning: Maximum Likelihood optimization failed to converge. Check mle_retvals\n",
      "  warnings.warn(\"Maximum Likelihood optimization failed to \"\n"
     ]
    },
    {
     "name": "stdout",
     "output_type": "stream",
     "text": [
      "LAG sendo Testado: 13\n",
      "MAE: 51071.09493972359\n",
      "MSE: 2927.8783056725197\n",
      "MAPE: 0.28052531096369515\n",
      "AIC: 4154.829446843208\n",
      "------------------------\n"
     ]
    },
    {
     "name": "stderr",
     "output_type": "stream",
     "text": [
      "d:\\python\\lib\\site-packages\\statsmodels\\tsa\\statespace\\varmax.py:374: UserWarning: Non-stationary starting autoregressive parameters found. Using zeros as starting parameters.\n",
      "  warn('Non-stationary starting autoregressive parameters'\n"
     ]
    },
    {
     "name": "stdout",
     "output_type": "stream",
     "text": [
      "LAG sendo Testado: 14\n",
      "MAE: 31735.20476796593\n",
      "MSE: 1466.0557888083993\n",
      "MAPE: 0.19661095896155203\n",
      "AIC: 4751.465316960528\n",
      "------------------------\n",
      "(167, 2)\n",
      "(24, 2)\n",
      "\n",
      "----------------------------\n",
      " Cross-Validation número 10\n",
      "----------------------------\n",
      "\n",
      "\n"
     ]
    },
    {
     "name": "stderr",
     "output_type": "stream",
     "text": [
      "d:\\python\\lib\\site-packages\\statsmodels\\tsa\\statespace\\varmax.py:374: UserWarning: Non-stationary starting autoregressive parameters found. Using zeros as starting parameters.\n",
      "  warn('Non-stationary starting autoregressive parameters'\n",
      "d:\\python\\lib\\site-packages\\statsmodels\\base\\model.py:604: ConvergenceWarning: Maximum Likelihood optimization failed to converge. Check mle_retvals\n",
      "  warnings.warn(\"Maximum Likelihood optimization failed to \"\n",
      "d:\\python\\lib\\site-packages\\scipy\\linalg\\_solvers.py:214: LinAlgWarning: Ill-conditioned matrix (rcond=2.26564e-21): result may not be accurate.\n",
      "  x = solve(lhs, q.flatten())\n"
     ]
    },
    {
     "name": "stdout",
     "output_type": "stream",
     "text": [
      "LAG sendo Testado: 1\n",
      "MAE: 82879.5766168765\n",
      "MSE: 7572.144392478175\n",
      "MAPE: 0.4798038141876182\n",
      "AIC: 3743.038252870467\n",
      "------------------------\n",
      "LAG sendo Testado: 2\n",
      "MAE: 71431.73783346164\n",
      "MSE: 6186.7247026696805\n",
      "MAPE: 0.3989940525762638\n",
      "AIC: 3672.214866174949\n",
      "------------------------\n"
     ]
    },
    {
     "name": "stderr",
     "output_type": "stream",
     "text": [
      "d:\\python\\lib\\site-packages\\scipy\\linalg\\_solvers.py:214: LinAlgWarning: Ill-conditioned matrix (rcond=1.40098e-22): result may not be accurate.\n",
      "  x = solve(lhs, q.flatten())\n",
      "d:\\python\\lib\\site-packages\\statsmodels\\base\\model.py:604: ConvergenceWarning: Maximum Likelihood optimization failed to converge. Check mle_retvals\n",
      "  warnings.warn(\"Maximum Likelihood optimization failed to \"\n",
      "d:\\python\\lib\\site-packages\\scipy\\linalg\\_solvers.py:214: LinAlgWarning: Ill-conditioned matrix (rcond=8.88126e-23): result may not be accurate.\n",
      "  x = solve(lhs, q.flatten())\n"
     ]
    },
    {
     "name": "stdout",
     "output_type": "stream",
     "text": [
      "LAG sendo Testado: 3\n",
      "MAE: 59620.44415199291\n",
      "MSE: 4517.8269197286445\n",
      "MAPE: 0.33025652276441636\n",
      "AIC: 3655.0027332518425\n",
      "------------------------\n",
      "LAG sendo Testado: 4\n",
      "MAE: 56675.47052027865\n",
      "MSE: 4096.080373510439\n",
      "MAPE: 0.3136352484969131\n",
      "AIC: 3661.4203490117234\n",
      "------------------------\n",
      "LAG sendo Testado: 5\n",
      "MAE: 59812.962410839325\n",
      "MSE: 4635.873429756423\n",
      "MAPE: 0.33145707821228515\n",
      "AIC: 3661.278998778204\n",
      "------------------------\n"
     ]
    },
    {
     "name": "stderr",
     "output_type": "stream",
     "text": [
      "d:\\python\\lib\\site-packages\\statsmodels\\base\\model.py:604: ConvergenceWarning: Maximum Likelihood optimization failed to converge. Check mle_retvals\n",
      "  warnings.warn(\"Maximum Likelihood optimization failed to \"\n"
     ]
    },
    {
     "name": "stdout",
     "output_type": "stream",
     "text": [
      "LAG sendo Testado: 6\n",
      "MAE: 58518.03948803581\n",
      "MSE: 4353.000201903708\n",
      "MAPE: 0.3247473493923362\n",
      "AIC: 3668.486469077515\n",
      "------------------------\n"
     ]
    },
    {
     "name": "stderr",
     "output_type": "stream",
     "text": [
      "d:\\python\\lib\\site-packages\\statsmodels\\base\\model.py:604: ConvergenceWarning: Maximum Likelihood optimization failed to converge. Check mle_retvals\n",
      "  warnings.warn(\"Maximum Likelihood optimization failed to \"\n"
     ]
    },
    {
     "name": "stdout",
     "output_type": "stream",
     "text": [
      "LAG sendo Testado: 7\n",
      "MAE: 38950.77153069583\n",
      "MSE: 2231.6540501115214\n",
      "MAPE: 0.21286167665202704\n",
      "AIC: 3683.8907015779505\n",
      "------------------------\n",
      "LAG sendo Testado: 8\n",
      "MAE: 63663.18004374325\n",
      "MSE: 5687.767446414916\n",
      "MAPE: 0.3502663679126396\n",
      "AIC: 3670.4249565861674\n",
      "------------------------\n",
      "LAG sendo Testado: 9\n",
      "MAE: 66745.87557296621\n",
      "MSE: 6386.526892668756\n",
      "MAPE: 0.3669858689587542\n",
      "AIC: 3667.944360674759\n",
      "------------------------\n",
      "LAG sendo Testado: 10\n",
      "MAE: 73261.16009388608\n",
      "MSE: 7763.319205873196\n",
      "MAPE: 0.40434194568515375\n",
      "AIC: 3675.7537147914454\n",
      "------------------------\n"
     ]
    },
    {
     "name": "stderr",
     "output_type": "stream",
     "text": [
      "d:\\python\\lib\\site-packages\\statsmodels\\base\\model.py:604: ConvergenceWarning: Maximum Likelihood optimization failed to converge. Check mle_retvals\n",
      "  warnings.warn(\"Maximum Likelihood optimization failed to \"\n"
     ]
    },
    {
     "name": "stdout",
     "output_type": "stream",
     "text": [
      "LAG sendo Testado: 11\n",
      "MAE: 64274.97689206116\n",
      "MSE: 6301.537642148669\n",
      "MAPE: 0.35518795287513183\n",
      "AIC: 3663.6574499957014\n",
      "------------------------\n"
     ]
    },
    {
     "name": "stderr",
     "output_type": "stream",
     "text": [
      "d:\\python\\lib\\site-packages\\statsmodels\\tsa\\statespace\\varmax.py:374: UserWarning: Non-stationary starting autoregressive parameters found. Using zeros as starting parameters.\n",
      "  warn('Non-stationary starting autoregressive parameters'\n",
      "d:\\python\\lib\\site-packages\\statsmodels\\base\\model.py:604: ConvergenceWarning: Maximum Likelihood optimization failed to converge. Check mle_retvals\n",
      "  warnings.warn(\"Maximum Likelihood optimization failed to \"\n"
     ]
    },
    {
     "name": "stdout",
     "output_type": "stream",
     "text": [
      "LAG sendo Testado: 12\n",
      "MAE: 9916.311047153566\n",
      "MSE: 172.10301037295042\n",
      "MAPE: 0.06142093612118423\n",
      "AIC: 4025.2686913222606\n",
      "------------------------\n"
     ]
    },
    {
     "name": "stderr",
     "output_type": "stream",
     "text": [
      "d:\\python\\lib\\site-packages\\statsmodels\\tsa\\statespace\\varmax.py:374: UserWarning: Non-stationary starting autoregressive parameters found. Using zeros as starting parameters.\n",
      "  warn('Non-stationary starting autoregressive parameters'\n",
      "d:\\python\\lib\\site-packages\\statsmodels\\base\\model.py:604: ConvergenceWarning: Maximum Likelihood optimization failed to converge. Check mle_retvals\n",
      "  warnings.warn(\"Maximum Likelihood optimization failed to \"\n"
     ]
    },
    {
     "name": "stdout",
     "output_type": "stream",
     "text": [
      "LAG sendo Testado: 13\n",
      "MAE: 33792.380267697816\n",
      "MSE: 1404.0700921289713\n",
      "MAPE: 0.18888403146537971\n",
      "AIC: 3978.1596852757225\n",
      "------------------------\n"
     ]
    },
    {
     "name": "stderr",
     "output_type": "stream",
     "text": [
      "d:\\python\\lib\\site-packages\\statsmodels\\tsa\\statespace\\varmax.py:374: UserWarning: Non-stationary starting autoregressive parameters found. Using zeros as starting parameters.\n",
      "  warn('Non-stationary starting autoregressive parameters'\n"
     ]
    },
    {
     "name": "stdout",
     "output_type": "stream",
     "text": [
      "LAG sendo Testado: 14\n",
      "MAE: 37862.82385229534\n",
      "MSE: 1876.6935554157283\n",
      "MAPE: 0.23736724791577876\n",
      "AIC: 5427.987781335152\n",
      "------------------------\n",
      "(162, 2)\n",
      "(24, 2)\n",
      "\n",
      "----------------------------\n",
      " Cross-Validation número 11\n",
      "----------------------------\n",
      "\n",
      "\n"
     ]
    },
    {
     "name": "stderr",
     "output_type": "stream",
     "text": [
      "d:\\python\\lib\\site-packages\\scipy\\linalg\\_solvers.py:214: LinAlgWarning: Ill-conditioned matrix (rcond=3.69485e-21): result may not be accurate.\n",
      "  x = solve(lhs, q.flatten())\n",
      "d:\\python\\lib\\site-packages\\statsmodels\\base\\model.py:604: ConvergenceWarning: Maximum Likelihood optimization failed to converge. Check mle_retvals\n",
      "  warnings.warn(\"Maximum Likelihood optimization failed to \"\n",
      "d:\\python\\lib\\site-packages\\scipy\\linalg\\_solvers.py:214: LinAlgWarning: Ill-conditioned matrix (rcond=1.68665e-21): result may not be accurate.\n",
      "  x = solve(lhs, q.flatten())\n"
     ]
    },
    {
     "name": "stdout",
     "output_type": "stream",
     "text": [
      "LAG sendo Testado: 1\n",
      "MAE: 37235.70375119584\n",
      "MSE: 1727.6517262697503\n",
      "MAPE: 0.20591483834385613\n",
      "AIC: 3571.794580948834\n",
      "------------------------\n",
      "LAG sendo Testado: 2\n",
      "MAE: 29259.04985824958\n",
      "MSE: 1170.1480362082527\n",
      "MAPE: 0.16014185413492407\n",
      "AIC: 3549.511129559104\n",
      "------------------------\n"
     ]
    },
    {
     "name": "stderr",
     "output_type": "stream",
     "text": [
      "d:\\python\\lib\\site-packages\\scipy\\linalg\\_solvers.py:214: LinAlgWarning: Ill-conditioned matrix (rcond=1.90859e-22): result may not be accurate.\n",
      "  x = solve(lhs, q.flatten())\n",
      "d:\\python\\lib\\site-packages\\statsmodels\\base\\model.py:604: ConvergenceWarning: Maximum Likelihood optimization failed to converge. Check mle_retvals\n",
      "  warnings.warn(\"Maximum Likelihood optimization failed to \"\n",
      "d:\\python\\lib\\site-packages\\scipy\\linalg\\_solvers.py:214: LinAlgWarning: Ill-conditioned matrix (rcond=9.72228e-23): result may not be accurate.\n",
      "  x = solve(lhs, q.flatten())\n"
     ]
    },
    {
     "name": "stdout",
     "output_type": "stream",
     "text": [
      "LAG sendo Testado: 3\n",
      "MAE: 22177.655054643914\n",
      "MSE: 728.7323807193322\n",
      "MAPE: 0.12147284315016989\n",
      "AIC: 3531.717658609019\n",
      "------------------------\n",
      "LAG sendo Testado: 4\n",
      "MAE: 20091.434396978075\n",
      "MSE: 602.708174453102\n",
      "MAPE: 0.11023359004476484\n",
      "AIC: 3537.513814404217\n",
      "------------------------\n",
      "LAG sendo Testado: 5\n",
      "MAE: 20586.159925826283\n",
      "MSE: 636.8329471495962\n",
      "MAPE: 0.11288744988329813\n",
      "AIC: 3537.267233631185\n",
      "------------------------\n",
      "LAG sendo Testado: 6\n",
      "MAE: 20304.83066492507\n",
      "MSE: 612.5265253422696\n",
      "MAPE: 0.11136146082339682\n",
      "AIC: 3545.067051961941\n",
      "------------------------\n"
     ]
    },
    {
     "name": "stderr",
     "output_type": "stream",
     "text": [
      "d:\\python\\lib\\site-packages\\statsmodels\\base\\model.py:604: ConvergenceWarning: Maximum Likelihood optimization failed to converge. Check mle_retvals\n",
      "  warnings.warn(\"Maximum Likelihood optimization failed to \"\n"
     ]
    },
    {
     "name": "stdout",
     "output_type": "stream",
     "text": [
      "LAG sendo Testado: 7\n",
      "MAE: 16454.06336031778\n",
      "MSE: 454.82805202933116\n",
      "MAPE: 0.09308863414809432\n",
      "AIC: 3550.6589173668\n",
      "------------------------\n"
     ]
    },
    {
     "name": "stderr",
     "output_type": "stream",
     "text": [
      "d:\\python\\lib\\site-packages\\statsmodels\\base\\model.py:604: ConvergenceWarning: Maximum Likelihood optimization failed to converge. Check mle_retvals\n",
      "  warnings.warn(\"Maximum Likelihood optimization failed to \"\n"
     ]
    },
    {
     "name": "stdout",
     "output_type": "stream",
     "text": [
      "LAG sendo Testado: 8\n",
      "MAE: 17888.13657846917\n",
      "MSE: 481.9017251755695\n",
      "MAPE: 0.10310304328886762\n",
      "AIC: 3545.205787268152\n",
      "------------------------\n"
     ]
    },
    {
     "name": "stderr",
     "output_type": "stream",
     "text": [
      "d:\\python\\lib\\site-packages\\statsmodels\\base\\model.py:604: ConvergenceWarning: Maximum Likelihood optimization failed to converge. Check mle_retvals\n",
      "  warnings.warn(\"Maximum Likelihood optimization failed to \"\n"
     ]
    },
    {
     "name": "stdout",
     "output_type": "stream",
     "text": [
      "LAG sendo Testado: 9\n",
      "MAE: 22749.257716923807\n",
      "MSE: 692.1849248005657\n",
      "MAPE: 0.13639161017265936\n",
      "AIC: 3544.695875472829\n",
      "------------------------\n"
     ]
    },
    {
     "name": "stderr",
     "output_type": "stream",
     "text": [
      "d:\\python\\lib\\site-packages\\statsmodels\\base\\model.py:604: ConvergenceWarning: Maximum Likelihood optimization failed to converge. Check mle_retvals\n",
      "  warnings.warn(\"Maximum Likelihood optimization failed to \"\n"
     ]
    },
    {
     "name": "stdout",
     "output_type": "stream",
     "text": [
      "LAG sendo Testado: 10\n",
      "MAE: 21620.06654756397\n",
      "MSE: 642.6454558214782\n",
      "MAPE: 0.12538865774252841\n",
      "AIC: 3547.456107921256\n",
      "------------------------\n"
     ]
    },
    {
     "name": "stderr",
     "output_type": "stream",
     "text": [
      "d:\\python\\lib\\site-packages\\statsmodels\\base\\model.py:604: ConvergenceWarning: Maximum Likelihood optimization failed to converge. Check mle_retvals\n",
      "  warnings.warn(\"Maximum Likelihood optimization failed to \"\n"
     ]
    },
    {
     "name": "stdout",
     "output_type": "stream",
     "text": [
      "LAG sendo Testado: 11\n",
      "MAE: 24790.228284746543\n",
      "MSE: 837.7794123865675\n",
      "MAPE: 0.14592365225231774\n",
      "AIC: 3537.372471678561\n",
      "------------------------\n"
     ]
    },
    {
     "name": "stderr",
     "output_type": "stream",
     "text": [
      "d:\\python\\lib\\site-packages\\statsmodels\\base\\model.py:604: ConvergenceWarning: Maximum Likelihood optimization failed to converge. Check mle_retvals\n",
      "  warnings.warn(\"Maximum Likelihood optimization failed to \"\n"
     ]
    },
    {
     "name": "stdout",
     "output_type": "stream",
     "text": [
      "LAG sendo Testado: 12\n",
      "MAE: 29872.368462275164\n",
      "MSE: 1245.6280610128454\n",
      "MAPE: 0.17581736716064364\n",
      "AIC: 3503.4233820159734\n",
      "------------------------\n"
     ]
    },
    {
     "name": "stderr",
     "output_type": "stream",
     "text": [
      "d:\\python\\lib\\site-packages\\statsmodels\\base\\model.py:604: ConvergenceWarning: Maximum Likelihood optimization failed to converge. Check mle_retvals\n",
      "  warnings.warn(\"Maximum Likelihood optimization failed to \"\n"
     ]
    },
    {
     "name": "stdout",
     "output_type": "stream",
     "text": [
      "LAG sendo Testado: 13\n",
      "MAE: 28839.002984919516\n",
      "MSE: 1160.1915489956966\n",
      "MAPE: 0.1674739442883043\n",
      "AIC: 3513.1140728193127\n",
      "------------------------\n"
     ]
    },
    {
     "name": "stderr",
     "output_type": "stream",
     "text": [
      "d:\\python\\lib\\site-packages\\statsmodels\\base\\model.py:604: ConvergenceWarning: Maximum Likelihood optimization failed to converge. Check mle_retvals\n",
      "  warnings.warn(\"Maximum Likelihood optimization failed to \"\n"
     ]
    },
    {
     "name": "stdout",
     "output_type": "stream",
     "text": [
      "LAG sendo Testado: 14\n",
      "MAE: 43174.000180083494\n",
      "MSE: 2395.768976459572\n",
      "MAPE: 0.2342623783149099\n",
      "AIC: 4566.314617138631\n",
      "------------------------\n",
      "(157, 2)\n",
      "(24, 2)\n",
      "\n",
      "----------------------------\n",
      " Cross-Validation número 12\n",
      "----------------------------\n",
      "\n",
      "\n"
     ]
    },
    {
     "name": "stderr",
     "output_type": "stream",
     "text": [
      "d:\\python\\lib\\site-packages\\scipy\\linalg\\_solvers.py:214: LinAlgWarning: Ill-conditioned matrix (rcond=4.76379e-21): result may not be accurate.\n",
      "  x = solve(lhs, q.flatten())\n",
      "d:\\python\\lib\\site-packages\\statsmodels\\base\\model.py:604: ConvergenceWarning: Maximum Likelihood optimization failed to converge. Check mle_retvals\n",
      "  warnings.warn(\"Maximum Likelihood optimization failed to \"\n",
      "d:\\python\\lib\\site-packages\\scipy\\linalg\\_solvers.py:214: LinAlgWarning: Ill-conditioned matrix (rcond=1.03845e-21): result may not be accurate.\n",
      "  x = solve(lhs, q.flatten())\n"
     ]
    },
    {
     "name": "stdout",
     "output_type": "stream",
     "text": [
      "LAG sendo Testado: 1\n",
      "MAE: 17208.33756593299\n",
      "MSE: 465.8906014426312\n",
      "MAPE: 0.09731014069177456\n",
      "AIC: 3451.2001216649796\n",
      "------------------------\n",
      "LAG sendo Testado: 2\n",
      "MAE: 26638.65536926939\n",
      "MSE: 1017.7527092467031\n",
      "MAPE: 0.1570970509387078\n",
      "AIC: 3426.630524408317\n",
      "------------------------\n"
     ]
    },
    {
     "name": "stderr",
     "output_type": "stream",
     "text": [
      "d:\\python\\lib\\site-packages\\scipy\\linalg\\_solvers.py:214: LinAlgWarning: Ill-conditioned matrix (rcond=2.94217e-22): result may not be accurate.\n",
      "  x = solve(lhs, q.flatten())\n",
      "d:\\python\\lib\\site-packages\\statsmodels\\base\\model.py:604: ConvergenceWarning: Maximum Likelihood optimization failed to converge. Check mle_retvals\n",
      "  warnings.warn(\"Maximum Likelihood optimization failed to \"\n",
      "d:\\python\\lib\\site-packages\\scipy\\linalg\\_solvers.py:214: LinAlgWarning: Ill-conditioned matrix (rcond=1.56795e-22): result may not be accurate.\n",
      "  x = solve(lhs, q.flatten())\n"
     ]
    },
    {
     "name": "stdout",
     "output_type": "stream",
     "text": [
      "LAG sendo Testado: 3\n",
      "MAE: 46771.231787878256\n",
      "MSE: 2514.5098229530486\n",
      "MAPE: 0.2722673353246526\n",
      "AIC: 3410.752259804501\n",
      "------------------------\n"
     ]
    },
    {
     "name": "stderr",
     "output_type": "stream",
     "text": [
      "d:\\python\\lib\\site-packages\\statsmodels\\base\\model.py:604: ConvergenceWarning: Maximum Likelihood optimization failed to converge. Check mle_retvals\n",
      "  warnings.warn(\"Maximum Likelihood optimization failed to \"\n"
     ]
    },
    {
     "name": "stdout",
     "output_type": "stream",
     "text": [
      "LAG sendo Testado: 4\n",
      "MAE: 51853.39650594089\n",
      "MSE: 3016.2315141018776\n",
      "MAPE: 0.30150622606118715\n",
      "AIC: 3417.557928054727\n",
      "------------------------\n"
     ]
    },
    {
     "name": "stderr",
     "output_type": "stream",
     "text": [
      "d:\\python\\lib\\site-packages\\statsmodels\\base\\model.py:604: ConvergenceWarning: Maximum Likelihood optimization failed to converge. Check mle_retvals\n",
      "  warnings.warn(\"Maximum Likelihood optimization failed to \"\n"
     ]
    },
    {
     "name": "stdout",
     "output_type": "stream",
     "text": [
      "LAG sendo Testado: 5\n",
      "MAE: 54964.58446891024\n",
      "MSE: 3340.2349621506514\n",
      "MAPE: 0.3183707626829067\n",
      "AIC: 3418.6628947272957\n",
      "------------------------\n",
      "LAG sendo Testado: 6\n",
      "MAE: 53884.41130402673\n",
      "MSE: 3227.2088361308265\n",
      "MAPE: 0.3125337828342962\n",
      "AIC: 3426.4533593850792\n",
      "------------------------\n"
     ]
    },
    {
     "name": "stderr",
     "output_type": "stream",
     "text": [
      "d:\\python\\lib\\site-packages\\statsmodels\\base\\model.py:604: ConvergenceWarning: Maximum Likelihood optimization failed to converge. Check mle_retvals\n",
      "  warnings.warn(\"Maximum Likelihood optimization failed to \"\n"
     ]
    },
    {
     "name": "stdout",
     "output_type": "stream",
     "text": [
      "LAG sendo Testado: 7\n",
      "MAE: 56992.65624537254\n",
      "MSE: 3555.6653167389413\n",
      "MAPE: 0.3287803386628723\n",
      "AIC: 3431.1666191012914\n",
      "------------------------\n",
      "LAG sendo Testado: 8\n",
      "MAE: 57193.45091672015\n",
      "MSE: 3599.1111913882655\n",
      "MAPE: 0.33149321410203925\n",
      "AIC: 3428.163139389768\n",
      "------------------------\n"
     ]
    },
    {
     "name": "stderr",
     "output_type": "stream",
     "text": [
      "d:\\python\\lib\\site-packages\\statsmodels\\base\\model.py:604: ConvergenceWarning: Maximum Likelihood optimization failed to converge. Check mle_retvals\n",
      "  warnings.warn(\"Maximum Likelihood optimization failed to \"\n"
     ]
    },
    {
     "name": "stdout",
     "output_type": "stream",
     "text": [
      "LAG sendo Testado: 9\n",
      "MAE: 64626.88401087805\n",
      "MSE: 4537.913936042363\n",
      "MAPE: 0.3749128586112495\n",
      "AIC: 3426.663473205371\n",
      "------------------------\n"
     ]
    },
    {
     "name": "stderr",
     "output_type": "stream",
     "text": [
      "d:\\python\\lib\\site-packages\\statsmodels\\base\\model.py:604: ConvergenceWarning: Maximum Likelihood optimization failed to converge. Check mle_retvals\n",
      "  warnings.warn(\"Maximum Likelihood optimization failed to \"\n"
     ]
    },
    {
     "name": "stdout",
     "output_type": "stream",
     "text": [
      "LAG sendo Testado: 10\n",
      "MAE: 61172.510730143695\n",
      "MSE: 4066.8587295134657\n",
      "MAPE: 0.3540513830843806\n",
      "AIC: 3429.9731110909256\n",
      "------------------------\n"
     ]
    },
    {
     "name": "stderr",
     "output_type": "stream",
     "text": [
      "d:\\python\\lib\\site-packages\\statsmodels\\base\\model.py:604: ConvergenceWarning: Maximum Likelihood optimization failed to converge. Check mle_retvals\n",
      "  warnings.warn(\"Maximum Likelihood optimization failed to \"\n"
     ]
    },
    {
     "name": "stdout",
     "output_type": "stream",
     "text": [
      "LAG sendo Testado: 11\n",
      "MAE: 57788.00360610811\n",
      "MSE: 3674.176822936231\n",
      "MAPE: 0.33489088559678465\n",
      "AIC: 3422.9973414826727\n",
      "------------------------\n"
     ]
    },
    {
     "name": "stderr",
     "output_type": "stream",
     "text": [
      "d:\\python\\lib\\site-packages\\statsmodels\\base\\model.py:604: ConvergenceWarning: Maximum Likelihood optimization failed to converge. Check mle_retvals\n",
      "  warnings.warn(\"Maximum Likelihood optimization failed to \"\n"
     ]
    },
    {
     "name": "stdout",
     "output_type": "stream",
     "text": [
      "LAG sendo Testado: 12\n",
      "MAE: 58306.90967536301\n",
      "MSE: 3831.4754711694623\n",
      "MAPE: 0.3389621741873705\n",
      "AIC: 3387.7301156219573\n",
      "------------------------\n",
      "LAG sendo Testado: 13\n",
      "MAE: 56272.41545263532\n",
      "MSE: 3549.510164730449\n",
      "MAPE: 0.32603534844471754\n",
      "AIC: 3398.8028094854662\n",
      "------------------------\n"
     ]
    },
    {
     "name": "stderr",
     "output_type": "stream",
     "text": [
      "d:\\python\\lib\\site-packages\\statsmodels\\base\\model.py:604: ConvergenceWarning: Maximum Likelihood optimization failed to converge. Check mle_retvals\n",
      "  warnings.warn(\"Maximum Likelihood optimization failed to \"\n"
     ]
    },
    {
     "name": "stdout",
     "output_type": "stream",
     "text": [
      "LAG sendo Testado: 14\n",
      "MAE: 64481.709584299555\n",
      "MSE: 4764.644150273323\n",
      "MAPE: 0.3426480962736235\n",
      "AIC: 4452.2219306784355\n",
      "------------------------\n",
      "(152, 2)\n",
      "(24, 2)\n",
      "\n",
      "----------------------------\n",
      " Cross-Validation número 13\n",
      "----------------------------\n",
      "\n",
      "\n"
     ]
    },
    {
     "name": "stderr",
     "output_type": "stream",
     "text": [
      "d:\\python\\lib\\site-packages\\scipy\\linalg\\_solvers.py:214: LinAlgWarning: Ill-conditioned matrix (rcond=5.00249e-21): result may not be accurate.\n",
      "  x = solve(lhs, q.flatten())\n"
     ]
    },
    {
     "name": "stdout",
     "output_type": "stream",
     "text": [
      "LAG sendo Testado: 1\n",
      "MAE: 32722.454901112727\n",
      "MSE: 1763.9368553810348\n",
      "MAPE: 0.16257389880334996\n",
      "AIC: 3333.991085268897\n",
      "------------------------\n"
     ]
    },
    {
     "name": "stderr",
     "output_type": "stream",
     "text": [
      "d:\\python\\lib\\site-packages\\scipy\\linalg\\_solvers.py:214: LinAlgWarning: Ill-conditioned matrix (rcond=7.42322e-22): result may not be accurate.\n",
      "  x = solve(lhs, q.flatten())\n"
     ]
    },
    {
     "name": "stdout",
     "output_type": "stream",
     "text": [
      "LAG sendo Testado: 2\n",
      "MAE: 34240.17600405533\n",
      "MSE: 1801.2351555984649\n",
      "MAPE: 0.17588285833726844\n",
      "AIC: 3313.3795437371064\n",
      "------------------------\n"
     ]
    },
    {
     "name": "stderr",
     "output_type": "stream",
     "text": [
      "d:\\python\\lib\\site-packages\\scipy\\linalg\\_solvers.py:214: LinAlgWarning: Ill-conditioned matrix (rcond=2.40549e-22): result may not be accurate.\n",
      "  x = solve(lhs, q.flatten())\n",
      "d:\\python\\lib\\site-packages\\statsmodels\\base\\model.py:604: ConvergenceWarning: Maximum Likelihood optimization failed to converge. Check mle_retvals\n",
      "  warnings.warn(\"Maximum Likelihood optimization failed to \"\n",
      "d:\\python\\lib\\site-packages\\scipy\\linalg\\_solvers.py:214: LinAlgWarning: Ill-conditioned matrix (rcond=1.18369e-22): result may not be accurate.\n",
      "  x = solve(lhs, q.flatten())\n"
     ]
    },
    {
     "name": "stdout",
     "output_type": "stream",
     "text": [
      "LAG sendo Testado: 3\n",
      "MAE: 42293.163728033214\n",
      "MSE: 2401.0964652813286\n",
      "MAPE: 0.22255094627591543\n",
      "AIC: 3296.698411972936\n",
      "------------------------\n",
      "LAG sendo Testado: 4\n",
      "MAE: 44389.16939807633\n",
      "MSE: 2584.3317701582378\n",
      "MAPE: 0.23457505825466793\n",
      "AIC: 3303.4280051707274\n",
      "------------------------\n",
      "LAG sendo Testado: 5\n",
      "MAE: 45827.728054178566\n",
      "MSE: 2669.731870069915\n",
      "MAPE: 0.2427306974725778\n",
      "AIC: 3305.074927622593\n",
      "------------------------\n",
      "LAG sendo Testado: 6\n",
      "MAE: 45241.57351260388\n",
      "MSE: 2616.4866366467604\n",
      "MAPE: 0.23938693383795825\n",
      "AIC: 3312.8543406385606\n",
      "------------------------\n"
     ]
    },
    {
     "name": "stderr",
     "output_type": "stream",
     "text": [
      "d:\\python\\lib\\site-packages\\statsmodels\\base\\model.py:604: ConvergenceWarning: Maximum Likelihood optimization failed to converge. Check mle_retvals\n",
      "  warnings.warn(\"Maximum Likelihood optimization failed to \"\n"
     ]
    },
    {
     "name": "stdout",
     "output_type": "stream",
     "text": [
      "LAG sendo Testado: 7\n",
      "MAE: 43302.43149375384\n",
      "MSE: 2426.7595466023245\n",
      "MAPE: 0.227415612554173\n",
      "AIC: 3318.883439922057\n",
      "------------------------\n",
      "LAG sendo Testado: 8\n",
      "MAE: 45225.994716406945\n",
      "MSE: 2591.6766126092325\n",
      "MAPE: 0.23826330127435677\n",
      "AIC: 3315.9174122129134\n",
      "------------------------\n"
     ]
    },
    {
     "name": "stderr",
     "output_type": "stream",
     "text": [
      "d:\\python\\lib\\site-packages\\statsmodels\\base\\model.py:604: ConvergenceWarning: Maximum Likelihood optimization failed to converge. Check mle_retvals\n",
      "  warnings.warn(\"Maximum Likelihood optimization failed to \"\n"
     ]
    },
    {
     "name": "stdout",
     "output_type": "stream",
     "text": [
      "LAG sendo Testado: 9\n",
      "MAE: 51260.291863996164\n",
      "MSE: 3300.3734627809254\n",
      "MAPE: 0.27498245173286434\n",
      "AIC: 3313.9565936171794\n",
      "------------------------\n"
     ]
    },
    {
     "name": "stderr",
     "output_type": "stream",
     "text": [
      "d:\\python\\lib\\site-packages\\statsmodels\\base\\model.py:604: ConvergenceWarning: Maximum Likelihood optimization failed to converge. Check mle_retvals\n",
      "  warnings.warn(\"Maximum Likelihood optimization failed to \"\n"
     ]
    },
    {
     "name": "stdout",
     "output_type": "stream",
     "text": [
      "LAG sendo Testado: 10\n",
      "MAE: 45518.21540316401\n",
      "MSE: 2700.3797421551285\n",
      "MAPE: 0.24123958695530145\n",
      "AIC: 3318.1384623815893\n",
      "------------------------\n"
     ]
    },
    {
     "name": "stderr",
     "output_type": "stream",
     "text": [
      "d:\\python\\lib\\site-packages\\statsmodels\\base\\model.py:604: ConvergenceWarning: Maximum Likelihood optimization failed to converge. Check mle_retvals\n",
      "  warnings.warn(\"Maximum Likelihood optimization failed to \"\n"
     ]
    },
    {
     "name": "stdout",
     "output_type": "stream",
     "text": [
      "LAG sendo Testado: 11\n",
      "MAE: 50155.3725659269\n",
      "MSE: 3086.5444000521675\n",
      "MAPE: 0.270119664793294\n",
      "AIC: 3311.704292612885\n",
      "------------------------\n"
     ]
    },
    {
     "name": "stderr",
     "output_type": "stream",
     "text": [
      "d:\\python\\lib\\site-packages\\statsmodels\\base\\model.py:604: ConvergenceWarning: Maximum Likelihood optimization failed to converge. Check mle_retvals\n",
      "  warnings.warn(\"Maximum Likelihood optimization failed to \"\n"
     ]
    },
    {
     "name": "stdout",
     "output_type": "stream",
     "text": [
      "LAG sendo Testado: 12\n",
      "MAE: 54085.399710649275\n",
      "MSE: 3623.912364096157\n",
      "MAPE: 0.29518496709250913\n",
      "AIC: 3281.008864565685\n",
      "------------------------\n"
     ]
    },
    {
     "name": "stderr",
     "output_type": "stream",
     "text": [
      "d:\\python\\lib\\site-packages\\statsmodels\\base\\model.py:604: ConvergenceWarning: Maximum Likelihood optimization failed to converge. Check mle_retvals\n",
      "  warnings.warn(\"Maximum Likelihood optimization failed to \"\n"
     ]
    },
    {
     "name": "stdout",
     "output_type": "stream",
     "text": [
      "LAG sendo Testado: 13\n",
      "MAE: 52189.33233179981\n",
      "MSE: 3381.95645826629\n",
      "MAPE: 0.2847053075566186\n",
      "AIC: 3289.227752549304\n",
      "------------------------\n"
     ]
    },
    {
     "name": "stderr",
     "output_type": "stream",
     "text": [
      "d:\\python\\lib\\site-packages\\statsmodels\\base\\model.py:604: ConvergenceWarning: Maximum Likelihood optimization failed to converge. Check mle_retvals\n",
      "  warnings.warn(\"Maximum Likelihood optimization failed to \"\n"
     ]
    },
    {
     "name": "stdout",
     "output_type": "stream",
     "text": [
      "LAG sendo Testado: 14\n",
      "MAE: 96469.82793642856\n",
      "MSE: 11811.948344110171\n",
      "MAPE: 0.4371233377394798\n",
      "AIC: 4444.54583465654\n",
      "------------------------\n",
      "(147, 2)\n",
      "(24, 2)\n",
      "\n",
      "----------------------------\n",
      " Cross-Validation número 14\n",
      "----------------------------\n",
      "\n",
      "\n"
     ]
    },
    {
     "name": "stderr",
     "output_type": "stream",
     "text": [
      "d:\\python\\lib\\site-packages\\scipy\\linalg\\_solvers.py:214: LinAlgWarning: Ill-conditioned matrix (rcond=4.57963e-21): result may not be accurate.\n",
      "  x = solve(lhs, q.flatten())\n"
     ]
    },
    {
     "name": "stdout",
     "output_type": "stream",
     "text": [
      "LAG sendo Testado: 1\n",
      "MAE: 41703.42293181608\n",
      "MSE: 2955.4917264573633\n",
      "MAPE: 0.17018652393103287\n",
      "AIC: 3229.009098394764\n",
      "------------------------\n"
     ]
    },
    {
     "name": "stderr",
     "output_type": "stream",
     "text": [
      "d:\\python\\lib\\site-packages\\scipy\\linalg\\_solvers.py:214: LinAlgWarning: Ill-conditioned matrix (rcond=8.66146e-22): result may not be accurate.\n",
      "  x = solve(lhs, q.flatten())\n"
     ]
    },
    {
     "name": "stdout",
     "output_type": "stream",
     "text": [
      "LAG sendo Testado: 2\n",
      "MAE: 38307.19765262427\n",
      "MSE: 2508.5249490500796\n",
      "MAPE: 0.16027586803722144\n",
      "AIC: 3209.8815626855085\n",
      "------------------------\n"
     ]
    },
    {
     "name": "stderr",
     "output_type": "stream",
     "text": [
      "d:\\python\\lib\\site-packages\\scipy\\linalg\\_solvers.py:214: LinAlgWarning: Ill-conditioned matrix (rcond=2.52397e-22): result may not be accurate.\n",
      "  x = solve(lhs, q.flatten())\n",
      "d:\\python\\lib\\site-packages\\statsmodels\\base\\model.py:604: ConvergenceWarning: Maximum Likelihood optimization failed to converge. Check mle_retvals\n",
      "  warnings.warn(\"Maximum Likelihood optimization failed to \"\n",
      "d:\\python\\lib\\site-packages\\scipy\\linalg\\_solvers.py:214: LinAlgWarning: Ill-conditioned matrix (rcond=1.201e-22): result may not be accurate.\n",
      "  x = solve(lhs, q.flatten())\n"
     ]
    },
    {
     "name": "stdout",
     "output_type": "stream",
     "text": [
      "LAG sendo Testado: 3\n",
      "MAE: 35344.93839616344\n",
      "MSE: 2014.5874248612092\n",
      "MAPE: 0.15826626663310403\n",
      "AIC: 3195.878346016001\n",
      "------------------------\n",
      "LAG sendo Testado: 4\n",
      "MAE: 35920.91533748966\n",
      "MSE: 2041.5472658415363\n",
      "MAPE: 0.1642564136051942\n",
      "AIC: 3202.809540179362\n",
      "------------------------\n",
      "LAG sendo Testado: 5\n",
      "MAE: 34393.575620737305\n",
      "MSE: 1905.2255503303631\n",
      "MAPE: 0.16005461976848193\n",
      "AIC: 3205.029056613652\n",
      "------------------------\n",
      "LAG sendo Testado: 6\n",
      "MAE: 35189.48020596368\n",
      "MSE: 1974.7696039280197\n",
      "MAPE: 0.163275747912658\n",
      "AIC: 3212.529217958321\n",
      "------------------------\n"
     ]
    },
    {
     "name": "stderr",
     "output_type": "stream",
     "text": [
      "d:\\python\\lib\\site-packages\\statsmodels\\base\\model.py:604: ConvergenceWarning: Maximum Likelihood optimization failed to converge. Check mle_retvals\n",
      "  warnings.warn(\"Maximum Likelihood optimization failed to \"\n"
     ]
    },
    {
     "name": "stdout",
     "output_type": "stream",
     "text": [
      "LAG sendo Testado: 7\n",
      "MAE: 35621.02477310825\n",
      "MSE: 1990.697012928996\n",
      "MAPE: 0.1672943481425766\n",
      "AIC: 3217.882341146911\n",
      "------------------------\n",
      "LAG sendo Testado: 8\n",
      "MAE: 34611.87919870362\n",
      "MSE: 1893.1951422124214\n",
      "MAPE: 0.16574965734073996\n",
      "AIC: 3214.1992912448713\n",
      "------------------------\n"
     ]
    },
    {
     "name": "stderr",
     "output_type": "stream",
     "text": [
      "d:\\python\\lib\\site-packages\\statsmodels\\base\\model.py:604: ConvergenceWarning: Maximum Likelihood optimization failed to converge. Check mle_retvals\n",
      "  warnings.warn(\"Maximum Likelihood optimization failed to \"\n"
     ]
    },
    {
     "name": "stdout",
     "output_type": "stream",
     "text": [
      "LAG sendo Testado: 9\n",
      "MAE: 38994.804213543124\n",
      "MSE: 2323.479732516609\n",
      "MAPE: 0.19602137019088314\n",
      "AIC: 3213.4328426417223\n",
      "------------------------\n"
     ]
    },
    {
     "name": "stderr",
     "output_type": "stream",
     "text": [
      "d:\\python\\lib\\site-packages\\statsmodels\\base\\model.py:604: ConvergenceWarning: Maximum Likelihood optimization failed to converge. Check mle_retvals\n",
      "  warnings.warn(\"Maximum Likelihood optimization failed to \"\n"
     ]
    },
    {
     "name": "stdout",
     "output_type": "stream",
     "text": [
      "LAG sendo Testado: 10\n",
      "MAE: 31357.396391807084\n",
      "MSE: 1700.841522706422\n",
      "MAPE: 0.1499740266620435\n",
      "AIC: 3216.3754929046436\n",
      "------------------------\n"
     ]
    },
    {
     "name": "stderr",
     "output_type": "stream",
     "text": [
      "d:\\python\\lib\\site-packages\\statsmodels\\base\\model.py:604: ConvergenceWarning: Maximum Likelihood optimization failed to converge. Check mle_retvals\n",
      "  warnings.warn(\"Maximum Likelihood optimization failed to \"\n"
     ]
    },
    {
     "name": "stdout",
     "output_type": "stream",
     "text": [
      "LAG sendo Testado: 11\n",
      "MAE: 35734.300607131016\n",
      "MSE: 1958.0030265489024\n",
      "MAPE: 0.1800698231619332\n",
      "AIC: 3212.0499682620302\n",
      "------------------------\n"
     ]
    },
    {
     "name": "stderr",
     "output_type": "stream",
     "text": [
      "d:\\python\\lib\\site-packages\\statsmodels\\base\\model.py:604: ConvergenceWarning: Maximum Likelihood optimization failed to converge. Check mle_retvals\n",
      "  warnings.warn(\"Maximum Likelihood optimization failed to \"\n"
     ]
    },
    {
     "name": "stdout",
     "output_type": "stream",
     "text": [
      "LAG sendo Testado: 12\n",
      "MAE: 42392.12961730666\n",
      "MSE: 2633.187179271225\n",
      "MAPE: 0.21873356548295764\n",
      "AIC: 3179.795019697527\n",
      "------------------------\n",
      "LAG sendo Testado: 13\n",
      "MAE: 43160.90872256673\n",
      "MSE: 2678.279393865019\n",
      "MAPE: 0.2215868203116463\n",
      "AIC: 3189.1533847118144\n",
      "------------------------\n"
     ]
    },
    {
     "name": "stderr",
     "output_type": "stream",
     "text": [
      "d:\\python\\lib\\site-packages\\statsmodels\\base\\model.py:604: ConvergenceWarning: Maximum Likelihood optimization failed to converge. Check mle_retvals\n",
      "  warnings.warn(\"Maximum Likelihood optimization failed to \"\n"
     ]
    },
    {
     "name": "stdout",
     "output_type": "stream",
     "text": [
      "LAG sendo Testado: 14\n",
      "MAE: 123739.94288673448\n",
      "MSE: 17843.6969397512\n",
      "MAPE: 0.5173409163984831\n",
      "AIC: 4195.960308968974\n",
      "------------------------\n",
      "(142, 2)\n",
      "(24, 2)\n",
      "\n",
      "----------------------------\n",
      " Cross-Validation número 15\n",
      "----------------------------\n",
      "\n",
      "\n"
     ]
    },
    {
     "name": "stderr",
     "output_type": "stream",
     "text": [
      "d:\\python\\lib\\site-packages\\scipy\\linalg\\_solvers.py:214: LinAlgWarning: Ill-conditioned matrix (rcond=4.50987e-21): result may not be accurate.\n",
      "  x = solve(lhs, q.flatten())\n"
     ]
    },
    {
     "name": "stdout",
     "output_type": "stream",
     "text": [
      "LAG sendo Testado: 1\n",
      "MAE: 34432.226725730805\n",
      "MSE: 2099.020043506944\n",
      "MAPE: 0.12743480670406385\n",
      "AIC: 3122.724999219542\n",
      "------------------------\n"
     ]
    },
    {
     "name": "stderr",
     "output_type": "stream",
     "text": [
      "d:\\python\\lib\\site-packages\\scipy\\linalg\\_solvers.py:214: LinAlgWarning: Ill-conditioned matrix (rcond=7.39836e-22): result may not be accurate.\n",
      "  x = solve(lhs, q.flatten())\n",
      "d:\\python\\lib\\site-packages\\statsmodels\\base\\model.py:604: ConvergenceWarning: Maximum Likelihood optimization failed to converge. Check mle_retvals\n",
      "  warnings.warn(\"Maximum Likelihood optimization failed to \"\n",
      "d:\\python\\lib\\site-packages\\scipy\\linalg\\_solvers.py:214: LinAlgWarning: Ill-conditioned matrix (rcond=1.53302e-22): result may not be accurate.\n",
      "  x = solve(lhs, q.flatten())\n"
     ]
    },
    {
     "name": "stdout",
     "output_type": "stream",
     "text": [
      "LAG sendo Testado: 2\n",
      "MAE: 30324.990391542786\n",
      "MSE: 1463.437438455434\n",
      "MAPE: 0.12089862684818331\n",
      "AIC: 3102.6894858920014\n",
      "------------------------\n",
      "LAG sendo Testado: 3\n",
      "MAE: 35878.8046629304\n",
      "MSE: 1920.2730067219763\n",
      "MAPE: 0.15830082338463372\n",
      "AIC: 3086.381526091601\n",
      "------------------------\n"
     ]
    },
    {
     "name": "stderr",
     "output_type": "stream",
     "text": [
      "d:\\python\\lib\\site-packages\\scipy\\linalg\\_solvers.py:214: LinAlgWarning: Ill-conditioned matrix (rcond=9.15685e-23): result may not be accurate.\n",
      "  x = solve(lhs, q.flatten())\n"
     ]
    },
    {
     "name": "stdout",
     "output_type": "stream",
     "text": [
      "LAG sendo Testado: 4\n",
      "MAE: 37553.244144129654\n",
      "MSE: 2102.3699881226094\n",
      "MAPE: 0.16692849622918274\n",
      "AIC: 3092.6918924932734\n",
      "------------------------\n",
      "LAG sendo Testado: 5\n",
      "MAE: 38414.43696564239\n",
      "MSE: 2208.820529981665\n",
      "MAPE: 0.17193766358091556\n",
      "AIC: 3095.3247205339817\n",
      "------------------------\n",
      "LAG sendo Testado: 6\n",
      "MAE: 37595.50253651674\n",
      "MSE: 2109.1696832495345\n",
      "MAPE: 0.1675163175803995\n",
      "AIC: 3103.0618609464627\n",
      "------------------------\n"
     ]
    },
    {
     "name": "stderr",
     "output_type": "stream",
     "text": [
      "d:\\python\\lib\\site-packages\\statsmodels\\base\\model.py:604: ConvergenceWarning: Maximum Likelihood optimization failed to converge. Check mle_retvals\n",
      "  warnings.warn(\"Maximum Likelihood optimization failed to \"\n"
     ]
    },
    {
     "name": "stdout",
     "output_type": "stream",
     "text": [
      "LAG sendo Testado: 7\n",
      "MAE: 36454.998231990634\n",
      "MSE: 1968.0564213081195\n",
      "MAPE: 0.16124157108275827\n",
      "AIC: 3109.467794626606\n",
      "------------------------\n"
     ]
    },
    {
     "name": "stderr",
     "output_type": "stream",
     "text": [
      "d:\\python\\lib\\site-packages\\statsmodels\\base\\model.py:604: ConvergenceWarning: Maximum Likelihood optimization failed to converge. Check mle_retvals\n",
      "  warnings.warn(\"Maximum Likelihood optimization failed to \"\n"
     ]
    },
    {
     "name": "stdout",
     "output_type": "stream",
     "text": [
      "LAG sendo Testado: 8\n",
      "MAE: 40302.165790024104\n",
      "MSE: 2440.8925187071186\n",
      "MAPE: 0.18128680159037983\n",
      "AIC: 3104.775094798458\n",
      "------------------------\n"
     ]
    },
    {
     "name": "stderr",
     "output_type": "stream",
     "text": [
      "d:\\python\\lib\\site-packages\\statsmodels\\base\\model.py:604: ConvergenceWarning: Maximum Likelihood optimization failed to converge. Check mle_retvals\n",
      "  warnings.warn(\"Maximum Likelihood optimization failed to \"\n"
     ]
    },
    {
     "name": "stdout",
     "output_type": "stream",
     "text": [
      "LAG sendo Testado: 9\n",
      "MAE: 43836.86619909285\n",
      "MSE: 2766.037449410023\n",
      "MAPE: 0.19611835368344213\n",
      "AIC: 3102.5289174024074\n",
      "------------------------\n"
     ]
    },
    {
     "name": "stderr",
     "output_type": "stream",
     "text": [
      "d:\\python\\lib\\site-packages\\statsmodels\\base\\model.py:604: ConvergenceWarning: Maximum Likelihood optimization failed to converge. Check mle_retvals\n",
      "  warnings.warn(\"Maximum Likelihood optimization failed to \"\n"
     ]
    },
    {
     "name": "stdout",
     "output_type": "stream",
     "text": [
      "LAG sendo Testado: 10\n",
      "MAE: 41020.05488901274\n",
      "MSE: 2396.9098805775648\n",
      "MAPE: 0.1819045727689288\n",
      "AIC: 3105.3955403907794\n",
      "------------------------\n"
     ]
    },
    {
     "name": "stderr",
     "output_type": "stream",
     "text": [
      "d:\\python\\lib\\site-packages\\statsmodels\\base\\model.py:604: ConvergenceWarning: Maximum Likelihood optimization failed to converge. Check mle_retvals\n",
      "  warnings.warn(\"Maximum Likelihood optimization failed to \"\n"
     ]
    },
    {
     "name": "stdout",
     "output_type": "stream",
     "text": [
      "LAG sendo Testado: 11\n",
      "MAE: 43186.822938086305\n",
      "MSE: 2672.2223112726974\n",
      "MAPE: 0.19333543628760919\n",
      "AIC: 3101.177105920845\n",
      "------------------------\n"
     ]
    },
    {
     "name": "stderr",
     "output_type": "stream",
     "text": [
      "d:\\python\\lib\\site-packages\\statsmodels\\base\\model.py:604: ConvergenceWarning: Maximum Likelihood optimization failed to converge. Check mle_retvals\n",
      "  warnings.warn(\"Maximum Likelihood optimization failed to \"\n"
     ]
    },
    {
     "name": "stdout",
     "output_type": "stream",
     "text": [
      "LAG sendo Testado: 12\n",
      "MAE: 43764.37533824135\n",
      "MSE: 2867.4407726085433\n",
      "MAPE: 0.20044366041962777\n",
      "AIC: 3078.665394896673\n",
      "------------------------\n"
     ]
    },
    {
     "name": "stderr",
     "output_type": "stream",
     "text": [
      "d:\\python\\lib\\site-packages\\statsmodels\\base\\model.py:604: ConvergenceWarning: Maximum Likelihood optimization failed to converge. Check mle_retvals\n",
      "  warnings.warn(\"Maximum Likelihood optimization failed to \"\n"
     ]
    },
    {
     "name": "stdout",
     "output_type": "stream",
     "text": [
      "LAG sendo Testado: 13\n",
      "MAE: 43447.985436491676\n",
      "MSE: 2855.888072694544\n",
      "MAPE: 0.19899559467839212\n",
      "AIC: 3084.429443852251\n",
      "------------------------\n"
     ]
    },
    {
     "name": "stderr",
     "output_type": "stream",
     "text": [
      "d:\\python\\lib\\site-packages\\statsmodels\\base\\model.py:604: ConvergenceWarning: Maximum Likelihood optimization failed to converge. Check mle_retvals\n",
      "  warnings.warn(\"Maximum Likelihood optimization failed to \"\n"
     ]
    },
    {
     "name": "stdout",
     "output_type": "stream",
     "text": [
      "LAG sendo Testado: 14\n",
      "MAE: 141074.7510429958\n",
      "MSE: 22025.923451752966\n",
      "MAPE: 0.5474917770631228\n",
      "AIC: 4155.928253827151\n",
      "------------------------\n",
      "(137, 2)\n",
      "(24, 2)\n",
      "\n",
      "----------------------------\n",
      " Cross-Validation número 16\n",
      "----------------------------\n",
      "\n",
      "\n"
     ]
    },
    {
     "name": "stderr",
     "output_type": "stream",
     "text": [
      "d:\\python\\lib\\site-packages\\scipy\\linalg\\_solvers.py:214: LinAlgWarning: Ill-conditioned matrix (rcond=3.2983e-21): result may not be accurate.\n",
      "  x = solve(lhs, q.flatten())\n"
     ]
    },
    {
     "name": "stdout",
     "output_type": "stream",
     "text": [
      "LAG sendo Testado: 1\n",
      "MAE: 46408.72177230514\n",
      "MSE: 3041.765607908052\n",
      "MAPE: 0.16086943682630142\n",
      "AIC: 3014.498221980977\n",
      "------------------------\n"
     ]
    },
    {
     "name": "stderr",
     "output_type": "stream",
     "text": [
      "d:\\python\\lib\\site-packages\\scipy\\linalg\\_solvers.py:214: LinAlgWarning: Ill-conditioned matrix (rcond=5.35932e-22): result may not be accurate.\n",
      "  x = solve(lhs, q.flatten())\n"
     ]
    },
    {
     "name": "stdout",
     "output_type": "stream",
     "text": [
      "LAG sendo Testado: 2\n",
      "MAE: 38140.962565257825\n",
      "MSE: 2167.8328564480457\n",
      "MAPE: 0.13387831435338335\n",
      "AIC: 2997.465561892588\n",
      "------------------------\n"
     ]
    },
    {
     "name": "stderr",
     "output_type": "stream",
     "text": [
      "d:\\python\\lib\\site-packages\\scipy\\linalg\\_solvers.py:214: LinAlgWarning: Ill-conditioned matrix (rcond=1.42757e-22): result may not be accurate.\n",
      "  x = solve(lhs, q.flatten())\n"
     ]
    },
    {
     "name": "stdout",
     "output_type": "stream",
     "text": [
      "LAG sendo Testado: 3\n",
      "MAE: 31925.518290417294\n",
      "MSE: 1499.0806527911348\n",
      "MAPE: 0.11784543754705767\n",
      "AIC: 2982.521094790939\n",
      "------------------------\n"
     ]
    },
    {
     "name": "stderr",
     "output_type": "stream",
     "text": [
      "d:\\python\\lib\\site-packages\\scipy\\linalg\\_solvers.py:214: LinAlgWarning: Ill-conditioned matrix (rcond=7.51508e-23): result may not be accurate.\n",
      "  x = solve(lhs, q.flatten())\n"
     ]
    },
    {
     "name": "stdout",
     "output_type": "stream",
     "text": [
      "LAG sendo Testado: 4\n",
      "MAE: 32451.130044640002\n",
      "MSE: 1523.87000726367\n",
      "MAPE: 0.1204690747742026\n",
      "AIC: 2988.883785915062\n",
      "------------------------\n",
      "LAG sendo Testado: 5\n",
      "MAE: 32292.258520555304\n",
      "MSE: 1522.2390103015996\n",
      "MAPE: 0.12013299954418126\n",
      "AIC: 2990.33411732316\n",
      "------------------------\n",
      "LAG sendo Testado: 6\n",
      "MAE: 32612.10303624922\n",
      "MSE: 1549.0054260961788\n",
      "MAPE: 0.12050171124700253\n",
      "AIC: 2997.839389232756\n",
      "------------------------\n"
     ]
    },
    {
     "name": "stderr",
     "output_type": "stream",
     "text": [
      "d:\\python\\lib\\site-packages\\statsmodels\\base\\model.py:604: ConvergenceWarning: Maximum Likelihood optimization failed to converge. Check mle_retvals\n",
      "  warnings.warn(\"Maximum Likelihood optimization failed to \"\n"
     ]
    },
    {
     "name": "stdout",
     "output_type": "stream",
     "text": [
      "LAG sendo Testado: 7\n",
      "MAE: 33693.59251006078\n",
      "MSE: 1663.7889576058453\n",
      "MAPE: 0.12252680346315409\n",
      "AIC: 3004.9206924111295\n",
      "------------------------\n"
     ]
    },
    {
     "name": "stderr",
     "output_type": "stream",
     "text": [
      "d:\\python\\lib\\site-packages\\statsmodels\\base\\model.py:604: ConvergenceWarning: Maximum Likelihood optimization failed to converge. Check mle_retvals\n",
      "  warnings.warn(\"Maximum Likelihood optimization failed to \"\n"
     ]
    },
    {
     "name": "stdout",
     "output_type": "stream",
     "text": [
      "LAG sendo Testado: 8\n",
      "MAE: 29899.169297135333\n",
      "MSE: 1400.6553034055864\n",
      "MAPE: 0.11554147134634546\n",
      "AIC: 2998.2816900521916\n",
      "------------------------\n",
      "LAG sendo Testado: 9\n",
      "MAE: 30229.21992722174\n",
      "MSE: 1492.3828076183693\n",
      "MAPE: 0.12016637902840548\n",
      "AIC: 2995.2235399515494\n",
      "------------------------\n"
     ]
    },
    {
     "name": "stderr",
     "output_type": "stream",
     "text": [
      "d:\\python\\lib\\site-packages\\statsmodels\\base\\model.py:604: ConvergenceWarning: Maximum Likelihood optimization failed to converge. Check mle_retvals\n",
      "  warnings.warn(\"Maximum Likelihood optimization failed to \"\n"
     ]
    },
    {
     "name": "stdout",
     "output_type": "stream",
     "text": [
      "LAG sendo Testado: 10\n",
      "MAE: 32427.87962664544\n",
      "MSE: 1682.1091316558952\n",
      "MAPE: 0.11761266235517955\n",
      "AIC: 2996.3561899825304\n",
      "------------------------\n"
     ]
    },
    {
     "name": "stderr",
     "output_type": "stream",
     "text": [
      "d:\\python\\lib\\site-packages\\statsmodels\\base\\model.py:604: ConvergenceWarning: Maximum Likelihood optimization failed to converge. Check mle_retvals\n",
      "  warnings.warn(\"Maximum Likelihood optimization failed to \"\n"
     ]
    },
    {
     "name": "stdout",
     "output_type": "stream",
     "text": [
      "LAG sendo Testado: 11\n",
      "MAE: 27427.284058421454\n",
      "MSE: 1210.6341029943253\n",
      "MAPE: 0.10522496627417231\n",
      "AIC: 2993.0140812131376\n",
      "------------------------\n"
     ]
    },
    {
     "name": "stderr",
     "output_type": "stream",
     "text": [
      "d:\\python\\lib\\site-packages\\statsmodels\\base\\model.py:604: ConvergenceWarning: Maximum Likelihood optimization failed to converge. Check mle_retvals\n",
      "  warnings.warn(\"Maximum Likelihood optimization failed to \"\n"
     ]
    },
    {
     "name": "stdout",
     "output_type": "stream",
     "text": [
      "LAG sendo Testado: 12\n",
      "MAE: 28098.755653945176\n",
      "MSE: 1271.6484047631104\n",
      "MAPE: 0.1142350673043258\n",
      "AIC: 2974.389643343674\n",
      "------------------------\n"
     ]
    },
    {
     "name": "stderr",
     "output_type": "stream",
     "text": [
      "d:\\python\\lib\\site-packages\\statsmodels\\base\\model.py:604: ConvergenceWarning: Maximum Likelihood optimization failed to converge. Check mle_retvals\n",
      "  warnings.warn(\"Maximum Likelihood optimization failed to \"\n"
     ]
    },
    {
     "name": "stdout",
     "output_type": "stream",
     "text": [
      "LAG sendo Testado: 13\n",
      "MAE: 27488.10338909431\n",
      "MSE: 1219.1050288175059\n",
      "MAPE: 0.1118706934118709\n",
      "AIC: 2987.248152347591\n",
      "------------------------\n"
     ]
    },
    {
     "name": "stderr",
     "output_type": "stream",
     "text": [
      "d:\\python\\lib\\site-packages\\statsmodels\\base\\model.py:604: ConvergenceWarning: Maximum Likelihood optimization failed to converge. Check mle_retvals\n",
      "  warnings.warn(\"Maximum Likelihood optimization failed to \"\n"
     ]
    },
    {
     "name": "stdout",
     "output_type": "stream",
     "text": [
      "LAG sendo Testado: 14\n",
      "MAE: 180505.2383131784\n",
      "MSE: 34367.045229370575\n",
      "MAPE: 0.6507532381441413\n",
      "AIC: 3933.9995740782683\n",
      "------------------------\n",
      "(132, 2)\n",
      "(24, 2)\n",
      "\n",
      "----------------------------\n",
      " Cross-Validation número 17\n",
      "----------------------------\n",
      "\n",
      "\n"
     ]
    },
    {
     "name": "stderr",
     "output_type": "stream",
     "text": [
      "d:\\python\\lib\\site-packages\\scipy\\linalg\\_solvers.py:214: LinAlgWarning: Ill-conditioned matrix (rcond=3.76798e-21): result may not be accurate.\n",
      "  x = solve(lhs, q.flatten())\n"
     ]
    },
    {
     "name": "stdout",
     "output_type": "stream",
     "text": [
      "LAG sendo Testado: 1\n",
      "MAE: 59214.57768416189\n",
      "MSE: 4387.635633828616\n",
      "MAPE: 0.2003805601430023\n",
      "AIC: 2906.640487589012\n",
      "------------------------\n"
     ]
    },
    {
     "name": "stderr",
     "output_type": "stream",
     "text": [
      "d:\\python\\lib\\site-packages\\scipy\\linalg\\_solvers.py:214: LinAlgWarning: Ill-conditioned matrix (rcond=5.27056e-22): result may not be accurate.\n",
      "  x = solve(lhs, q.flatten())\n"
     ]
    },
    {
     "name": "stdout",
     "output_type": "stream",
     "text": [
      "LAG sendo Testado: 2\n",
      "MAE: 42832.73990087159\n",
      "MSE: 2523.80433515373\n",
      "MAPE: 0.14588268037375804\n",
      "AIC: 2887.674611736281\n",
      "------------------------\n"
     ]
    },
    {
     "name": "stderr",
     "output_type": "stream",
     "text": [
      "d:\\python\\lib\\site-packages\\scipy\\linalg\\_solvers.py:214: LinAlgWarning: Ill-conditioned matrix (rcond=1.18089e-22): result may not be accurate.\n",
      "  x = solve(lhs, q.flatten())\n"
     ]
    },
    {
     "name": "stdout",
     "output_type": "stream",
     "text": [
      "LAG sendo Testado: 3\n",
      "MAE: 25418.518525958236\n",
      "MSE: 1162.0777418017358\n",
      "MAPE: 0.09044620543708785\n",
      "AIC: 2874.3422058535293\n",
      "------------------------\n"
     ]
    },
    {
     "name": "stderr",
     "output_type": "stream",
     "text": [
      "d:\\python\\lib\\site-packages\\scipy\\linalg\\_solvers.py:214: LinAlgWarning: Ill-conditioned matrix (rcond=6.40214e-23): result may not be accurate.\n",
      "  x = solve(lhs, q.flatten())\n",
      "d:\\python\\lib\\site-packages\\statsmodels\\base\\model.py:604: ConvergenceWarning: Maximum Likelihood optimization failed to converge. Check mle_retvals\n",
      "  warnings.warn(\"Maximum Likelihood optimization failed to \"\n"
     ]
    },
    {
     "name": "stdout",
     "output_type": "stream",
     "text": [
      "LAG sendo Testado: 4\n",
      "MAE: 25289.09701802765\n",
      "MSE: 1141.5795800575108\n",
      "MAPE: 0.09002215180223422\n",
      "AIC: 2880.247924195291\n",
      "------------------------\n",
      "LAG sendo Testado: 5\n",
      "MAE: 23693.54224600446\n",
      "MSE: 1113.0476665094502\n",
      "MAPE: 0.08615496156728757\n",
      "AIC: 2882.131611272376\n",
      "------------------------\n"
     ]
    },
    {
     "name": "stderr",
     "output_type": "stream",
     "text": [
      "d:\\python\\lib\\site-packages\\statsmodels\\base\\model.py:604: ConvergenceWarning: Maximum Likelihood optimization failed to converge. Check mle_retvals\n",
      "  warnings.warn(\"Maximum Likelihood optimization failed to \"\n"
     ]
    },
    {
     "name": "stdout",
     "output_type": "stream",
     "text": [
      "LAG sendo Testado: 6\n",
      "MAE: 24674.879609546897\n",
      "MSE: 1152.5734207600804\n",
      "MAPE: 0.09096701735914313\n",
      "AIC: 2889.288631889466\n",
      "------------------------\n",
      "LAG sendo Testado: 7\n",
      "MAE: 23569.173632043443\n",
      "MSE: 1121.841115097499\n",
      "MAPE: 0.08507664475217874\n",
      "AIC: 2896.407983489306\n",
      "------------------------\n"
     ]
    },
    {
     "name": "stderr",
     "output_type": "stream",
     "text": [
      "d:\\python\\lib\\site-packages\\statsmodels\\base\\model.py:604: ConvergenceWarning: Maximum Likelihood optimization failed to converge. Check mle_retvals\n",
      "  warnings.warn(\"Maximum Likelihood optimization failed to \"\n"
     ]
    },
    {
     "name": "stdout",
     "output_type": "stream",
     "text": [
      "LAG sendo Testado: 8\n",
      "MAE: 26162.48905647141\n",
      "MSE: 1231.834293363884\n",
      "MAPE: 0.0976060274542601\n",
      "AIC: 2891.81038177549\n",
      "------------------------\n"
     ]
    },
    {
     "name": "stderr",
     "output_type": "stream",
     "text": [
      "d:\\python\\lib\\site-packages\\statsmodels\\base\\model.py:604: ConvergenceWarning: Maximum Likelihood optimization failed to converge. Check mle_retvals\n",
      "  warnings.warn(\"Maximum Likelihood optimization failed to \"\n"
     ]
    },
    {
     "name": "stdout",
     "output_type": "stream",
     "text": [
      "LAG sendo Testado: 9\n",
      "MAE: 28568.479608362235\n",
      "MSE: 1262.1819751795365\n",
      "MAPE: 0.10629965596145974\n",
      "AIC: 2893.290981461464\n",
      "------------------------\n"
     ]
    },
    {
     "name": "stderr",
     "output_type": "stream",
     "text": [
      "d:\\python\\lib\\site-packages\\statsmodels\\base\\model.py:604: ConvergenceWarning: Maximum Likelihood optimization failed to converge. Check mle_retvals\n",
      "  warnings.warn(\"Maximum Likelihood optimization failed to \"\n"
     ]
    },
    {
     "name": "stdout",
     "output_type": "stream",
     "text": [
      "LAG sendo Testado: 10\n",
      "MAE: 28705.40006022129\n",
      "MSE: 1452.9536855185777\n",
      "MAPE: 0.10713835074984325\n",
      "AIC: 2890.021392880132\n",
      "------------------------\n"
     ]
    },
    {
     "name": "stderr",
     "output_type": "stream",
     "text": [
      "d:\\python\\lib\\site-packages\\statsmodels\\base\\model.py:604: ConvergenceWarning: Maximum Likelihood optimization failed to converge. Check mle_retvals\n",
      "  warnings.warn(\"Maximum Likelihood optimization failed to \"\n"
     ]
    },
    {
     "name": "stdout",
     "output_type": "stream",
     "text": [
      "LAG sendo Testado: 11\n",
      "MAE: 27709.164826590804\n",
      "MSE: 1223.2150786819354\n",
      "MAPE: 0.10246570555486467\n",
      "AIC: 2887.498725283286\n",
      "------------------------\n"
     ]
    },
    {
     "name": "stderr",
     "output_type": "stream",
     "text": [
      "d:\\python\\lib\\site-packages\\statsmodels\\base\\model.py:604: ConvergenceWarning: Maximum Likelihood optimization failed to converge. Check mle_retvals\n",
      "  warnings.warn(\"Maximum Likelihood optimization failed to \"\n"
     ]
    },
    {
     "name": "stdout",
     "output_type": "stream",
     "text": [
      "LAG sendo Testado: 12\n",
      "MAE: 25855.818542250923\n",
      "MSE: 1148.5903306528342\n",
      "MAPE: 0.09577584579263725\n",
      "AIC: 2868.0212647367907\n",
      "------------------------\n"
     ]
    },
    {
     "name": "stderr",
     "output_type": "stream",
     "text": [
      "d:\\python\\lib\\site-packages\\statsmodels\\base\\model.py:604: ConvergenceWarning: Maximum Likelihood optimization failed to converge. Check mle_retvals\n",
      "  warnings.warn(\"Maximum Likelihood optimization failed to \"\n"
     ]
    },
    {
     "name": "stdout",
     "output_type": "stream",
     "text": [
      "LAG sendo Testado: 13\n",
      "MAE: 25492.57812286651\n",
      "MSE: 1173.4095784492822\n",
      "MAPE: 0.09501350174676271\n",
      "AIC: 2877.5742450237035\n",
      "------------------------\n",
      "LAG sendo Testado: 14\n",
      "MAE: 207521.4321612521\n",
      "MSE: 44029.416396090484\n",
      "MAPE: 0.7179068966519987\n",
      "AIC: 3813.8385920093388\n",
      "------------------------\n",
      "(127, 2)\n",
      "(24, 2)\n",
      "\n",
      "----------------------------\n",
      " Cross-Validation número 18\n",
      "----------------------------\n",
      "\n",
      "\n"
     ]
    },
    {
     "name": "stderr",
     "output_type": "stream",
     "text": [
      "d:\\python\\lib\\site-packages\\scipy\\linalg\\_solvers.py:214: LinAlgWarning: Ill-conditioned matrix (rcond=3.52696e-21): result may not be accurate.\n",
      "  x = solve(lhs, q.flatten())\n",
      "d:\\python\\lib\\site-packages\\statsmodels\\base\\model.py:604: ConvergenceWarning: Maximum Likelihood optimization failed to converge. Check mle_retvals\n",
      "  warnings.warn(\"Maximum Likelihood optimization failed to \"\n",
      "d:\\python\\lib\\site-packages\\scipy\\linalg\\_solvers.py:214: LinAlgWarning: Ill-conditioned matrix (rcond=4.94991e-22): result may not be accurate.\n",
      "  x = solve(lhs, q.flatten())\n"
     ]
    },
    {
     "name": "stdout",
     "output_type": "stream",
     "text": [
      "LAG sendo Testado: 1\n",
      "MAE: 61170.14036033131\n",
      "MSE: 4558.32354487543\n",
      "MAPE: 0.19987853192741759\n",
      "AIC: 2784.6342648065524\n",
      "------------------------\n"
     ]
    },
    {
     "name": "stderr",
     "output_type": "stream",
     "text": [
      "d:\\python\\lib\\site-packages\\statsmodels\\base\\model.py:604: ConvergenceWarning: Maximum Likelihood optimization failed to converge. Check mle_retvals\n",
      "  warnings.warn(\"Maximum Likelihood optimization failed to \"\n",
      "d:\\python\\lib\\site-packages\\scipy\\linalg\\_solvers.py:214: LinAlgWarning: Ill-conditioned matrix (rcond=1.32758e-22): result may not be accurate.\n",
      "  x = solve(lhs, q.flatten())\n"
     ]
    },
    {
     "name": "stdout",
     "output_type": "stream",
     "text": [
      "LAG sendo Testado: 2\n",
      "MAE: 43177.30706757968\n",
      "MSE: 2419.7630904835305\n",
      "MAPE: 0.14151356288153735\n",
      "AIC: 2771.1788575657397\n",
      "------------------------\n",
      "LAG sendo Testado: 3\n",
      "MAE: 25695.892370700516\n",
      "MSE: 1296.715378833642\n",
      "MAPE: 0.08976109841010911\n",
      "AIC: 2748.146463396635\n",
      "------------------------\n"
     ]
    },
    {
     "name": "stderr",
     "output_type": "stream",
     "text": [
      "d:\\python\\lib\\site-packages\\scipy\\linalg\\_solvers.py:214: LinAlgWarning: Ill-conditioned matrix (rcond=6.77803e-23): result may not be accurate.\n",
      "  x = solve(lhs, q.flatten())\n",
      "d:\\python\\lib\\site-packages\\statsmodels\\base\\model.py:604: ConvergenceWarning: Maximum Likelihood optimization failed to converge. Check mle_retvals\n",
      "  warnings.warn(\"Maximum Likelihood optimization failed to \"\n"
     ]
    },
    {
     "name": "stdout",
     "output_type": "stream",
     "text": [
      "LAG sendo Testado: 4\n",
      "MAE: 25945.042339144693\n",
      "MSE: 1244.5140557716095\n",
      "MAPE: 0.09059444690445595\n",
      "AIC: 2754.2589776766085\n",
      "------------------------\n"
     ]
    },
    {
     "name": "stderr",
     "output_type": "stream",
     "text": [
      "d:\\python\\lib\\site-packages\\statsmodels\\base\\model.py:604: ConvergenceWarning: Maximum Likelihood optimization failed to converge. Check mle_retvals\n",
      "  warnings.warn(\"Maximum Likelihood optimization failed to \"\n"
     ]
    },
    {
     "name": "stdout",
     "output_type": "stream",
     "text": [
      "LAG sendo Testado: 5\n",
      "MAE: 25527.79449858249\n",
      "MSE: 1203.69753048627\n",
      "MAPE: 0.08854134061874062\n",
      "AIC: 2754.821621946186\n",
      "------------------------\n"
     ]
    },
    {
     "name": "stderr",
     "output_type": "stream",
     "text": [
      "d:\\python\\lib\\site-packages\\statsmodels\\base\\model.py:604: ConvergenceWarning: Maximum Likelihood optimization failed to converge. Check mle_retvals\n",
      "  warnings.warn(\"Maximum Likelihood optimization failed to \"\n"
     ]
    },
    {
     "name": "stdout",
     "output_type": "stream",
     "text": [
      "LAG sendo Testado: 6\n",
      "MAE: 26221.765877058187\n",
      "MSE: 1218.7567448862646\n",
      "MAPE: 0.08969735942057527\n",
      "AIC: 2762.029176875578\n",
      "------------------------\n"
     ]
    },
    {
     "name": "stderr",
     "output_type": "stream",
     "text": [
      "d:\\python\\lib\\site-packages\\statsmodels\\base\\model.py:604: ConvergenceWarning: Maximum Likelihood optimization failed to converge. Check mle_retvals\n",
      "  warnings.warn(\"Maximum Likelihood optimization failed to \"\n"
     ]
    },
    {
     "name": "stdout",
     "output_type": "stream",
     "text": [
      "LAG sendo Testado: 7\n",
      "MAE: 32615.85449509305\n",
      "MSE: 1550.8166081972345\n",
      "MAPE: 0.10815124974136105\n",
      "AIC: 2768.890734495442\n",
      "------------------------\n"
     ]
    },
    {
     "name": "stderr",
     "output_type": "stream",
     "text": [
      "d:\\python\\lib\\site-packages\\statsmodels\\base\\model.py:604: ConvergenceWarning: Maximum Likelihood optimization failed to converge. Check mle_retvals\n",
      "  warnings.warn(\"Maximum Likelihood optimization failed to \"\n"
     ]
    },
    {
     "name": "stdout",
     "output_type": "stream",
     "text": [
      "LAG sendo Testado: 8\n",
      "MAE: 31541.65320470127\n",
      "MSE: 1405.8445384165018\n",
      "MAPE: 0.10541498087333794\n",
      "AIC: 2765.459958462524\n",
      "------------------------\n"
     ]
    },
    {
     "name": "stderr",
     "output_type": "stream",
     "text": [
      "d:\\python\\lib\\site-packages\\statsmodels\\base\\model.py:604: ConvergenceWarning: Maximum Likelihood optimization failed to converge. Check mle_retvals\n",
      "  warnings.warn(\"Maximum Likelihood optimization failed to \"\n"
     ]
    },
    {
     "name": "stdout",
     "output_type": "stream",
     "text": [
      "LAG sendo Testado: 9\n",
      "MAE: 27336.601742388186\n",
      "MSE: 1168.2572308679796\n",
      "MAPE: 0.09300155798308463\n",
      "AIC: 2764.0397841084537\n",
      "------------------------\n"
     ]
    },
    {
     "name": "stderr",
     "output_type": "stream",
     "text": [
      "d:\\python\\lib\\site-packages\\statsmodels\\base\\model.py:604: ConvergenceWarning: Maximum Likelihood optimization failed to converge. Check mle_retvals\n",
      "  warnings.warn(\"Maximum Likelihood optimization failed to \"\n"
     ]
    },
    {
     "name": "stdout",
     "output_type": "stream",
     "text": [
      "LAG sendo Testado: 10\n",
      "MAE: 30848.057724322134\n",
      "MSE: 1284.9039597149808\n",
      "MAPE: 0.10524973648794052\n",
      "AIC: 2760.3214221291983\n",
      "------------------------\n"
     ]
    },
    {
     "name": "stderr",
     "output_type": "stream",
     "text": [
      "d:\\python\\lib\\site-packages\\statsmodels\\base\\model.py:604: ConvergenceWarning: Maximum Likelihood optimization failed to converge. Check mle_retvals\n",
      "  warnings.warn(\"Maximum Likelihood optimization failed to \"\n"
     ]
    },
    {
     "name": "stdout",
     "output_type": "stream",
     "text": [
      "LAG sendo Testado: 11\n",
      "MAE: 28069.450689705205\n",
      "MSE: 1187.717556147156\n",
      "MAPE: 0.0960166472399064\n",
      "AIC: 2752.2648542335796\n",
      "------------------------\n"
     ]
    },
    {
     "name": "stderr",
     "output_type": "stream",
     "text": [
      "d:\\python\\lib\\site-packages\\statsmodels\\base\\model.py:604: ConvergenceWarning: Maximum Likelihood optimization failed to converge. Check mle_retvals\n",
      "  warnings.warn(\"Maximum Likelihood optimization failed to \"\n"
     ]
    },
    {
     "name": "stdout",
     "output_type": "stream",
     "text": [
      "LAG sendo Testado: 12\n",
      "MAE: 28078.709518371237\n",
      "MSE: 1151.97458355111\n",
      "MAPE: 0.09714406240591607\n",
      "AIC: 2742.0255214510717\n",
      "------------------------\n"
     ]
    },
    {
     "name": "stderr",
     "output_type": "stream",
     "text": [
      "d:\\python\\lib\\site-packages\\statsmodels\\base\\model.py:604: ConvergenceWarning: Maximum Likelihood optimization failed to converge. Check mle_retvals\n",
      "  warnings.warn(\"Maximum Likelihood optimization failed to \"\n"
     ]
    },
    {
     "name": "stdout",
     "output_type": "stream",
     "text": [
      "LAG sendo Testado: 13\n",
      "MAE: 27078.427577644037\n",
      "MSE: 1121.6815121379286\n",
      "MAPE: 0.09293039210579952\n",
      "AIC: 2750.9441216260598\n",
      "------------------------\n",
      "LAG sendo Testado: 14\n",
      "MAE: 212207.5984193479\n",
      "MSE: 46499.05579674056\n",
      "MAPE: 0.7137073502104597\n",
      "AIC: 3656.179259155434\n",
      "------------------------\n",
      "(122, 2)\n",
      "(24, 2)\n",
      "\n",
      "----------------------------\n",
      " Cross-Validation número 19\n",
      "----------------------------\n",
      "\n",
      "\n"
     ]
    },
    {
     "name": "stderr",
     "output_type": "stream",
     "text": [
      "d:\\python\\lib\\site-packages\\scipy\\linalg\\_solvers.py:214: LinAlgWarning: Ill-conditioned matrix (rcond=2.702e-21): result may not be accurate.\n",
      "  x = solve(lhs, q.flatten())\n",
      "d:\\python\\lib\\site-packages\\statsmodels\\base\\model.py:604: ConvergenceWarning: Maximum Likelihood optimization failed to converge. Check mle_retvals\n",
      "  warnings.warn(\"Maximum Likelihood optimization failed to \"\n",
      "d:\\python\\lib\\site-packages\\scipy\\linalg\\_solvers.py:214: LinAlgWarning: Ill-conditioned matrix (rcond=3.26933e-22): result may not be accurate.\n",
      "  x = solve(lhs, q.flatten())\n"
     ]
    },
    {
     "name": "stdout",
     "output_type": "stream",
     "text": [
      "LAG sendo Testado: 1\n",
      "MAE: 68568.32067902229\n",
      "MSE: 5965.445945560745\n",
      "MAPE: 0.21542653443048398\n",
      "AIC: 2669.0066067576436\n",
      "------------------------\n",
      "LAG sendo Testado: 2\n",
      "MAE: 69139.26940464228\n",
      "MSE: 6065.39429506092\n",
      "MAPE: 0.21727602830500314\n",
      "AIC: 2656.0638874565484\n",
      "------------------------\n"
     ]
    },
    {
     "name": "stderr",
     "output_type": "stream",
     "text": [
      "d:\\python\\lib\\site-packages\\scipy\\linalg\\_solvers.py:214: LinAlgWarning: Ill-conditioned matrix (rcond=1.36071e-22): result may not be accurate.\n",
      "  x = solve(lhs, q.flatten())\n",
      "d:\\python\\lib\\site-packages\\statsmodels\\base\\model.py:604: ConvergenceWarning: Maximum Likelihood optimization failed to converge. Check mle_retvals\n",
      "  warnings.warn(\"Maximum Likelihood optimization failed to \"\n",
      "d:\\python\\lib\\site-packages\\scipy\\linalg\\_solvers.py:214: LinAlgWarning: Ill-conditioned matrix (rcond=6.3835e-23): result may not be accurate.\n",
      "  x = solve(lhs, q.flatten())\n"
     ]
    },
    {
     "name": "stdout",
     "output_type": "stream",
     "text": [
      "LAG sendo Testado: 3\n",
      "MAE: 54361.61814695123\n",
      "MSE: 4023.5378279011497\n",
      "MAPE: 0.17044708062205294\n",
      "AIC: 2632.8053529827152\n",
      "------------------------\n",
      "LAG sendo Testado: 4\n",
      "MAE: 50898.522841528385\n",
      "MSE: 3638.933882780144\n",
      "MAPE: 0.15918934996998077\n",
      "AIC: 2638.487854993226\n",
      "------------------------\n",
      "LAG sendo Testado: 5\n",
      "MAE: 48987.563310315345\n",
      "MSE: 3418.7866900155655\n",
      "MAPE: 0.1533065756056927\n",
      "AIC: 2638.9429153330516\n",
      "------------------------\n"
     ]
    },
    {
     "name": "stderr",
     "output_type": "stream",
     "text": [
      "d:\\python\\lib\\site-packages\\statsmodels\\base\\model.py:604: ConvergenceWarning: Maximum Likelihood optimization failed to converge. Check mle_retvals\n",
      "  warnings.warn(\"Maximum Likelihood optimization failed to \"\n"
     ]
    },
    {
     "name": "stdout",
     "output_type": "stream",
     "text": [
      "LAG sendo Testado: 6\n",
      "MAE: 50581.128345610516\n",
      "MSE: 3580.787852154186\n",
      "MAPE: 0.15840857360191818\n",
      "AIC: 2645.5014308954715\n",
      "------------------------\n"
     ]
    },
    {
     "name": "stderr",
     "output_type": "stream",
     "text": [
      "d:\\python\\lib\\site-packages\\statsmodels\\base\\model.py:604: ConvergenceWarning: Maximum Likelihood optimization failed to converge. Check mle_retvals\n",
      "  warnings.warn(\"Maximum Likelihood optimization failed to \"\n"
     ]
    },
    {
     "name": "stdout",
     "output_type": "stream",
     "text": [
      "LAG sendo Testado: 8\n",
      "MAE: 38682.52979421848\n",
      "MSE: 2253.9436938373265\n",
      "MAPE: 0.12224693719309543\n",
      "AIC: 2648.9712644906463\n",
      "------------------------\n"
     ]
    },
    {
     "name": "stderr",
     "output_type": "stream",
     "text": [
      "d:\\python\\lib\\site-packages\\statsmodels\\base\\model.py:604: ConvergenceWarning: Maximum Likelihood optimization failed to converge. Check mle_retvals\n",
      "  warnings.warn(\"Maximum Likelihood optimization failed to \"\n"
     ]
    },
    {
     "name": "stdout",
     "output_type": "stream",
     "text": [
      "LAG sendo Testado: 9\n",
      "MAE: 38202.621829373085\n",
      "MSE: 2131.5139051951946\n",
      "MAPE: 0.12132888771695864\n",
      "AIC: 2646.084919292576\n",
      "------------------------\n"
     ]
    },
    {
     "name": "stderr",
     "output_type": "stream",
     "text": [
      "d:\\python\\lib\\site-packages\\statsmodels\\base\\model.py:604: ConvergenceWarning: Maximum Likelihood optimization failed to converge. Check mle_retvals\n",
      "  warnings.warn(\"Maximum Likelihood optimization failed to \"\n"
     ]
    },
    {
     "name": "stdout",
     "output_type": "stream",
     "text": [
      "LAG sendo Testado: 10\n",
      "MAE: 49446.40323047175\n",
      "MSE: 3356.4835956634897\n",
      "MAPE: 0.15525651026422646\n",
      "AIC: 2645.625979057576\n",
      "------------------------\n",
      "LAG sendo Testado: 11\n",
      "MAE: 38547.38629947393\n",
      "MSE: 2098.110543859874\n",
      "MAPE: 0.1227371975953353\n",
      "AIC: 2636.075172110361\n",
      "------------------------\n"
     ]
    },
    {
     "name": "stderr",
     "output_type": "stream",
     "text": [
      "d:\\python\\lib\\site-packages\\statsmodels\\base\\model.py:604: ConvergenceWarning: Maximum Likelihood optimization failed to converge. Check mle_retvals\n",
      "  warnings.warn(\"Maximum Likelihood optimization failed to \"\n"
     ]
    },
    {
     "name": "stdout",
     "output_type": "stream",
     "text": [
      "LAG sendo Testado: 12\n",
      "MAE: 35182.85464277169\n",
      "MSE: 1838.4232991443312\n",
      "MAPE: 0.11190150641789869\n",
      "AIC: 2623.512030002441\n",
      "------------------------\n"
     ]
    },
    {
     "name": "stderr",
     "output_type": "stream",
     "text": [
      "d:\\python\\lib\\site-packages\\statsmodels\\base\\model.py:604: ConvergenceWarning: Maximum Likelihood optimization failed to converge. Check mle_retvals\n",
      "  warnings.warn(\"Maximum Likelihood optimization failed to \"\n"
     ]
    },
    {
     "name": "stdout",
     "output_type": "stream",
     "text": [
      "LAG sendo Testado: 13\n",
      "MAE: 35188.79127556184\n",
      "MSE: 1876.745480306687\n",
      "MAPE: 0.11202918682943304\n",
      "AIC: 2635.3425845615197\n",
      "------------------------\n",
      "LAG sendo Testado: 14\n",
      "MAE: 213324.50175982062\n",
      "MSE: 46963.6241197146\n",
      "MAPE: 0.6996894804018531\n",
      "AIC: 3496.4725308050647\n",
      "------------------------\n"
     ]
    }
   ],
   "source": [
    "lista = [] # Lista que armazenará cada avaliação cruzada\n",
    "for i in range(20):\n",
    "    df_treino_CV = df_caminhoes[['Câmbio','Automóveis_Com_Emplac']][:-24-i*5]\n",
    "    if i != 0:\n",
    "        df_teste_CV = df_caminhoes[['Câmbio','Automóveis_Com_Emplac']][-24-i*5:-i*5]\n",
    "    else:\n",
    "        df_teste_CV = df_caminhoes[['Câmbio','Automóveis_Com_Emplac']][-24-i*5:]\n",
    "    \n",
    "    print(df_treino_CV.shape)\n",
    "    print(df_teste_CV.shape)\n",
    "    print(f'\\n----------------------------\\n Cross-Validation número {i}\\n----------------------------\\n\\n')\n",
    "\n",
    "    l = [] # Lista que armazenará todos os LAGs\n",
    "    for j in range(1,15):\n",
    "        #Realizando o modelo denovo, ele rodará cerca de 240 vezes!\n",
    "        try:\n",
    "            var_model = VARMAX(df_treino_CV,order =(j,0), enforce_stationarity=True)\n",
    "            fitted_model = var_model.fit(disp=False)\n",
    "            predict = fitted_model.get_prediction(start=len(df_treino_CV),end=len(df_treino_CV) + 24 -1)\n",
    "            predictions = predict.predicted_mean\n",
    "            predictions.rename(columns = {'Câmbio':'Câmbio_Forecast','Automóveis_Com_Emplac':'Automóveis_Com_Emplac_Forecast'},inplace=True)\n",
    "            # Adicionando comentários para manter certeza de que o modelo está rodando, de fato, e que não deu erro.\n",
    "            print(f'LAG sendo Testado: {j}')\n",
    "            print(f\"MAE: {mean_absolute_error(df_teste_CV['Automóveis_Com_Emplac'],predictions['Automóveis_Com_Emplac_Forecast'])}\")\n",
    "            print(f\"MSE: {mean_squared_error(df_teste_CV['Automóveis_Com_Emplac'],predictions['Automóveis_Com_Emplac_Forecast'])/10**6}\")\n",
    "            print(f\"MAPE: {mean_absolute_percentage_error(df_teste_CV['Automóveis_Com_Emplac'],predictions['Automóveis_Com_Emplac_Forecast'])}\")\n",
    "            print(f\"AIC: {fitted_model.aic}\")\n",
    "            print('------------------------')\n",
    "            l.append({f'{j} LAGs:':[mean_absolute_error(df_teste_CV['Automóveis_Com_Emplac'],predictions['Automóveis_Com_Emplac_Forecast']),mean_squared_error(df_teste_CV['Automóveis_Com_Emplac'],predictions['Automóveis_Com_Emplac_Forecast'])/10**10, mean_absolute_percentage_error(df_teste_CV['Automóveis_Com_Emplac'],predictions['Automóveis_Com_Emplac_Forecast']),fitted_model.aic]})\n",
    "        #Adicionando todos esses valores às listas. Utilizarei elas depois para plotar os gráficos com as estatísticas.\n",
    "        except:\n",
    "            l.append({f'{j} LAGs:{[0,0,0,0]}'})\n",
    "            pass    \n",
    "    lista.append({f'Cross{i}':l})"
   ]
  },
  {
   "cell_type": "code",
   "execution_count": 71,
   "id": "08926440",
   "metadata": {},
   "outputs": [
    {
     "data": {
      "text/plain": [
       "0.2575854075666407"
      ]
     },
     "execution_count": 71,
     "metadata": {},
     "output_type": "execute_result"
    }
   ],
   "source": []
  },
  {
   "cell_type": "code",
   "execution_count": 82,
   "id": "4f8f8bd0",
   "metadata": {},
   "outputs": [
    {
     "name": "stderr",
     "output_type": "stream",
     "text": [
      "<ipython-input-82-d15a0aaa074a>:37: UserWarning: Boolean Series key will be reindexed to match DataFrame index.\n",
      "  Verdadeiros_Erros.transpose().sort_values(by =['MAPE','AIC','MSQE'])[Verdadeiros_Erros.transpose()['MAE'] != 0]\n"
     ]
    },
    {
     "data": {
      "text/html": [
       "<div>\n",
       "<style scoped>\n",
       "    .dataframe tbody tr th:only-of-type {\n",
       "        vertical-align: middle;\n",
       "    }\n",
       "\n",
       "    .dataframe tbody tr th {\n",
       "        vertical-align: top;\n",
       "    }\n",
       "\n",
       "    .dataframe thead th {\n",
       "        text-align: right;\n",
       "    }\n",
       "</style>\n",
       "<table border=\"1\" class=\"dataframe\">\n",
       "  <thead>\n",
       "    <tr style=\"text-align: right;\">\n",
       "      <th></th>\n",
       "      <th>MAE</th>\n",
       "      <th>MSQE</th>\n",
       "      <th>MAPE</th>\n",
       "      <th>AIC</th>\n",
       "    </tr>\n",
       "  </thead>\n",
       "  <tbody>\n",
       "    <tr>\n",
       "      <th>6</th>\n",
       "      <td>45205.935971</td>\n",
       "      <td>0.292940</td>\n",
       "      <td>0.241891</td>\n",
       "      <td>3712.338206</td>\n",
       "    </tr>\n",
       "    <tr>\n",
       "      <th>8</th>\n",
       "      <td>45254.310913</td>\n",
       "      <td>0.295186</td>\n",
       "      <td>0.243265</td>\n",
       "      <td>3712.207762</td>\n",
       "    </tr>\n",
       "    <tr>\n",
       "      <th>5</th>\n",
       "      <td>45858.347711</td>\n",
       "      <td>0.299938</td>\n",
       "      <td>0.243840</td>\n",
       "      <td>3712.836111</td>\n",
       "    </tr>\n",
       "    <tr>\n",
       "      <th>4</th>\n",
       "      <td>46673.155746</td>\n",
       "      <td>0.308349</td>\n",
       "      <td>0.245912</td>\n",
       "      <td>3715.351732</td>\n",
       "    </tr>\n",
       "    <tr>\n",
       "      <th>11</th>\n",
       "      <td>45135.606736</td>\n",
       "      <td>0.297051</td>\n",
       "      <td>0.247810</td>\n",
       "      <td>3738.618649</td>\n",
       "    </tr>\n",
       "    <tr>\n",
       "      <th>3</th>\n",
       "      <td>47694.161937</td>\n",
       "      <td>0.319844</td>\n",
       "      <td>0.248461</td>\n",
       "      <td>3719.295024</td>\n",
       "    </tr>\n",
       "    <tr>\n",
       "      <th>13</th>\n",
       "      <td>45081.296749</td>\n",
       "      <td>0.297015</td>\n",
       "      <td>0.248909</td>\n",
       "      <td>3741.781796</td>\n",
       "    </tr>\n",
       "    <tr>\n",
       "      <th>2</th>\n",
       "      <td>49766.928802</td>\n",
       "      <td>0.342791</td>\n",
       "      <td>0.254069</td>\n",
       "      <td>3730.073984</td>\n",
       "    </tr>\n",
       "    <tr>\n",
       "      <th>1</th>\n",
       "      <td>53108.806927</td>\n",
       "      <td>0.381963</td>\n",
       "      <td>0.266683</td>\n",
       "      <td>3743.513203</td>\n",
       "    </tr>\n",
       "    <tr>\n",
       "      <th>14</th>\n",
       "      <td>51998.801514</td>\n",
       "      <td>0.442777</td>\n",
       "      <td>0.274272</td>\n",
       "      <td>3857.713020</td>\n",
       "    </tr>\n",
       "  </tbody>\n",
       "</table>\n",
       "</div>"
      ],
      "text/plain": [
       "             MAE      MSQE      MAPE          AIC\n",
       "6   45205.935971  0.292940  0.241891  3712.338206\n",
       "8   45254.310913  0.295186  0.243265  3712.207762\n",
       "5   45858.347711  0.299938  0.243840  3712.836111\n",
       "4   46673.155746  0.308349  0.245912  3715.351732\n",
       "11  45135.606736  0.297051  0.247810  3738.618649\n",
       "3   47694.161937  0.319844  0.248461  3719.295024\n",
       "13  45081.296749  0.297015  0.248909  3741.781796\n",
       "2   49766.928802  0.342791  0.254069  3730.073984\n",
       "1   53108.806927  0.381963  0.266683  3743.513203\n",
       "14  51998.801514  0.442777  0.274272  3857.713020"
      ]
     },
     "execution_count": 82,
     "metadata": {},
     "output_type": "execute_result"
    },
    {
     "data": {
      "image/png": "[encoded data removed]",
      "text/plain": [
       "<Figure size 504x504 with 4 Axes>"
      ]
     },
     "metadata": {
      "needs_background": "light"
     },
     "output_type": "display_data"
    }
   ],
   "source": [
    "Average_MAPE = []\n",
    "CrossVal_MAPE = []\n",
    "Average_MAE = []\n",
    "CrossVal_MAE = []\n",
    "Average_MSQE = []\n",
    "CrossVal_MSQE = []\n",
    "Average_AIC = []\n",
    "CrossVal_AIC = []\n",
    "for j in range(15):\n",
    "    try:\n",
    "        for i in range(20):\n",
    "            CrossVal_MAPE.append(list(list(lista[i].values())[0][j].values())[0][0])\n",
    "            CrossVal_MAE.append(list(list(lista[i].values())[0][j].values())[0][1])\n",
    "            CrossVal_MSQE.append(list(list(lista[i].values())[0][j].values())[0][2])\n",
    "            CrossVal_AIC.append(list(list(lista[i].values())[0][j].values())[0][3])\n",
    "        Average_MAPE.append(np.mean(CrossVal_MAPE))\n",
    "        Average_MAE.append(np.mean(CrossVal_MAE))\n",
    "        Average_MSQE.append(np.mean(CrossVal_MSQE))\n",
    "        Average_AIC.append(np.mean(CrossVal_AIC))\n",
    "    except:\n",
    "        Average_MAPE.append(0)\n",
    "        Average_MAE.append(0)\n",
    "        Average_MSQE.append(0)\n",
    "        Average_AIC.append(0)\n",
    "Verdadeiros_Erros = pd.DataFrame([Average_MAPE,Average_MAE,Average_MSQE,Average_AIC],index=['MAE','MSQE','MAPE','AIC']) \n",
    "Verdadeiros_Erros.columns = Verdadeiros_Erros.columns+1\n",
    "fig, axs = plt.subplots(4,figsize = (7,7))\n",
    "fig.tight_layout(pad=3.0)\n",
    "axs[0].title.set_text(\"MAE\")\n",
    "axs[1].title.set_text(\"MSQE\")\n",
    "axs[2].title.set_text(\"MAPE\")\n",
    "axs[3].title.set_text(\"AIC\")\n",
    "axs[0].plot(Verdadeiros_Erros.transpose()['MAE'])\n",
    "axs[1].plot(Verdadeiros_Erros.transpose()['MSQE'])\n",
    "axs[2].plot(Verdadeiros_Erros.transpose()['MAPE'])\n",
    "axs[3].plot(Verdadeiros_Erros.transpose()['AIC'])\n",
    "Verdadeiros_Erros.transpose().sort_values(by =['MAPE','AIC','MSQE'])[Verdadeiros_Erros.transpose()['MAE'] != 0]"
   ]
  },
  {
   "cell_type": "code",
   "execution_count": 85,
   "id": "2433fb9f",
   "metadata": {},
   "outputs": [
    {
     "data": {
      "image/png": "[encoded data removed]",
      "text/plain": [
       "<Figure size 720x720 with 1 Axes>"
      ]
     },
     "metadata": {
      "needs_background": "light"
     },
     "output_type": "display_data"
    }
   ],
   "source": [
    "var_model = VARMAX(df_caminhoes[['Câmbio','Automóveis_Com_Emplac']],order =(6,0), enforce_stationarity=True)\n",
    "fitted_model = var_model.fit(disp=False)\n",
    "predict = fitted_model.get_prediction(start=len(df_caminhoes),end=len(df_caminhoes) + 24 -1)\n",
    "predictions = predict.predicted_mean\n",
    "predictions.rename(columns = {'Câmbio':'Câmbio_Forecast','Automóveis_Com_Emplac':'Automóveis_Com_Emplac_Forecast'},inplace=True)\n",
    "Forecast = pd.concat([df_caminhoes['Automóveis_Com_Emplac'],predictions['Automóveis_Com_Emplac_Forecast']])\n",
    "fig, axs = plt.subplots(1,figsize=(10,10))\n",
    "\n",
    "axs.plot(Forecast[240:264], lw=10, c='yellow', zorder=-1)\n",
    "axs.plot(Forecast)\n",
    "axs.title.set_text(f'Forecast Automóveis')"
   ]
  },
  {
   "cell_type": "code",
   "execution_count": 87,
   "id": "7420ce00",
   "metadata": {},
   "outputs": [
    {
     "name": "stdout",
     "output_type": "stream",
     "text": [
      "Performing stepwise search to minimize aic\n",
      " ARIMA(2,1,2)(0,0,0)[0] intercept   : AIC=4109.219, Time=0.12 sec\n",
      " ARIMA(0,1,0)(0,0,0)[0] intercept   : AIC=4147.592, Time=0.01 sec\n",
      " ARIMA(1,1,0)(0,0,0)[0] intercept   : AIC=4133.728, Time=0.01 sec\n",
      " ARIMA(0,1,1)(0,0,0)[0] intercept   : AIC=4123.300, Time=0.02 sec\n",
      " ARIMA(0,1,0)(0,0,0)[0]             : AIC=4145.617, Time=0.00 sec\n",
      " ARIMA(1,1,2)(0,0,0)[0] intercept   : AIC=4107.532, Time=0.08 sec\n",
      " ARIMA(0,1,2)(0,0,0)[0] intercept   : AIC=4120.763, Time=0.02 sec\n",
      " ARIMA(1,1,1)(0,0,0)[0] intercept   : AIC=4122.517, Time=0.03 sec\n",
      " ARIMA(1,1,3)(0,0,0)[0] intercept   : AIC=4109.363, Time=0.07 sec\n",
      " ARIMA(0,1,3)(0,0,0)[0] intercept   : AIC=4117.645, Time=0.04 sec\n",
      " ARIMA(2,1,1)(0,0,0)[0] intercept   : AIC=4121.395, Time=0.05 sec\n",
      " ARIMA(2,1,3)(0,0,0)[0] intercept   : AIC=4105.809, Time=0.22 sec\n",
      " ARIMA(3,1,3)(0,0,0)[0] intercept   : AIC=4106.448, Time=0.27 sec\n",
      " ARIMA(2,1,4)(0,0,0)[0] intercept   : AIC=4104.970, Time=0.37 sec\n",
      " ARIMA(1,1,4)(0,0,0)[0] intercept   : AIC=4111.004, Time=0.11 sec\n",
      " ARIMA(3,1,4)(0,0,0)[0] intercept   : AIC=4099.796, Time=0.58 sec\n",
      " ARIMA(4,1,4)(0,0,0)[0] intercept   : AIC=4109.087, Time=0.41 sec\n",
      " ARIMA(3,1,5)(0,0,0)[0] intercept   : AIC=inf, Time=0.65 sec\n",
      " ARIMA(2,1,5)(0,0,0)[0] intercept   : AIC=4110.167, Time=0.36 sec\n",
      " ARIMA(4,1,3)(0,0,0)[0] intercept   : AIC=4088.233, Time=0.46 sec\n",
      " ARIMA(4,1,2)(0,0,0)[0] intercept   : AIC=4103.840, Time=0.25 sec\n",
      " ARIMA(5,1,3)(0,0,0)[0] intercept   : AIC=4090.167, Time=0.55 sec\n",
      " ARIMA(3,1,2)(0,0,0)[0] intercept   : AIC=4110.692, Time=0.13 sec\n",
      " ARIMA(5,1,2)(0,0,0)[0] intercept   : AIC=4105.788, Time=0.32 sec\n",
      " ARIMA(5,1,4)(0,0,0)[0] intercept   : AIC=4087.715, Time=0.51 sec\n",
      " ARIMA(5,1,5)(0,0,0)[0] intercept   : AIC=4089.124, Time=0.67 sec\n",
      " ARIMA(4,1,5)(0,0,0)[0] intercept   : AIC=inf, Time=0.54 sec\n",
      " ARIMA(5,1,4)(0,0,0)[0]             : AIC=inf, Time=0.44 sec\n",
      "\n",
      "Best model:  ARIMA(5,1,4)(0,0,0)[0] intercept\n",
      "Total fit time: 7.334 seconds\n"
     ]
    },
    {
     "data": {
      "text/html": [
       "<table class=\"simpletable\">\n",
       "<caption>SARIMAX Results</caption>\n",
       "<tr>\n",
       "  <th>Dep. Variable:</th>           <td>y</td>        <th>  No. Observations:  </th>    <td>241</td>   \n",
       "</tr>\n",
       "<tr>\n",
       "  <th>Model:</th>           <td>SARIMAX(5, 1, 4)</td> <th>  Log Likelihood     </th> <td>-2032.858</td>\n",
       "</tr>\n",
       "<tr>\n",
       "  <th>Date:</th>            <td>Tue, 08 Mar 2022</td> <th>  AIC                </th> <td>4087.715</td> \n",
       "</tr>\n",
       "<tr>\n",
       "  <th>Time:</th>                <td>02:05:03</td>     <th>  BIC                </th> <td>4126.002</td> \n",
       "</tr>\n",
       "<tr>\n",
       "  <th>Sample:</th>                  <td>0</td>        <th>  HQIC               </th> <td>4103.142</td> \n",
       "</tr>\n",
       "<tr>\n",
       "  <th></th>                      <td> - 241</td>      <th>                     </th>     <td> </td>    \n",
       "</tr>\n",
       "<tr>\n",
       "  <th>Covariance Type:</th>        <td>opg</td>       <th>                     </th>     <td> </td>    \n",
       "</tr>\n",
       "</table>\n",
       "<table class=\"simpletable\">\n",
       "<tr>\n",
       "      <td></td>         <th>coef</th>     <th>std err</th>      <th>z</th>      <th>P>|z|</th>  <th>[0.025</th>    <th>0.975]</th>  \n",
       "</tr>\n",
       "<tr>\n",
       "  <th>intercept</th> <td>   41.1108</td> <td>   94.544</td> <td>    0.435</td> <td> 0.664</td> <td> -144.192</td> <td>  226.413</td>\n",
       "</tr>\n",
       "<tr>\n",
       "  <th>ar.L1</th>     <td>   -0.3682</td> <td>    0.444</td> <td>   -0.829</td> <td> 0.407</td> <td>   -1.238</td> <td>    0.502</td>\n",
       "</tr>\n",
       "<tr>\n",
       "  <th>ar.L2</th>     <td>   -0.5208</td> <td>    0.490</td> <td>   -1.063</td> <td> 0.288</td> <td>   -1.481</td> <td>    0.440</td>\n",
       "</tr>\n",
       "<tr>\n",
       "  <th>ar.L3</th>     <td>    0.0074</td> <td>    0.656</td> <td>    0.011</td> <td> 0.991</td> <td>   -1.278</td> <td>    1.293</td>\n",
       "</tr>\n",
       "<tr>\n",
       "  <th>ar.L4</th>     <td>    0.4546</td> <td>    0.477</td> <td>    0.953</td> <td> 0.340</td> <td>   -0.480</td> <td>    1.389</td>\n",
       "</tr>\n",
       "<tr>\n",
       "  <th>ar.L5</th>     <td>    0.3433</td> <td>    0.229</td> <td>    1.500</td> <td> 0.134</td> <td>   -0.105</td> <td>    0.792</td>\n",
       "</tr>\n",
       "<tr>\n",
       "  <th>ma.L1</th>     <td>    0.1156</td> <td>    0.427</td> <td>    0.271</td> <td> 0.786</td> <td>   -0.720</td> <td>    0.952</td>\n",
       "</tr>\n",
       "<tr>\n",
       "  <th>ma.L2</th>     <td>    0.2635</td> <td>    0.365</td> <td>    0.722</td> <td> 0.470</td> <td>   -0.452</td> <td>    0.979</td>\n",
       "</tr>\n",
       "<tr>\n",
       "  <th>ma.L3</th>     <td>   -0.0496</td> <td>    0.439</td> <td>   -0.113</td> <td> 0.910</td> <td>   -0.909</td> <td>    0.810</td>\n",
       "</tr>\n",
       "<tr>\n",
       "  <th>ma.L4</th>     <td>   -0.6947</td> <td>    0.318</td> <td>   -2.183</td> <td> 0.029</td> <td>   -1.318</td> <td>   -0.071</td>\n",
       "</tr>\n",
       "<tr>\n",
       "  <th>sigma2</th>    <td>  1.46e+06</td> <td> 1.22e+05</td> <td>   11.957</td> <td> 0.000</td> <td> 1.22e+06</td> <td>  1.7e+06</td>\n",
       "</tr>\n",
       "</table>\n",
       "<table class=\"simpletable\">\n",
       "<tr>\n",
       "  <th>Ljung-Box (L1) (Q):</th>     <td>0.01</td> <th>  Jarque-Bera (JB):  </th> <td>57.59</td>\n",
       "</tr>\n",
       "<tr>\n",
       "  <th>Prob(Q):</th>                <td>0.94</td> <th>  Prob(JB):          </th> <td>0.00</td> \n",
       "</tr>\n",
       "<tr>\n",
       "  <th>Heteroskedasticity (H):</th> <td>1.68</td> <th>  Skew:              </th> <td>-0.43</td>\n",
       "</tr>\n",
       "<tr>\n",
       "  <th>Prob(H) (two-sided):</th>    <td>0.02</td> <th>  Kurtosis:          </th> <td>5.24</td> \n",
       "</tr>\n",
       "</table><br/><br/>Warnings:<br/>[1] Covariance matrix calculated using the outer product of gradients (complex-step)."
      ],
      "text/plain": [
       "<class 'statsmodels.iolib.summary.Summary'>\n",
       "\"\"\"\n",
       "                               SARIMAX Results                                \n",
       "==============================================================================\n",
       "Dep. Variable:                      y   No. Observations:                  241\n",
       "Model:               SARIMAX(5, 1, 4)   Log Likelihood               -2032.858\n",
       "Date:                Tue, 08 Mar 2022   AIC                           4087.715\n",
       "Time:                        02:05:03   BIC                           4126.002\n",
       "Sample:                             0   HQIC                          4103.142\n",
       "                                - 241                                         \n",
       "Covariance Type:                  opg                                         \n",
       "==============================================================================\n",
       "                 coef    std err          z      P>|z|      [0.025      0.975]\n",
       "------------------------------------------------------------------------------\n",
       "intercept     41.1108     94.544      0.435      0.664    -144.192     226.413\n",
       "ar.L1         -0.3682      0.444     -0.829      0.407      -1.238       0.502\n",
       "ar.L2         -0.5208      0.490     -1.063      0.288      -1.481       0.440\n",
       "ar.L3          0.0074      0.656      0.011      0.991      -1.278       1.293\n",
       "ar.L4          0.4546      0.477      0.953      0.340      -0.480       1.389\n",
       "ar.L5          0.3433      0.229      1.500      0.134      -0.105       0.792\n",
       "ma.L1          0.1156      0.427      0.271      0.786      -0.720       0.952\n",
       "ma.L2          0.2635      0.365      0.722      0.470      -0.452       0.979\n",
       "ma.L3         -0.0496      0.439     -0.113      0.910      -0.909       0.810\n",
       "ma.L4         -0.6947      0.318     -2.183      0.029      -1.318      -0.071\n",
       "sigma2       1.46e+06   1.22e+05     11.957      0.000    1.22e+06     1.7e+06\n",
       "===================================================================================\n",
       "Ljung-Box (L1) (Q):                   0.01   Jarque-Bera (JB):                57.59\n",
       "Prob(Q):                              0.94   Prob(JB):                         0.00\n",
       "Heteroskedasticity (H):               1.68   Skew:                            -0.43\n",
       "Prob(H) (two-sided):                  0.02   Kurtosis:                         5.24\n",
       "===================================================================================\n",
       "\n",
       "Warnings:\n",
       "[1] Covariance matrix calculated using the outer product of gradients (complex-step).\n",
       "\"\"\""
      ]
     },
     "execution_count": 87,
     "metadata": {},
     "output_type": "execute_result"
    }
   ],
   "source": [
    "from pmdarima import auto_arima\n",
    "\n",
    "df_caminhoes.set_index('Data')\n",
    "stepwise_fit = auto_arima(df_caminhoes['Caminhões_Emplac'],\n",
    "                          trace = True, suppress_warnings=True)\n",
    "\n",
    "stepwise_fit.summary()\n"
   ]
  },
  {
   "cell_type": "code",
   "execution_count": 98,
   "id": "be5e63a4",
   "metadata": {},
   "outputs": [
    {
     "name": "stderr",
     "output_type": "stream",
     "text": [
      "d:\\python\\lib\\site-packages\\statsmodels\\base\\model.py:604: ConvergenceWarning: Maximum Likelihood optimization failed to converge. Check mle_retvals\n",
      "  warnings.warn(\"Maximum Likelihood optimization failed to \"\n"
     ]
    }
   ],
   "source": [
    "from statsmodels.tsa.arima.model import ARIMA\n",
    "Train_Cam = df_caminhoes['Caminhões_Emplac'].iloc[:-24]\n",
    "Test_Cam = df_caminhoes['Caminhões_Emplac'].iloc[-24:]\n",
    "arima1 = ARIMA(Train_Cam, order=(5,1,4))\n",
    "arima1 = arima1.fit()\n",
    "Prediction = arima1.predict(start = len(Train_Cam), end = len(Train_Cam) + len(Test_Cam) +1, typ = 'levels')\n",
    "Prediction.index = df_caminhoes['Data'][-26:]\n"
   ]
  },
  {
   "cell_type": "code",
   "execution_count": 107,
   "id": "58b28a7b",
   "metadata": {},
   "outputs": [
    {
     "data": {
      "text/plain": [
       "[<matplotlib.lines.Line2D at 0x1b35ad5a670>]"
      ]
     },
     "execution_count": 107,
     "metadata": {},
     "output_type": "execute_result"
    },
    {
     "data": {
      "image/png": "[encoded data removed]",
      "text/plain": [
       "<Figure size 432x288 with 1 Axes>"
      ]
     },
     "metadata": {
      "needs_background": "light"
     },
     "output_type": "display_data"
    }
   ],
   "source": [
    "Prediction1 =pd.DataFrame(Prediction)\n",
    "plt.plot(Prediction1)\n",
    "plt.plot(df_caminhoes.set_index('Data')['Caminhões_Emplac'].iloc[-26:])"
   ]
  },
  {
   "cell_type": "code",
   "execution_count": 109,
   "id": "cf1158c1",
   "metadata": {
    "scrolled": true
   },
   "outputs": [
    {
     "name": "stderr",
     "output_type": "stream",
     "text": [
      "d:\\python\\lib\\site-packages\\statsmodels\\tsa\\statespace\\sarimax.py:966: UserWarning: Non-stationary starting autoregressive parameters found. Using zeros as starting parameters.\n",
      "  warn('Non-stationary starting autoregressive parameters'\n",
      "d:\\python\\lib\\site-packages\\statsmodels\\tsa\\statespace\\sarimax.py:978: UserWarning: Non-invertible starting MA parameters found. Using zeros as starting parameters.\n",
      "  warn('Non-invertible starting MA parameters found.'\n",
      "d:\\python\\lib\\site-packages\\statsmodels\\base\\model.py:604: ConvergenceWarning: Maximum Likelihood optimization failed to converge. Check mle_retvals\n",
      "  warnings.warn(\"Maximum Likelihood optimization failed to \"\n"
     ]
    }
   ],
   "source": [
    "Previsão_Final = df_caminhoes['Caminhões_Emplac']\n",
    "arima1 = ARIMA(Previsão_Final, order=(5,1,4))\n",
    "arima1 = arima1.fit()\n",
    "Prediction = arima1.predict(start = len(Previsão_Final), end = len(Previsão_Final) +25, typ = 'levels')"
   ]
  },
  {
   "cell_type": "code",
   "execution_count": 118,
   "id": "dcbb6336",
   "metadata": {},
   "outputs": [
    {
     "data": {
      "text/plain": [
       "241     8863.486052\n",
       "242    10295.295492\n",
       "243     9313.046465\n",
       "244     9457.311400\n",
       "245     8803.038346\n",
       "246     9732.351239\n",
       "247     9766.076639\n",
       "248     8952.520361\n",
       "249     9000.059226\n",
       "250     9573.363212\n",
       "251     9653.070385\n",
       "252     8950.184885\n",
       "253     8900.008355\n",
       "254     9549.891875\n",
       "255     9545.178364\n",
       "256     8903.575635\n",
       "257     8871.932988\n",
       "258     9482.996229\n",
       "259     9475.733773\n",
       "260     8854.483606\n",
       "261     8848.251820\n",
       "262     9429.486725\n",
       "263     9407.192259\n",
       "264     8817.495723\n",
       "265     8826.901231\n",
       "266     9382.549904\n",
       "Name: predicted_mean, dtype: float64"
      ]
     },
     "execution_count": 118,
     "metadata": {},
     "output_type": "execute_result"
    }
   ],
   "source": [
    "Prediction"
   ]
  },
  {
   "cell_type": "code",
   "execution_count": 124,
   "id": "5d619281",
   "metadata": {},
   "outputs": [
    {
     "data": {
      "text/plain": [
       "[<matplotlib.lines.Line2D at 0x1b35c2251f0>]"
      ]
     },
     "execution_count": 124,
     "metadata": {},
     "output_type": "execute_result"
    },
    {
     "data": {
      "image/png": "[encoded data removed]",
      "text/plain": [
       "<Figure size 720x720 with 1 Axes>"
      ]
     },
     "metadata": {
      "needs_background": "light"
     },
     "output_type": "display_data"
    }
   ],
   "source": [
    "Forecast_Caminhões = pd.concat([df_caminhoes['Caminhões_Emplac'],Prediction])\n",
    "fig, axs = plt.subplots(1,figsize=(10,10))\n",
    "\n",
    "axs.title.set_text(f'Forecast Caminhões')\n",
    "axs.plot(Forecast_Caminhões[240:])\n",
    "axs.plot(Forecast_Caminhões[:241])"
   ]
  }
 ],
 "metadata": {
  "kernelspec": {
   "display_name": "Python 3",
   "language": "python",
   "name": "python3"
  },
  "language_info": {
   "codemirror_mode": {
    "name": "ipython",
    "version": 3
   },
   "file_extension": ".py",
   "mimetype": "text/x-python",
   "name": "python",
   "nbconvert_exporter": "python",
   "pygments_lexer": "ipython3",
   "version": "3.9.5"
  }
 },
 "nbformat": 4,
 "nbformat_minor": 5
}
