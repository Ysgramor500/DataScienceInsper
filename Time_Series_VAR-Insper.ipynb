{
 "cells": [
  {
   "cell_type": "markdown",
   "id": "c6ce7253",
   "metadata": {},
   "source": [
    "# Modelo de Regressão VAR"
   ]
  },
  {
   "cell_type": "code",
   "execution_count": 154,
   "id": "1970feb7",
   "metadata": {},
   "outputs": [],
   "source": [
    "import pandas as pd\n",
    "import numpy as np\n",
    "import pandas_profiling as ProfileReport\n",
    "from sklearn.model_selection import train_test_split\n",
    "import matplotlib.pyplot as plt\n",
    "from statsmodels.graphics.tsaplots import plot_acf, plot_pacf\n",
    "from statsmodels.tsa.statespace.varmax import VARMAX\n",
    "from statsmodels.tsa.api import VAR\n",
    "from statsmodels.tsa.stattools import grangercausalitytests, adfuller\n",
    "from tqdm import tqdm_notebook\n",
    "from itertools import product"
   ]
  },
  {
   "cell_type": "code",
   "execution_count": 32,
   "id": "4880abf2",
   "metadata": {},
   "outputs": [],
   "source": [
    "df_caminhoes = pd.read_excel(\"C:/Users/User/Downloads/auto e caminhoes fenabrave.xlsx\")\n",
    "df_energia = pd.read_excel(\"C:/Users/User/Downloads/consumo de energia.xlsx\")"
   ]
  },
  {
   "cell_type": "code",
   "execution_count": 33,
   "id": "7913d902",
   "metadata": {},
   "outputs": [],
   "source": [
    "df_caminhoes =df_caminhoes.iloc[7:,0:3].head(10)"
   ]
  },
  {
   "cell_type": "code",
   "execution_count": 34,
   "id": "9125ebe7",
   "metadata": {},
   "outputs": [
    {
     "data": {
      "text/html": [
       "<div>\n",
       "<style scoped>\n",
       "    .dataframe tbody tr th:only-of-type {\n",
       "        vertical-align: middle;\n",
       "    }\n",
       "\n",
       "    .dataframe tbody tr th {\n",
       "        vertical-align: top;\n",
       "    }\n",
       "\n",
       "    .dataframe thead th {\n",
       "        text-align: right;\n",
       "    }\n",
       "</style>\n",
       "<table border=\"1\" class=\"dataframe\">\n",
       "  <thead>\n",
       "    <tr style=\"text-align: right;\">\n",
       "      <th></th>\n",
       "      <th>Nome da serie</th>\n",
       "      <th>Emplacamento de Caminhões(Nacional)(Original)(Mensal)(Nível)</th>\n",
       "      <th>Emplacamento de Automóveis e Comerciais Leves(Nacional)(Original)(Mensal)(Nível)</th>\n",
       "    </tr>\n",
       "  </thead>\n",
       "  <tbody>\n",
       "    <tr>\n",
       "      <th>0</th>\n",
       "      <td>2002-01-01 00:00:00</td>\n",
       "      <td>5328</td>\n",
       "      <td>108254</td>\n",
       "    </tr>\n",
       "    <tr>\n",
       "      <th>1</th>\n",
       "      <td>2002-02-01 00:00:00</td>\n",
       "      <td>4561</td>\n",
       "      <td>91737</td>\n",
       "    </tr>\n",
       "    <tr>\n",
       "      <th>2</th>\n",
       "      <td>2002-03-01 00:00:00</td>\n",
       "      <td>5310</td>\n",
       "      <td>116635</td>\n",
       "    </tr>\n",
       "    <tr>\n",
       "      <th>3</th>\n",
       "      <td>2002-04-01 00:00:00</td>\n",
       "      <td>5346</td>\n",
       "      <td>131601</td>\n",
       "    </tr>\n",
       "    <tr>\n",
       "      <th>4</th>\n",
       "      <td>2002-05-01 00:00:00</td>\n",
       "      <td>6255</td>\n",
       "      <td>115136</td>\n",
       "    </tr>\n",
       "    <tr>\n",
       "      <th>5</th>\n",
       "      <td>2002-06-01 00:00:00</td>\n",
       "      <td>5188</td>\n",
       "      <td>100670</td>\n",
       "    </tr>\n",
       "    <tr>\n",
       "      <th>6</th>\n",
       "      <td>2002-07-01 00:00:00</td>\n",
       "      <td>5274</td>\n",
       "      <td>117766</td>\n",
       "    </tr>\n",
       "    <tr>\n",
       "      <th>7</th>\n",
       "      <td>2002-08-01 00:00:00</td>\n",
       "      <td>4553</td>\n",
       "      <td>120610</td>\n",
       "    </tr>\n",
       "    <tr>\n",
       "      <th>8</th>\n",
       "      <td>2002-09-01 00:00:00</td>\n",
       "      <td>5326</td>\n",
       "      <td>122722</td>\n",
       "    </tr>\n",
       "  </tbody>\n",
       "</table>\n",
       "</div>"
      ],
      "text/plain": [
       "         Nome da serie  \\\n",
       "0  2002-01-01 00:00:00   \n",
       "1  2002-02-01 00:00:00   \n",
       "2  2002-03-01 00:00:00   \n",
       "3  2002-04-01 00:00:00   \n",
       "4  2002-05-01 00:00:00   \n",
       "5  2002-06-01 00:00:00   \n",
       "6  2002-07-01 00:00:00   \n",
       "7  2002-08-01 00:00:00   \n",
       "8  2002-09-01 00:00:00   \n",
       "\n",
       "  Emplacamento de Caminhões(Nacional)(Original)(Mensal)(Nível)  \\\n",
       "0                                               5328             \n",
       "1                                               4561             \n",
       "2                                               5310             \n",
       "3                                               5346             \n",
       "4                                               6255             \n",
       "5                                               5188             \n",
       "6                                               5274             \n",
       "7                                               4553             \n",
       "8                                               5326             \n",
       "\n",
       "  Emplacamento de Automóveis e Comerciais Leves(Nacional)(Original)(Mensal)(Nível)  \n",
       "0                                             108254                                \n",
       "1                                              91737                                \n",
       "2                                             116635                                \n",
       "3                                             131601                                \n",
       "4                                             115136                                \n",
       "5                                             100670                                \n",
       "6                                             117766                                \n",
       "7                                             120610                                \n",
       "8                                             122722                                "
      ]
     },
     "execution_count": 34,
     "metadata": {},
     "output_type": "execute_result"
    }
   ],
   "source": [
    "df_caminhoes.rename(columns=df_caminhoes.iloc[0]).drop(df_caminhoes.index[0]).reset_index(drop=True)"
   ]
  },
  {
   "cell_type": "code",
   "execution_count": 35,
   "id": "4b2cf974",
   "metadata": {},
   "outputs": [],
   "source": [
    "df_energia = df_energia.iloc[7:].reset_index(drop = True)"
   ]
  },
  {
   "cell_type": "code",
   "execution_count": 40,
   "id": "78fdda41",
   "metadata": {},
   "outputs": [],
   "source": [
    "df_energia.columns = df_energia.iloc[0,:]"
   ]
  },
  {
   "cell_type": "code",
   "execution_count": 42,
   "id": "5aa1840f",
   "metadata": {},
   "outputs": [],
   "source": [
    "df_energia = df_energia.iloc[1:]"
   ]
  },
  {
   "cell_type": "code",
   "execution_count": 98,
   "id": "350b8888",
   "metadata": {},
   "outputs": [],
   "source": [
    "df_caminhoes = df_caminhoes.rename(columns = df_caminhoes.iloc[0,:])[1:]"
   ]
  },
  {
   "cell_type": "code",
   "execution_count": 99,
   "id": "66561f1d",
   "metadata": {},
   "outputs": [
    {
     "name": "stderr",
     "output_type": "stream",
     "text": [
      "<ipython-input-99-c56abee98580>:1: SettingWithCopyWarning: \n",
      "A value is trying to be set on a copy of a slice from a DataFrame.\n",
      "Try using .loc[row_indexer,col_indexer] = value instead\n",
      "\n",
      "See the caveats in the documentation: https://pandas.pydata.org/pandas-docs/stable/user_guide/indexing.html#returning-a-view-versus-a-copy\n",
      "  df_energia['Data'] = [pd.to_datetime(i) for i in df_energia['Data']]\n"
     ]
    }
   ],
   "source": [
    "df_energia['Data'] = [pd.to_datetime(i) for i in df_energia['Data']]\n",
    "df_caminhoes['Nome da serie'] = [pd.to_datetime(i) for i in df_caminhoes['Nome da serie']]"
   ]
  },
  {
   "cell_type": "code",
   "execution_count": 70,
   "id": "c9a21dbe",
   "metadata": {},
   "outputs": [],
   "source": [
    "PIB = pd.read_excel('D:/我的/PIB_IPCA.xlsx','PIB')\n",
    "IPCA = pd.read_excel('D:/我的/PIB_IPCA.xlsx','IPCA')"
   ]
  },
  {
   "cell_type": "code",
   "execution_count": 71,
   "id": "13bcdb7f",
   "metadata": {},
   "outputs": [],
   "source": [
    "PIB['Data'] = [i.replace('.','-') for i in PIB['Data']]\n",
    "PIB['Data'] = [pd.to_datetime(i) for i in PIB['Data']]\n",
    "PIB = PIB.iloc[:,:2]"
   ]
  },
  {
   "cell_type": "code",
   "execution_count": 72,
   "id": "9f55913e",
   "metadata": {},
   "outputs": [],
   "source": [
    "IPCA['Data'] = [i.replace('.','-') for i in IPCA['Data']]\n",
    "IPCA['Data'] = [pd.to_datetime(i) for i in IPCA['Data']]\n",
    "IPCA = IPCA.iloc[:,:2]"
   ]
  },
  {
   "cell_type": "code",
   "execution_count": 73,
   "id": "7dbc617a",
   "metadata": {},
   "outputs": [],
   "source": [
    "import math\n",
    "PIB['Estação'] = [math.ceil(int(i.strftime('%m'))/3) for i in PIB['Data']]\n",
    "IPCA['Estação'] = [math.ceil(int(i.strftime('%m'))/3) for i in IPCA['Data']]"
   ]
  },
  {
   "cell_type": "code",
   "execution_count": 79,
   "id": "285a6a5c",
   "metadata": {},
   "outputs": [],
   "source": [
    "PIB_REAL = pd.merge(PIB,IPCA)"
   ]
  },
  {
   "cell_type": "code",
   "execution_count": 83,
   "id": "cacc495b",
   "metadata": {},
   "outputs": [
    {
     "name": "stderr",
     "output_type": "stream",
     "text": [
      "d:\\python\\lib\\site-packages\\pandas\\core\\frame.py:4441: SettingWithCopyWarning: \n",
      "A value is trying to be set on a copy of a slice from a DataFrame\n",
      "\n",
      "See the caveats in the documentation: https://pandas.pydata.org/pandas-docs/stable/user_guide/indexing.html#returning-a-view-versus-a-copy\n",
      "  return super().rename(\n"
     ]
    }
   ],
   "source": [
    "df_energia.rename(columns={'Nome da serie':'Data'},inplace=True)"
   ]
  },
  {
   "cell_type": "code",
   "execution_count": 102,
   "id": "7d62306f",
   "metadata": {},
   "outputs": [],
   "source": [
    "df_energia = pd.merge(pd.merge(df_energia,PIB),IPCA)"
   ]
  },
  {
   "cell_type": "code",
   "execution_count": 110,
   "id": "75ee3b76",
   "metadata": {},
   "outputs": [],
   "source": [
    "df_energia['PIB_Var'] = df_energia['PIB'] - df_energia['PIB'].shift(1)   "
   ]
  },
  {
   "cell_type": "code",
   "execution_count": 111,
   "id": "73660af2",
   "metadata": {},
   "outputs": [
    {
     "data": {
      "text/html": [
       "<div>\n",
       "<style scoped>\n",
       "    .dataframe tbody tr th:only-of-type {\n",
       "        vertical-align: middle;\n",
       "    }\n",
       "\n",
       "    .dataframe tbody tr th {\n",
       "        vertical-align: top;\n",
       "    }\n",
       "\n",
       "    .dataframe thead th {\n",
       "        text-align: right;\n",
       "    }\n",
       "</style>\n",
       "<table border=\"1\" class=\"dataframe\">\n",
       "  <thead>\n",
       "    <tr style=\"text-align: right;\">\n",
       "      <th></th>\n",
       "      <th>Data</th>\n",
       "      <th>Consumo de Energia Elétrica Total (EPE)(Nacional)(Original)(Mensal)(Nível)</th>\n",
       "      <th>Consumo de Energia Elétrica Total (EPE)(Região Centro-oeste)(Original)(Mensal)(Nível)</th>\n",
       "      <th>Consumo de Energia Elétrica Total (EPE)(Região Sul)(Original)(Mensal)(Nível)</th>\n",
       "      <th>Consumo de Energia Elétrica Total (EPE)(Região Sudeste)(Original)(Mensal)(Nível)</th>\n",
       "      <th>Consumo de Energia Elétrica Total (EPE)(Região Norte)(Original)(Mensal)(Nível)</th>\n",
       "      <th>Consumo de Energia Elétrica Total (EPE)(Região Nordeste)(Original)(Mensal)(Nível)</th>\n",
       "      <th>PIB</th>\n",
       "      <th>Estação</th>\n",
       "      <th>IPCA</th>\n",
       "      <th>PIB_Var</th>\n",
       "    </tr>\n",
       "  </thead>\n",
       "  <tbody>\n",
       "    <tr>\n",
       "      <th>0</th>\n",
       "      <td>2004-01-01</td>\n",
       "      <td>26978358.02</td>\n",
       "      <td>1507173.86</td>\n",
       "      <td>4510113.04</td>\n",
       "      <td>14929524.4</td>\n",
       "      <td>1574434.34</td>\n",
       "      <td>4457112.38</td>\n",
       "      <td>144558.6</td>\n",
       "      <td>1</td>\n",
       "      <td>6.04</td>\n",
       "      <td>NaN</td>\n",
       "    </tr>\n",
       "    <tr>\n",
       "      <th>1</th>\n",
       "      <td>2004-02-01</td>\n",
       "      <td>26508170.77</td>\n",
       "      <td>1456012.81</td>\n",
       "      <td>4690227.86</td>\n",
       "      <td>14714713.51</td>\n",
       "      <td>1507448.59</td>\n",
       "      <td>4139768.0</td>\n",
       "      <td>142861.3</td>\n",
       "      <td>1</td>\n",
       "      <td>5.60</td>\n",
       "      <td>-1697.3</td>\n",
       "    </tr>\n",
       "    <tr>\n",
       "      <th>2</th>\n",
       "      <td>2004-03-01</td>\n",
       "      <td>27284329.41</td>\n",
       "      <td>1534843.53</td>\n",
       "      <td>4898770.4</td>\n",
       "      <td>14903795.68</td>\n",
       "      <td>1574176.69</td>\n",
       "      <td>4372743.11</td>\n",
       "      <td>157363.5</td>\n",
       "      <td>1</td>\n",
       "      <td>5.66</td>\n",
       "      <td>14502.2</td>\n",
       "    </tr>\n",
       "    <tr>\n",
       "      <th>3</th>\n",
       "      <td>2004-04-01</td>\n",
       "      <td>28046182.351</td>\n",
       "      <td>1610686.661</td>\n",
       "      <td>4873311.14</td>\n",
       "      <td>15501322.96</td>\n",
       "      <td>1598862.11</td>\n",
       "      <td>4461999.48</td>\n",
       "      <td>156953.9</td>\n",
       "      <td>2</td>\n",
       "      <td>5.85</td>\n",
       "      <td>-409.6</td>\n",
       "    </tr>\n",
       "    <tr>\n",
       "      <th>4</th>\n",
       "      <td>2004-05-01</td>\n",
       "      <td>27244506.48</td>\n",
       "      <td>1565788.16</td>\n",
       "      <td>4723026.16</td>\n",
       "      <td>14906628.72</td>\n",
       "      <td>1625478.92</td>\n",
       "      <td>4423584.52</td>\n",
       "      <td>159498.9</td>\n",
       "      <td>2</td>\n",
       "      <td>6.42</td>\n",
       "      <td>2545.0</td>\n",
       "    </tr>\n",
       "    <tr>\n",
       "      <th>...</th>\n",
       "      <td>...</td>\n",
       "      <td>...</td>\n",
       "      <td>...</td>\n",
       "      <td>...</td>\n",
       "      <td>...</td>\n",
       "      <td>...</td>\n",
       "      <td>...</td>\n",
       "      <td>...</td>\n",
       "      <td>...</td>\n",
       "      <td>...</td>\n",
       "      <td>...</td>\n",
       "    </tr>\n",
       "    <tr>\n",
       "      <th>211</th>\n",
       "      <td>2021-08-01</td>\n",
       "      <td>40628575.03</td>\n",
       "      <td>3229521.63</td>\n",
       "      <td>7578668.669</td>\n",
       "      <td>19567126.511</td>\n",
       "      <td>3161464.87</td>\n",
       "      <td>7091793.35</td>\n",
       "      <td>739692.2</td>\n",
       "      <td>3</td>\n",
       "      <td>5.43</td>\n",
       "      <td>-4466.0</td>\n",
       "    </tr>\n",
       "    <tr>\n",
       "      <th>212</th>\n",
       "      <td>2021-09-01</td>\n",
       "      <td>41985319.612</td>\n",
       "      <td>3552433.54</td>\n",
       "      <td>7354639.471</td>\n",
       "      <td>20710207.661</td>\n",
       "      <td>3190894.8</td>\n",
       "      <td>7177144.14</td>\n",
       "      <td>731334.1</td>\n",
       "      <td>3</td>\n",
       "      <td>5.78</td>\n",
       "      <td>-8358.1</td>\n",
       "    </tr>\n",
       "    <tr>\n",
       "      <th>213</th>\n",
       "      <td>2021-10-01</td>\n",
       "      <td>42622148.53</td>\n",
       "      <td>3600279.44</td>\n",
       "      <td>7451533.11</td>\n",
       "      <td>20798024.23</td>\n",
       "      <td>3219121.3</td>\n",
       "      <td>7553190.45</td>\n",
       "      <td>739982.7</td>\n",
       "      <td>4</td>\n",
       "      <td>6.45</td>\n",
       "      <td>8648.6</td>\n",
       "    </tr>\n",
       "    <tr>\n",
       "      <th>214</th>\n",
       "      <td>2021-11-01</td>\n",
       "      <td>41931837.191</td>\n",
       "      <td>3364580.54</td>\n",
       "      <td>7615013.091</td>\n",
       "      <td>20301925.39</td>\n",
       "      <td>3178834.95</td>\n",
       "      <td>7471483.22</td>\n",
       "      <td>755731.3</td>\n",
       "      <td>4</td>\n",
       "      <td>6.16</td>\n",
       "      <td>15748.6</td>\n",
       "    </tr>\n",
       "    <tr>\n",
       "      <th>215</th>\n",
       "      <td>2021-12-01</td>\n",
       "      <td>42936712.15</td>\n",
       "      <td>3406612.07</td>\n",
       "      <td>7922873.16</td>\n",
       "      <td>20727886.3</td>\n",
       "      <td>3176162.25</td>\n",
       "      <td>7703178.37</td>\n",
       "      <td>759981.1</td>\n",
       "      <td>4</td>\n",
       "      <td>5.13</td>\n",
       "      <td>4249.8</td>\n",
       "    </tr>\n",
       "  </tbody>\n",
       "</table>\n",
       "<p>216 rows × 11 columns</p>\n",
       "</div>"
      ],
      "text/plain": [
       "          Data  \\\n",
       "0   2004-01-01   \n",
       "1   2004-02-01   \n",
       "2   2004-03-01   \n",
       "3   2004-04-01   \n",
       "4   2004-05-01   \n",
       "..         ...   \n",
       "211 2021-08-01   \n",
       "212 2021-09-01   \n",
       "213 2021-10-01   \n",
       "214 2021-11-01   \n",
       "215 2021-12-01   \n",
       "\n",
       "    Consumo de Energia Elétrica Total (EPE)(Nacional)(Original)(Mensal)(Nível)  \\\n",
       "0                                          26978358.02                           \n",
       "1                                          26508170.77                           \n",
       "2                                          27284329.41                           \n",
       "3                                         28046182.351                           \n",
       "4                                          27244506.48                           \n",
       "..                                                 ...                           \n",
       "211                                        40628575.03                           \n",
       "212                                       41985319.612                           \n",
       "213                                        42622148.53                           \n",
       "214                                       41931837.191                           \n",
       "215                                        42936712.15                           \n",
       "\n",
       "    Consumo de Energia Elétrica Total (EPE)(Região Centro-oeste)(Original)(Mensal)(Nível)  \\\n",
       "0                                           1507173.86                                      \n",
       "1                                           1456012.81                                      \n",
       "2                                           1534843.53                                      \n",
       "3                                          1610686.661                                      \n",
       "4                                           1565788.16                                      \n",
       "..                                                 ...                                      \n",
       "211                                         3229521.63                                      \n",
       "212                                         3552433.54                                      \n",
       "213                                         3600279.44                                      \n",
       "214                                         3364580.54                                      \n",
       "215                                         3406612.07                                      \n",
       "\n",
       "    Consumo de Energia Elétrica Total (EPE)(Região Sul)(Original)(Mensal)(Nível)  \\\n",
       "0                                           4510113.04                             \n",
       "1                                           4690227.86                             \n",
       "2                                            4898770.4                             \n",
       "3                                           4873311.14                             \n",
       "4                                           4723026.16                             \n",
       "..                                                 ...                             \n",
       "211                                        7578668.669                             \n",
       "212                                        7354639.471                             \n",
       "213                                         7451533.11                             \n",
       "214                                        7615013.091                             \n",
       "215                                         7922873.16                             \n",
       "\n",
       "    Consumo de Energia Elétrica Total (EPE)(Região Sudeste)(Original)(Mensal)(Nível)  \\\n",
       "0                                           14929524.4                                 \n",
       "1                                          14714713.51                                 \n",
       "2                                          14903795.68                                 \n",
       "3                                          15501322.96                                 \n",
       "4                                          14906628.72                                 \n",
       "..                                                 ...                                 \n",
       "211                                       19567126.511                                 \n",
       "212                                       20710207.661                                 \n",
       "213                                        20798024.23                                 \n",
       "214                                        20301925.39                                 \n",
       "215                                         20727886.3                                 \n",
       "\n",
       "    Consumo de Energia Elétrica Total (EPE)(Região Norte)(Original)(Mensal)(Nível)  \\\n",
       "0                                           1574434.34                               \n",
       "1                                           1507448.59                               \n",
       "2                                           1574176.69                               \n",
       "3                                           1598862.11                               \n",
       "4                                           1625478.92                               \n",
       "..                                                 ...                               \n",
       "211                                         3161464.87                               \n",
       "212                                          3190894.8                               \n",
       "213                                          3219121.3                               \n",
       "214                                         3178834.95                               \n",
       "215                                         3176162.25                               \n",
       "\n",
       "    Consumo de Energia Elétrica Total (EPE)(Região Nordeste)(Original)(Mensal)(Nível)  \\\n",
       "0                                           4457112.38                                  \n",
       "1                                            4139768.0                                  \n",
       "2                                           4372743.11                                  \n",
       "3                                           4461999.48                                  \n",
       "4                                           4423584.52                                  \n",
       "..                                                 ...                                  \n",
       "211                                         7091793.35                                  \n",
       "212                                         7177144.14                                  \n",
       "213                                         7553190.45                                  \n",
       "214                                         7471483.22                                  \n",
       "215                                         7703178.37                                  \n",
       "\n",
       "          PIB  Estação  IPCA  PIB_Var  \n",
       "0    144558.6        1  6.04      NaN  \n",
       "1    142861.3        1  5.60  -1697.3  \n",
       "2    157363.5        1  5.66  14502.2  \n",
       "3    156953.9        2  5.85   -409.6  \n",
       "4    159498.9        2  6.42   2545.0  \n",
       "..        ...      ...   ...      ...  \n",
       "211  739692.2        3  5.43  -4466.0  \n",
       "212  731334.1        3  5.78  -8358.1  \n",
       "213  739982.7        4  6.45   8648.6  \n",
       "214  755731.3        4  6.16  15748.6  \n",
       "215  759981.1        4  5.13   4249.8  \n",
       "\n",
       "[216 rows x 11 columns]"
      ]
     },
     "execution_count": 111,
     "metadata": {},
     "output_type": "execute_result"
    }
   ],
   "source": [
    "df_energia"
   ]
  },
  {
   "cell_type": "code",
   "execution_count": 112,
   "id": "f0521b0a",
   "metadata": {},
   "outputs": [],
   "source": [
    "%matplotlib inline "
   ]
  },
  {
   "cell_type": "code",
   "execution_count": 124,
   "id": "d478f999",
   "metadata": {},
   "outputs": [
    {
     "data": {
      "text/plain": [
       "[<matplotlib.lines.Line2D at 0x168df37de50>]"
      ]
     },
     "execution_count": 124,
     "metadata": {},
     "output_type": "execute_result"
    },
    {
     "data": {
      "image/png": "[encoded data removed]",
      "text/plain": [
       "<Figure size 432x288 with 1 Axes>"
      ]
     },
     "metadata": {
      "needs_background": "light"
     },
     "output_type": "display_data"
    }
   ],
   "source": [
    "plt.scatter(df_energia['Data'],df_energia['PIB_Var'])"
   ]
  },
  {
   "cell_type": "code",
   "execution_count": 126,
   "id": "994e972c",
   "metadata": {},
   "outputs": [
    {
     "data": {
      "text/plain": [
       "[<matplotlib.lines.Line2D at 0x168df3e67c0>]"
      ]
     },
     "execution_count": 126,
     "metadata": {},
     "output_type": "execute_result"
    },
    {
     "data": {
      "image/png": "[encoded data removed]",
      "text/plain": [
       "<Figure size 432x288 with 1 Axes>"
      ]
     },
     "metadata": {
      "needs_background": "light"
     },
     "output_type": "display_data"
    }
   ],
   "source": [
    "plt.plot(df_energia.index,df_energia['PIB_Var'])"
   ]
  },
  {
   "cell_type": "code",
   "execution_count": 127,
   "id": "a9790b46",
   "metadata": {},
   "outputs": [
    {
     "data": {
      "text/plain": [
       "[<matplotlib.lines.Line2D at 0x168df445c10>]"
      ]
     },
     "execution_count": 127,
     "metadata": {},
     "output_type": "execute_result"
    },
    {
     "data": {
      "image/png": "[encoded data removed]",
      "text/plain": [
       "<Figure size 432x288 with 1 Axes>"
      ]
     },
     "metadata": {
      "needs_background": "light"
     },
     "output_type": "display_data"
    }
   ],
   "source": [
    "plt.plot(df_energia.index,df_energia['Consumo de Energia Elétrica Total (EPE)(Nacional)(Original)(Mensal)(Nível)'])"
   ]
  },
  {
   "cell_type": "code",
   "execution_count": 164,
   "id": "607d2941",
   "metadata": {},
   "outputs": [
    {
     "data": {
      "text/plain": [
       "[<matplotlib.lines.Line2D at 0x168dffabbe0>]"
      ]
     },
     "execution_count": 164,
     "metadata": {},
     "output_type": "execute_result"
    },
    {
     "data": {
      "image/png": "[encoded data removed]",
      "text/plain": [
       "<Figure size 432x288 with 1 Axes>"
      ]
     },
     "metadata": {
      "needs_background": "light"
     },
     "output_type": "display_data"
    }
   ],
   "source": [
    "plt.plot(df_energia.index,df_energia['IPCA'])"
   ]
  },
  {
   "cell_type": "code",
   "execution_count": 145,
   "id": "92dbffd8",
   "metadata": {},
   "outputs": [],
   "source": [
    "df_energia['Consumo de Energia Nacional Var'] = df_energia['Consumo de Energia Nacional'] - df_energia['Consumo de Energia Nacional'].shift(1) "
   ]
  },
  {
   "cell_type": "code",
   "execution_count": 134,
   "id": "35ba3174",
   "metadata": {},
   "outputs": [],
   "source": [
    "df_energia.rename(columns = {'Consumo de Energia Elétrica Total (EPE)(Nacional)(Original)(Mensal)(Nível)': 'Consumo de Energia Nacional','Consumo de Energia Elétrica Total (EPE)(Região Centro-oeste)(Original)(Mensal)(Nível)':'Consumo de Energia Centro-Oeste','Consumo de Energia Elétrica Total (EPE)(Região Sul)(Original)(Mensal)(Nível)':'Consumo de Energia Sul','Consumo de Energia Elétrica Total (EPE)(Região Sudeste)(Original)(Mensal)(Nível)':'Consumo de Energia Sudeste','Consumo de Energia Elétrica Total (EPE)(Região Norte)(Original)(Mensal)(Nível)':'Consumo de Energia Norte','Consumo de Energia Elétrica Total (EPE)(Região Nordeste)(Original)(Mensal)(Nível)':'Consumo de Energia Nordeste'},inplace=True)"
   ]
  },
  {
   "cell_type": "code",
   "execution_count": 140,
   "id": "452491b5",
   "metadata": {},
   "outputs": [],
   "source": [
    "df_energia['Consumo de Energia Nacional'] = pd.to_numeric(df_energia['Consumo de Energia Nacional'])"
   ]
  },
  {
   "cell_type": "code",
   "execution_count": 141,
   "id": "ddd23b09",
   "metadata": {},
   "outputs": [
    {
     "data": {
      "text/plain": [
       "Data                               datetime64[ns]\n",
       "Consumo de Energia Nacional               float64\n",
       "Consumo de Energia Centro-Oeste            object\n",
       "Consumo de Energia Sul                     object\n",
       "Consumo de Energia Sudeste                 object\n",
       "Consumo de Energia Norte                   object\n",
       "Consumo de Energia Nordeste                object\n",
       "PIB                                       float64\n",
       "Estação                                     int64\n",
       "IPCA                                      float64\n",
       "PIB_Var                                   float64\n",
       "dtype: object"
      ]
     },
     "execution_count": 141,
     "metadata": {},
     "output_type": "execute_result"
    }
   ],
   "source": [
    "df_energia.dtypes"
   ]
  },
  {
   "cell_type": "code",
   "execution_count": 148,
   "id": "8b2ce827",
   "metadata": {
    "scrolled": true
   },
   "outputs": [
    {
     "data": {
      "text/html": [
       "<div>\n",
       "<style scoped>\n",
       "    .dataframe tbody tr th:only-of-type {\n",
       "        vertical-align: middle;\n",
       "    }\n",
       "\n",
       "    .dataframe tbody tr th {\n",
       "        vertical-align: top;\n",
       "    }\n",
       "\n",
       "    .dataframe thead th {\n",
       "        text-align: right;\n",
       "    }\n",
       "</style>\n",
       "<table border=\"1\" class=\"dataframe\">\n",
       "  <thead>\n",
       "    <tr style=\"text-align: right;\">\n",
       "      <th></th>\n",
       "      <th>Consumo de Energia Nacional Var</th>\n",
       "      <th>IPCA</th>\n",
       "      <th>PIB_Var</th>\n",
       "    </tr>\n",
       "  </thead>\n",
       "  <tbody>\n",
       "    <tr>\n",
       "      <th>Consumo de Energia Nacional Var</th>\n",
       "      <td>1.000000</td>\n",
       "      <td>0.171470</td>\n",
       "      <td>0.215428</td>\n",
       "    </tr>\n",
       "    <tr>\n",
       "      <th>IPCA</th>\n",
       "      <td>0.171470</td>\n",
       "      <td>1.000000</td>\n",
       "      <td>-0.013178</td>\n",
       "    </tr>\n",
       "    <tr>\n",
       "      <th>PIB_Var</th>\n",
       "      <td>0.215428</td>\n",
       "      <td>-0.013178</td>\n",
       "      <td>1.000000</td>\n",
       "    </tr>\n",
       "  </tbody>\n",
       "</table>\n",
       "</div>"
      ],
      "text/plain": [
       "                                 Consumo de Energia Nacional Var      IPCA  \\\n",
       "Consumo de Energia Nacional Var                         1.000000  0.171470   \n",
       "IPCA                                                    0.171470  1.000000   \n",
       "PIB_Var                                                 0.215428 -0.013178   \n",
       "\n",
       "                                  PIB_Var  \n",
       "Consumo de Energia Nacional Var  0.215428  \n",
       "IPCA                            -0.013178  \n",
       "PIB_Var                          1.000000  "
      ]
     },
     "execution_count": 148,
     "metadata": {},
     "output_type": "execute_result"
    }
   ],
   "source": [
    "df_energia[['Consumo de Energia Nacional Var','IPCA','PIB_Var']].corr()"
   ]
  },
  {
   "cell_type": "code",
   "execution_count": 169,
   "id": "d1b41d12",
   "metadata": {
    "scrolled": false
   },
   "outputs": [
    {
     "name": "stdout",
     "output_type": "stream",
     "text": [
      "Consumo de Energia\n",
      "ADF Statistic: -4.421987174110232\n",
      "p-value: 0.00027133711820026654\n",
      "------------------------------------\n",
      "IPCA\n",
      "ADF Statistic: -3.5902611807651708\n",
      "p-value: 0.005949965920851569\n",
      "------------------------------------\n",
      "PIB\n",
      "ADF Statistic: -4.30243322329189\n",
      "p-value: 0.00043992222613272987\n"
     ]
    }
   ],
   "source": [
    "fuller_result_1 = adfuller(df_energia['Consumo de Energia Nacional Var'][1:])\n",
    "print('Consumo de Energia')\n",
    "print(f'ADF Statistic: {fuller_result_1[0]}')\n",
    "print(f'p-value: {fuller_result_1[1]}')\n",
    "\n",
    "print('------------------------------------')\n",
    "\n",
    "ad_fuller_result_2 = adfuller(df_energia['IPCA'].diff()[1:])\n",
    "print('IPCA')\n",
    "print(f'ADF Statistic: {ad_fuller_result_2[0]}')\n",
    "print(f'p-value: {ad_fuller_result_2[1]}')\n",
    "\n",
    "print('------------------------------------')\n",
    "\n",
    "ad_fuller_result_3 = adfuller(df_energia['PIB_Var'][1:])\n",
    "print('PIB')\n",
    "print(f'ADF Statistic: {ad_fuller_result_3[0]}')\n",
    "print(f'p-value: {ad_fuller_result_3[1]}')\n"
   ]
  },
  {
   "cell_type": "code",
   "execution_count": 182,
   "id": "29c2226a",
   "metadata": {},
   "outputs": [
    {
     "name": "stdout",
     "output_type": "stream",
     "text": [
      "O Consumo de Energia Afeta o PIB?\n",
      "-------------------------------\n",
      "\n",
      "Granger Causality\n",
      "number of lags (no zero) 1\n",
      "ssr based F test:         F=6.2123  , p=0.0135  , df_denom=211, df_num=1\n",
      "ssr based chi2 test:   chi2=6.3006  , p=0.0121  , df=1\n",
      "likelihood ratio test: chi2=6.2096  , p=0.0127  , df=1\n",
      "parameter F test:         F=6.2123  , p=0.0135  , df_denom=211, df_num=1\n",
      "\n",
      "Granger Causality\n",
      "number of lags (no zero) 2\n",
      "ssr based F test:         F=6.8190  , p=0.0014  , df_denom=208, df_num=2\n",
      "ssr based chi2 test:   chi2=13.9658 , p=0.0009  , df=2\n",
      "likelihood ratio test: chi2=13.5271 , p=0.0012  , df=2\n",
      "parameter F test:         F=6.8190  , p=0.0014  , df_denom=208, df_num=2\n",
      "\n",
      "Granger Causality\n",
      "number of lags (no zero) 3\n",
      "ssr based F test:         F=8.2844  , p=0.0000  , df_denom=205, df_num=3\n",
      "ssr based chi2 test:   chi2=25.7018 , p=0.0000  , df=3\n",
      "likelihood ratio test: chi2=24.2593 , p=0.0000  , df=3\n",
      "parameter F test:         F=8.2844  , p=0.0000  , df_denom=205, df_num=3\n",
      "\n",
      "Granger Causality\n",
      "number of lags (no zero) 4\n",
      "ssr based F test:         F=6.0171  , p=0.0001  , df_denom=202, df_num=4\n",
      "ssr based chi2 test:   chi2=25.1407 , p=0.0000  , df=4\n",
      "likelihood ratio test: chi2=23.7522 , p=0.0001  , df=4\n",
      "parameter F test:         F=6.0171  , p=0.0001  , df_denom=202, df_num=4\n",
      "\n",
      "-------------------------------\n",
      "\n",
      "PIB Afeta o Consumo de Energia?\n",
      "-------------------------------\n",
      "\n",
      "Granger Causality\n",
      "number of lags (no zero) 1\n",
      "ssr based F test:         F=4.2536  , p=0.0404  , df_denom=211, df_num=1\n",
      "ssr based chi2 test:   chi2=4.3141  , p=0.0378  , df=1\n",
      "likelihood ratio test: chi2=4.2712  , p=0.0388  , df=1\n",
      "parameter F test:         F=4.2536  , p=0.0404  , df_denom=211, df_num=1\n",
      "\n",
      "Granger Causality\n",
      "number of lags (no zero) 2\n",
      "ssr based F test:         F=9.7141  , p=0.0001  , df_denom=208, df_num=2\n",
      "ssr based chi2 test:   chi2=19.8952 , p=0.0000  , df=2\n",
      "likelihood ratio test: chi2=19.0202 , p=0.0001  , df=2\n",
      "parameter F test:         F=9.7141  , p=0.0001  , df_denom=208, df_num=2\n",
      "\n",
      "Granger Causality\n",
      "number of lags (no zero) 3\n",
      "ssr based F test:         F=14.6061 , p=0.0000  , df_denom=205, df_num=3\n",
      "ssr based chi2 test:   chi2=45.3146 , p=0.0000  , df=3\n",
      "likelihood ratio test: chi2=41.0672 , p=0.0000  , df=3\n",
      "parameter F test:         F=14.6061 , p=0.0000  , df_denom=205, df_num=3\n",
      "\n",
      "Granger Causality\n",
      "number of lags (no zero) 4\n",
      "ssr based F test:         F=10.4547 , p=0.0000  , df_denom=202, df_num=4\n",
      "ssr based chi2 test:   chi2=43.6821 , p=0.0000  , df=4\n",
      "likelihood ratio test: chi2=39.7013 , p=0.0000  , df=4\n",
      "parameter F test:         F=10.4547 , p=0.0000  , df_denom=202, df_num=4\n"
     ]
    }
   ],
   "source": [
    "print('O Consumo de Energia Afeta o PIB?')\n",
    "print('-------------------------------')\n",
    "granger_1 = grangercausalitytests(df_energia[['PIB_Var','Consumo de Energia Nacional Var']][1:],4)\n",
    "print('\\n-------------------------------\\n')\n",
    "print('PIB Afeta o Consumo de Energia?')\n",
    "print('-------------------------------')\n",
    "granger_2 = grangercausalitytests(df_energia[['Consumo de Energia Nacional Var','PIB_Var']][1:],4)\n"
   ]
  },
  {
   "cell_type": "code",
   "execution_count": 189,
   "id": "caa4d373",
   "metadata": {},
   "outputs": [],
   "source": [
    "train_df = df_energia[['PIB','Consumo de Energia Nacional']][:-12]\n",
    "test_df = df_energia[['PIB','Consumo de Energia Nacional']][-12:]"
   ]
  },
  {
   "cell_type": "code",
   "execution_count": 190,
   "id": "d3024f47",
   "metadata": {
    "scrolled": false
   },
   "outputs": [
    {
     "name": "stdout",
     "output_type": "stream",
     "text": [
      " VAR Order Selection (* highlights the minimums)  \n",
      "==================================================\n",
      "       AIC         BIC         FPE         HQIC   \n",
      "--------------------------------------------------\n",
      "0        46.61       46.64   1.745e+20       46.62\n",
      "1        46.56       46.67   1.663e+20       46.60\n",
      "2        46.46       46.64   1.508e+20       46.53\n",
      "3        46.27       46.52   1.246e+20       46.37\n",
      "4        46.24       46.55   1.205e+20       46.37\n",
      "5        46.11       46.49   1.058e+20       46.26\n",
      "6        45.91       46.36   8.660e+19       46.09\n",
      "7        45.86       46.39   8.287e+19       46.08\n",
      "8        45.75       46.35   7.397e+19       45.99\n",
      "9        45.69       46.35   6.962e+19       45.96\n",
      "10       45.49       46.22   5.687e+19       45.78\n",
      "11       45.29       46.10   4.674e+19       45.62\n",
      "12       45.18      46.05*   4.178e+19       45.53\n",
      "13       45.14       46.08   4.025e+19      45.52*\n",
      "14       45.12       46.14   3.957e+19       45.53\n",
      "15       45.13       46.22   4.017e+19       45.57\n",
      "16      45.11*       46.27  3.939e+19*       45.58\n",
      "17       45.12       46.34   3.960e+19       45.61\n",
      "18       45.12       46.42   3.998e+19       45.65\n",
      "19       45.14       46.51   4.071e+19       45.69\n",
      "20       45.16       46.59   4.144e+19       45.74\n",
      "--------------------------------------------------\n"
     ]
    },
    {
     "name": "stderr",
     "output_type": "stream",
     "text": [
      "d:\\python\\lib\\site-packages\\statsmodels\\tsa\\base\\tsa_model.py:590: ValueWarning: An unsupported index was provided and will be ignored when e.g. forecasting.\n",
      "  warnings.warn('An unsupported index was provided and will be'\n"
     ]
    }
   ],
   "source": [
    "model = VAR(train_df.diff()[1:])\n",
    "sorted_order = model.select_order(maxlags=20)\n",
    "print(sorted_order.summary())"
   ]
  },
  {
   "cell_type": "code",
   "execution_count": 191,
   "id": "6b19c81d",
   "metadata": {
    "scrolled": false
   },
   "outputs": [
    {
     "name": "stderr",
     "output_type": "stream",
     "text": [
      "d:\\python\\lib\\site-packages\\statsmodels\\tsa\\statespace\\varmax.py:374: UserWarning: Non-stationary starting autoregressive parameters found. Using zeros as starting parameters.\n",
      "  warn('Non-stationary starting autoregressive parameters'\n",
      "d:\\python\\lib\\site-packages\\statsmodels\\base\\model.py:604: ConvergenceWarning: Maximum Likelihood optimization failed to converge. Check mle_retvals\n",
      "  warnings.warn(\"Maximum Likelihood optimization failed to \"\n"
     ]
    },
    {
     "name": "stdout",
     "output_type": "stream",
     "text": [
      "                                     Statespace Model Results                                     \n",
      "==================================================================================================\n",
      "Dep. Variable:     ['PIB', 'Consumo de Energia Nacional']   No. Observations:                  204\n",
      "Model:                                             VAR(4)   Log Likelihood               -5918.470\n",
      "                                              + intercept   AIC                          11878.940\n",
      "Date:                                    Sun, 06 Mar 2022   BIC                          11948.620\n",
      "Time:                                            00:57:52   HQIC                         11907.127\n",
      "Sample:                                                 0                                         \n",
      "                                                    - 204                                         \n",
      "Covariance Type:                                      opg                                         \n",
      "===================================================================================\n",
      "Ljung-Box (L1) (Q):          95.94, 145.55   Jarque-Bera (JB):           2.69, 1.08\n",
      "Prob(Q):                        0.00, 0.00   Prob(JB):                   0.26, 0.58\n",
      "Heteroskedasticity (H):         0.88, 1.43   Skew:                     -0.24, -0.00\n",
      "Prob(H) (two-sided):            0.59, 0.14   Kurtosis:                   3.30, 2.64\n",
      "                                     Results for equation PIB                                     \n",
      "==================================================================================================\n",
      "                                     coef    std err          z      P>|z|      [0.025      0.975]\n",
      "--------------------------------------------------------------------------------------------------\n",
      "intercept                       3.928e+05   6.48e-05   6.06e+09      0.000    3.93e+05    3.93e+05\n",
      "L1.PIB                             0.6200      0.065      9.508      0.000       0.492       0.748\n",
      "L1.Consumo de Energia Nacional    -0.0139      0.001    -15.922      0.000      -0.016      -0.012\n",
      "L2.PIB                             0.1661      0.074      2.257      0.024       0.022       0.310\n",
      "L2.Consumo de Energia Nacional     0.0037      0.001      2.703      0.007       0.001       0.006\n",
      "L3.PIB                             0.0266      0.062      0.428      0.669      -0.095       0.148\n",
      "L3.Consumo de Energia Nacional    -0.0006      0.001     -0.422      0.673      -0.003       0.002\n",
      "L4.PIB                             0.5410      0.053     10.212      0.000       0.437       0.645\n",
      "L4.Consumo de Energia Nacional    -0.0041      0.001     -3.769      0.000      -0.006      -0.002\n",
      "                         Results for equation Consumo de Energia Nacional                         \n",
      "==================================================================================================\n",
      "                                     coef    std err          z      P>|z|      [0.025      0.975]\n",
      "--------------------------------------------------------------------------------------------------\n",
      "intercept                       3.553e+07   4.95e-06   7.17e+12      0.000    3.55e+07    3.55e+07\n",
      "L1.PIB                            14.3919      1.697      8.480      0.000      11.066      17.718\n",
      "L1.Consumo de Energia Nacional    -0.0513      0.024     -2.098      0.036      -0.099      -0.003\n",
      "L2.PIB                            -8.9143      2.147     -4.151      0.000     -13.123      -4.705\n",
      "L2.Consumo de Energia Nacional     0.3489      0.037      9.314      0.000       0.275       0.422\n",
      "L3.PIB                            -3.4121      2.145     -1.590      0.112      -7.617       0.793\n",
      "L3.Consumo de Energia Nacional    -0.1165      0.042     -2.761      0.006      -0.199      -0.034\n",
      "L4.PIB                            33.9833      1.558     21.809      0.000      30.929      37.037\n",
      "L4.Consumo de Energia Nacional    -0.5697      0.028    -20.284      0.000      -0.625      -0.515\n",
      "                                          Error covariance matrix                                           \n",
      "============================================================================================================\n",
      "                                               coef    std err          z      P>|z|      [0.025      0.975]\n",
      "------------------------------------------------------------------------------------------------------------\n",
      "sqrt.var.PIB                               1.44e+04      0.004   3.53e+06      0.000    1.44e+04    1.44e+04\n",
      "sqrt.cov.PIB.Consumo de Energia Nacional  1.827e+05   8.96e-05   2.04e+09      0.000    1.83e+05    1.83e+05\n",
      "sqrt.var.Consumo de Energia Nacional      7.138e+05      0.000   2.72e+09      0.000    7.14e+05    7.14e+05\n",
      "============================================================================================================\n",
      "\n",
      "Warnings:\n",
      "[1] Covariance matrix calculated using the outer product of gradients (complex-step).\n",
      "[2] Covariance matrix is singular or near-singular, with condition number 1.69e+25. Standard errors may be unstable.\n"
     ]
    }
   ],
   "source": [
    "var_model = VARMAX(train_df,order =(4,0), enforce_stationarity=True)\n",
    "fitted_model = var_model.fit(disp=False)\n",
    "print(fitted_model.summary())"
   ]
  },
  {
   "cell_type": "code",
   "execution_count": 192,
   "id": "7d316852",
   "metadata": {},
   "outputs": [],
   "source": [
    "n_forecast = 12\n",
    "predict = fitted_model.get_prediction(start=len(train_df),end=len(train_df) + n_forecast -1)\n",
    "\n",
    "predictions = predict.predicted_mean"
   ]
  },
  {
   "cell_type": "code",
   "execution_count": 193,
   "id": "0507fb54",
   "metadata": {},
   "outputs": [
    {
     "data": {
      "text/html": [
       "<div>\n",
       "<style scoped>\n",
       "    .dataframe tbody tr th:only-of-type {\n",
       "        vertical-align: middle;\n",
       "    }\n",
       "\n",
       "    .dataframe tbody tr th {\n",
       "        vertical-align: top;\n",
       "    }\n",
       "\n",
       "    .dataframe thead th {\n",
       "        text-align: right;\n",
       "    }\n",
       "</style>\n",
       "<table border=\"1\" class=\"dataframe\">\n",
       "  <thead>\n",
       "    <tr style=\"text-align: right;\">\n",
       "      <th></th>\n",
       "      <th>PIB</th>\n",
       "      <th>Consumo de Energia Nacional</th>\n",
       "    </tr>\n",
       "  </thead>\n",
       "  <tbody>\n",
       "    <tr>\n",
       "      <th>204</th>\n",
       "      <td>668165.251318</td>\n",
       "      <td>4.311975e+07</td>\n",
       "    </tr>\n",
       "    <tr>\n",
       "      <th>205</th>\n",
       "      <td>653856.289340</td>\n",
       "      <td>4.247881e+07</td>\n",
       "    </tr>\n",
       "    <tr>\n",
       "      <th>206</th>\n",
       "      <td>663227.236724</td>\n",
       "      <td>4.365502e+07</td>\n",
       "    </tr>\n",
       "    <tr>\n",
       "      <th>207</th>\n",
       "      <td>654692.782684</td>\n",
       "      <td>4.382739e+07</td>\n",
       "    </tr>\n",
       "    <tr>\n",
       "      <th>208</th>\n",
       "      <td>639537.987959</td>\n",
       "      <td>4.298036e+07</td>\n",
       "    </tr>\n",
       "    <tr>\n",
       "      <th>209</th>\n",
       "      <td>635502.542907</td>\n",
       "      <td>4.265174e+07</td>\n",
       "    </tr>\n",
       "    <tr>\n",
       "      <th>210</th>\n",
       "      <td>631893.134034</td>\n",
       "      <td>4.210753e+07</td>\n",
       "    </tr>\n",
       "    <tr>\n",
       "      <th>211</th>\n",
       "      <td>630115.027944</td>\n",
       "      <td>4.176700e+07</td>\n",
       "    </tr>\n",
       "    <tr>\n",
       "      <th>212</th>\n",
       "      <td>626469.748224</td>\n",
       "      <td>4.162077e+07</td>\n",
       "    </tr>\n",
       "    <tr>\n",
       "      <th>213</th>\n",
       "      <td>624075.858534</td>\n",
       "      <td>4.159865e+07</td>\n",
       "    </tr>\n",
       "    <tr>\n",
       "      <th>214</th>\n",
       "      <td>622171.941256</td>\n",
       "      <td>4.177992e+07</td>\n",
       "    </tr>\n",
       "    <tr>\n",
       "      <th>215</th>\n",
       "      <td>618411.891444</td>\n",
       "      <td>4.191989e+07</td>\n",
       "    </tr>\n",
       "  </tbody>\n",
       "</table>\n",
       "</div>"
      ],
      "text/plain": [
       "               PIB  Consumo de Energia Nacional\n",
       "204  668165.251318                 4.311975e+07\n",
       "205  653856.289340                 4.247881e+07\n",
       "206  663227.236724                 4.365502e+07\n",
       "207  654692.782684                 4.382739e+07\n",
       "208  639537.987959                 4.298036e+07\n",
       "209  635502.542907                 4.265174e+07\n",
       "210  631893.134034                 4.210753e+07\n",
       "211  630115.027944                 4.176700e+07\n",
       "212  626469.748224                 4.162077e+07\n",
       "213  624075.858534                 4.159865e+07\n",
       "214  622171.941256                 4.177992e+07\n",
       "215  618411.891444                 4.191989e+07"
      ]
     },
     "execution_count": 193,
     "metadata": {},
     "output_type": "execute_result"
    }
   ],
   "source": [
    "predictions"
   ]
  },
  {
   "cell_type": "code",
   "execution_count": 194,
   "id": "70519b15",
   "metadata": {},
   "outputs": [],
   "source": [
    "test_vs_pred=pd.concat([test_df,predictions],axis=1)"
   ]
  },
  {
   "cell_type": "code",
   "execution_count": 195,
   "id": "bcbefd2b",
   "metadata": {},
   "outputs": [
    {
     "data": {
      "text/plain": [
       "<AxesSubplot:>"
      ]
     },
     "execution_count": 195,
     "metadata": {},
     "output_type": "execute_result"
    },
    {
     "data": {
      "image/png": "[encoded data removed]",
      "text/plain": [
       "<Figure size 864x360 with 1 Axes>"
      ]
     },
     "metadata": {
      "needs_background": "light"
     },
     "output_type": "display_data"
    }
   ],
   "source": [
    "test_vs_pred.plot(figsize=(12,5))"
   ]
  }
 ],
 "metadata": {
  "kernelspec": {
   "display_name": "Python 3",
   "language": "python",
   "name": "python3"
  },
  "language_info": {
   "codemirror_mode": {
    "name": "ipython",
    "version": 3
   },
   "file_extension": ".py",
   "mimetype": "text/x-python",
   "name": "python",
   "nbconvert_exporter": "python",
   "pygments_lexer": "ipython3",
   "version": "3.9.5"
  }
 },
 "nbformat": 4,
 "nbformat_minor": 5
}
